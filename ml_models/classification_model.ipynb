{
 "cells": [
  {
   "cell_type": "markdown",
   "id": "considerable-disco",
   "metadata": {
    "id": "considerable-disco"
   },
   "source": [
    "## Building a Simple Decision Tree\n",
    "\n",
    "In this tutorial we'll build a machine learning model that classifies molecules as soluble or insoluble.  After building the model, we'll visualize the results.  "
   ]
  },
  {
   "cell_type": "markdown",
   "id": "a8df1c2b",
   "metadata": {},
   "source": [
    "### Software Installation\n",
    "One of the Python libraries [dtreeviz](https://github.com/parrt/dtreeviz) that we are going to install requires the installation of a program called [graphviz](https://graphviz.org/).  We can use [apt-get](https://help.ubuntu.com/community/AptGet/Howto) to install graphviz. "
   ]
  },
  {
   "cell_type": "code",
   "execution_count": 11,
   "id": "77dc7188",
   "metadata": {
    "colab": {
     "base_uri": "https://localhost:8080/"
    },
    "executionInfo": {
     "elapsed": 4294,
     "status": "ok",
     "timestamp": 1644717522708,
     "user": {
      "displayName": "",
      "photoUrl": "",
      "userId": ""
     },
     "user_tz": 300
    },
    "id": "77dc7188",
    "outputId": "2f65f489-fa8d-4761-b1be-aff0bc4c682b",
    "scrolled": true
   },
   "outputs": [
    {
     "name": "stdout",
     "output_type": "stream",
     "text": [
      "E: Could not open lock file /var/lib/dpkg/lock-frontend - open (13: Permission denied)\n",
      "E: Unable to acquire the dpkg frontend lock (/var/lib/dpkg/lock-frontend), are you root?\n"
     ]
    }
   ],
   "source": [
    "!apt-get install graphviz"
   ]
  },
  {
   "cell_type": "markdown",
   "id": "dc5e22ed",
   "metadata": {},
   "source": [
    "Install the necessary Python libraries"
   ]
  },
  {
   "cell_type": "code",
   "execution_count": 12,
   "id": "195fbe56",
   "metadata": {
    "colab": {
     "base_uri": "https://localhost:8080/"
    },
    "executionInfo": {
     "elapsed": 9681,
     "status": "ok",
     "timestamp": 1644717882585,
     "user": {
      "displayName": "",
      "photoUrl": "",
      "userId": ""
     },
     "user_tz": 300
    },
    "id": "195fbe56",
    "outputId": "881b82c4-08cb-465f-ac7b-94da65bd4238",
    "scrolled": true
   },
   "outputs": [
    {
     "name": "stdout",
     "output_type": "stream",
     "text": [
      "Collecting dtreeviz\n",
      "  Obtaining dependency information for dtreeviz from https://files.pythonhosted.org/packages/b3/e8/44eb59345d8ba9d2f6610df6441d63082f46021c1685de24716c22f55383/dtreeviz-2.2.2-py3-none-any.whl.metadata\n",
      "  Downloading dtreeviz-2.2.2-py3-none-any.whl.metadata (2.4 kB)\n",
      "Collecting rdkit-pypi\n",
      "  Downloading rdkit_pypi-2022.9.5-cp38-cp38-manylinux_2_17_x86_64.manylinux2014_x86_64.whl (29.4 MB)\n",
      "\u001b[2K     \u001b[38;2;114;156;31m━━━━━━━━━━━━━━━━━━━━━━━━━━━━━━━━━━━━━━━\u001b[0m \u001b[32m29.4/29.4 MB\u001b[0m \u001b[31m113.2 kB/s\u001b[0m eta \u001b[36m0:00:00\u001b[0mm eta \u001b[36m0:00:01\u001b[0m[36m0:00:08\u001b[0m\n",
      "\u001b[?25hCollecting PyTDC\n",
      "  Downloading PyTDC-0.4.1.tar.gz (107 kB)\n",
      "\u001b[2K     \u001b[38;2;114;156;31m━━━━━━━━━━━━━━━━━━━━━━━━━━━━━━━━━━━━━\u001b[0m \u001b[32m107.7/107.7 kB\u001b[0m \u001b[31m697.6 kB/s\u001b[0m eta \u001b[36m0:00:00\u001b[0m1m423.2 kB/s\u001b[0m eta \u001b[36m0:00:01\u001b[0m\n",
      "\u001b[?25h  Preparing metadata (setup.py) ... \u001b[?25ldone\n",
      "\u001b[?25hCollecting graphviz>=0.9 (from dtreeviz)\n",
      "  Downloading graphviz-0.20.1-py3-none-any.whl (47 kB)\n",
      "\u001b[2K     \u001b[38;2;114;156;31m━━━━━━━━━━━━━━━━━━━━━━━━━━━━━━━━━━━━━━━\u001b[0m \u001b[32m47.0/47.0 kB\u001b[0m \u001b[31m402.0 kB/s\u001b[0m eta \u001b[36m0:00:00\u001b[0m kB/s\u001b[0m eta \u001b[36m0:00:01\u001b[0m\n",
      "\u001b[?25hRequirement already satisfied: pandas in /home/dom/anaconda3/envs/rdkit/lib/python3.8/site-packages (from dtreeviz) (1.1.4)\n",
      "Requirement already satisfied: numpy in /home/dom/anaconda3/envs/rdkit/lib/python3.8/site-packages (from dtreeviz) (1.24.4)\n",
      "Requirement already satisfied: scikit-learn in /home/dom/anaconda3/envs/rdkit/lib/python3.8/site-packages (from dtreeviz) (1.3.1)\n",
      "Requirement already satisfied: matplotlib in /home/dom/anaconda3/envs/rdkit/lib/python3.8/site-packages (from dtreeviz) (3.4.3)\n",
      "Collecting colour (from dtreeviz)\n",
      "  Downloading colour-0.1.5-py2.py3-none-any.whl (23 kB)\n",
      "Requirement already satisfied: pytest in /home/dom/anaconda3/envs/rdkit/lib/python3.8/site-packages (from dtreeviz) (7.4.2)\n",
      "Requirement already satisfied: Pillow in /home/dom/anaconda3/envs/rdkit/lib/python3.8/site-packages (from rdkit-pypi) (10.0.1)\n",
      "Collecting fuzzywuzzy (from PyTDC)\n",
      "  Downloading fuzzywuzzy-0.18.0-py2.py3-none-any.whl (18 kB)\n",
      "Requirement already satisfied: tqdm in /home/dom/anaconda3/envs/rdkit/lib/python3.8/site-packages (from PyTDC) (4.66.1)\n",
      "Requirement already satisfied: seaborn in /home/dom/anaconda3/envs/rdkit/lib/python3.8/site-packages (from PyTDC) (0.12.2)\n",
      "Requirement already satisfied: requests in /home/dom/anaconda3/envs/rdkit/lib/python3.8/site-packages (from PyTDC) (2.31.0)\n",
      "Collecting huggingface_hub (from PyTDC)\n",
      "  Obtaining dependency information for huggingface_hub from https://files.pythonhosted.org/packages/05/09/1945ca6ba3ad8ad6e2872ba682ce8d68c5e63c8e55458ed8ab4885709f1d/huggingface_hub-0.19.4-py3-none-any.whl.metadata\n",
      "  Downloading huggingface_hub-0.19.4-py3-none-any.whl.metadata (14 kB)\n",
      "Collecting dataclasses (from PyTDC)\n",
      "  Downloading dataclasses-0.6-py3-none-any.whl (14 kB)\n",
      "Requirement already satisfied: filelock in /home/dom/anaconda3/envs/rdkit/lib/python3.8/site-packages (from huggingface_hub->PyTDC) (3.13.1)\n",
      "Requirement already satisfied: fsspec>=2023.5.0 in /home/dom/anaconda3/envs/rdkit/lib/python3.8/site-packages (from huggingface_hub->PyTDC) (2023.12.0)\n",
      "Requirement already satisfied: pyyaml>=5.1 in /home/dom/anaconda3/envs/rdkit/lib/python3.8/site-packages (from huggingface_hub->PyTDC) (6.0.1)\n",
      "Requirement already satisfied: typing-extensions>=3.7.4.3 in /home/dom/anaconda3/envs/rdkit/lib/python3.8/site-packages (from huggingface_hub->PyTDC) (4.8.0)\n",
      "Requirement already satisfied: packaging>=20.9 in /home/dom/anaconda3/envs/rdkit/lib/python3.8/site-packages (from huggingface_hub->PyTDC) (23.2)\n",
      "Requirement already satisfied: cycler>=0.10 in /home/dom/anaconda3/envs/rdkit/lib/python3.8/site-packages (from matplotlib->dtreeviz) (0.12.1)\n",
      "Requirement already satisfied: kiwisolver>=1.0.1 in /home/dom/anaconda3/envs/rdkit/lib/python3.8/site-packages (from matplotlib->dtreeviz) (1.4.5)\n",
      "Requirement already satisfied: pyparsing>=2.2.1 in /home/dom/anaconda3/envs/rdkit/lib/python3.8/site-packages (from matplotlib->dtreeviz) (3.1.1)\n",
      "Requirement already satisfied: python-dateutil>=2.7 in /home/dom/anaconda3/envs/rdkit/lib/python3.8/site-packages (from matplotlib->dtreeviz) (2.8.2)\n",
      "Requirement already satisfied: pytz>=2017.2 in /home/dom/anaconda3/envs/rdkit/lib/python3.8/site-packages (from pandas->dtreeviz) (2023.3.post1)\n",
      "Requirement already satisfied: iniconfig in /home/dom/anaconda3/envs/rdkit/lib/python3.8/site-packages (from pytest->dtreeviz) (2.0.0)\n",
      "Requirement already satisfied: pluggy<2.0,>=0.12 in /home/dom/anaconda3/envs/rdkit/lib/python3.8/site-packages (from pytest->dtreeviz) (1.3.0)\n",
      "Requirement already satisfied: exceptiongroup>=1.0.0rc8 in /home/dom/anaconda3/envs/rdkit/lib/python3.8/site-packages (from pytest->dtreeviz) (1.1.3)\n",
      "Requirement already satisfied: tomli>=1.0.0 in /home/dom/.local/lib/python3.8/site-packages (from pytest->dtreeviz) (2.0.1)\n",
      "Requirement already satisfied: charset-normalizer<4,>=2 in /home/dom/anaconda3/envs/rdkit/lib/python3.8/site-packages (from requests->PyTDC) (3.3.0)\n",
      "Requirement already satisfied: idna<4,>=2.5 in /home/dom/anaconda3/envs/rdkit/lib/python3.8/site-packages (from requests->PyTDC) (3.4)\n",
      "Requirement already satisfied: urllib3<3,>=1.21.1 in /home/dom/anaconda3/envs/rdkit/lib/python3.8/site-packages (from requests->PyTDC) (1.26.8)\n",
      "Requirement already satisfied: certifi>=2017.4.17 in /home/dom/anaconda3/envs/rdkit/lib/python3.8/site-packages (from requests->PyTDC) (2023.11.17)\n",
      "Requirement already satisfied: scipy>=1.5.0 in /home/dom/anaconda3/envs/rdkit/lib/python3.8/site-packages (from scikit-learn->dtreeviz) (1.10.1)\n",
      "Requirement already satisfied: joblib>=1.1.1 in /home/dom/anaconda3/envs/rdkit/lib/python3.8/site-packages (from scikit-learn->dtreeviz) (1.3.2)\n",
      "Requirement already satisfied: threadpoolctl>=2.0.0 in /home/dom/anaconda3/envs/rdkit/lib/python3.8/site-packages (from scikit-learn->dtreeviz) (3.2.0)\n",
      "Requirement already satisfied: six>=1.5 in /home/dom/anaconda3/envs/rdkit/lib/python3.8/site-packages (from python-dateutil>=2.7->matplotlib->dtreeviz) (1.16.0)\n",
      "Downloading dtreeviz-2.2.2-py3-none-any.whl (91 kB)\n",
      "\u001b[2K   \u001b[38;2;114;156;31m━━━━━━━━━━━━━━━━━━━━━━━━━━━━━━━━━━━━━━━━\u001b[0m \u001b[32m91.8/91.8 kB\u001b[0m \u001b[31m401.1 kB/s\u001b[0m eta \u001b[36m0:00:00\u001b[0m1m307.2 kB/s\u001b[0m eta \u001b[36m0:00:01\u001b[0m\n",
      "\u001b[?25hDownloading huggingface_hub-0.19.4-py3-none-any.whl (311 kB)\n",
      "\u001b[2K   \u001b[38;2;114;156;31m━━━━━━━━━━━━━━━━━━━━━━━━━━━━━━━━━━━━━━━\u001b[0m \u001b[32m311.7/311.7 kB\u001b[0m \u001b[31m717.7 kB/s\u001b[0m eta \u001b[36m0:00:00\u001b[0m kB/s\u001b[0m eta \u001b[36m0:00:01\u001b[0m:01\u001b[0m\n",
      "\u001b[?25hBuilding wheels for collected packages: PyTDC\n",
      "  Building wheel for PyTDC (setup.py) ... \u001b[?25ldone\n",
      "\u001b[?25h  Created wheel for PyTDC: filename=PyTDC-0.4.1-py3-none-any.whl size=140662 sha256=1282e9cb886fbd864ed6e46068c1919289ee836d2885a7ddafbaa1ce44537e57\n",
      "  Stored in directory: /home/dom/.cache/pip/wheels/c7/e3/01/620ac4dc63e555a41bd97a49c7d0198fd2889ce01a8c19552e\n",
      "Successfully built PyTDC\n",
      "Installing collected packages: fuzzywuzzy, dataclasses, colour, rdkit-pypi, graphviz, huggingface_hub, dtreeviz, PyTDC\n",
      "Successfully installed PyTDC-0.4.1 colour-0.1.5 dataclasses-0.6 dtreeviz-2.2.2 fuzzywuzzy-0.18.0 graphviz-0.20.1 huggingface_hub-0.19.4 rdkit-pypi-2022.9.5\n"
     ]
    }
   ],
   "source": [
    "!pip install dtreeviz rdkit-pypi PyTDC"
   ]
  },
  {
   "cell_type": "markdown",
   "id": "b0ae2059",
   "metadata": {},
   "source": [
    "### Setup\n",
    "Import the necessary Python libraries"
   ]
  },
  {
   "cell_type": "code",
   "execution_count": 53,
   "id": "monthly-valuable",
   "metadata": {
    "executionInfo": {
     "elapsed": 292,
     "status": "ok",
     "timestamp": 1644717890126,
     "user": {
      "displayName": "",
      "photoUrl": "",
      "userId": ""
     },
     "user_tz": 300
    },
    "id": "monthly-valuable"
   },
   "outputs": [],
   "source": [
    "import pandas as pd #data table manipulation\n",
    "from rdkit import Chem # basic cheminformatics\n",
    "from rdkit.Chem.Descriptors import MolWt, MolLogP, NumAromaticRings, NumHDonors, NumHAcceptors\n",
    "import math #needed for log10\n",
    "import seaborn as sns #plotting\n",
    "from sklearn.tree import DecisionTreeClassifier, plot_tree # decision trees\n",
    "from sklearn.model_selection import train_test_split # split a dataset\n",
    "from tqdm import tqdm # progress bar\n",
    "from matplotlib import pyplot as plt # plotting\n",
    "# from dtreeviz.trees import * #plotting decision trees\n",
    "# from sklearn.metrics import roc_auc_score, matthews_corrcoef, cohen_kappa_score, plot_roc_curve, plot_confusion_matrix # model stats\n",
    "from sklearn.metrics import roc_auc_score, matthews_corrcoef, cohen_kappa_score, ConfusionMatrixDisplay # model stats\n",
    "# import sklearn.metrics.RocCurveDisplay.from_estimator\n",
    "from tdc.single_pred import ADME\n",
    "from rdkit.Chem.MolStandardize import rdMolStandardize\n",
    "from rdkit.rdBase import BlockLogs\n",
    "import dtreeviz"
   ]
  },
  {
   "cell_type": "markdown",
   "id": "worth-bernard",
   "metadata": {
    "id": "worth-bernard"
   },
   "source": [
    "We want to have progress bars for operations we perfrom on the Pandas dataframe.  In order to do this we neeed to use the function [tqdm.pandas](https://datascientyst.com/progress-bars-pandas-python-tqdm/)."
   ]
  },
  {
   "cell_type": "code",
   "execution_count": 14,
   "id": "undefined-booking",
   "metadata": {
    "executionInfo": {
     "elapsed": 289,
     "status": "ok",
     "timestamp": 1644717896385,
     "user": {
      "displayName": "",
      "photoUrl": "",
      "userId": ""
     },
     "user_tz": 300
    },
    "id": "undefined-booking"
   },
   "outputs": [],
   "source": [
    "tqdm.pandas()"
   ]
  },
  {
   "cell_type": "markdown",
   "id": "charitable-break",
   "metadata": {
    "id": "charitable-break"
   },
   "source": [
    "A simple function to calculate molecular weight, LogP, number of aromatic rings, number of hydrogen bond donors and acceptors from a SMILES"
   ]
  },
  {
   "cell_type": "code",
   "execution_count": 15,
   "id": "spanish-decade",
   "metadata": {
    "executionInfo": {
     "elapsed": 275,
     "status": "ok",
     "timestamp": 1644717899300,
     "user": {
      "displayName": "",
      "photoUrl": "",
      "userId": ""
     },
     "user_tz": 300
    },
    "id": "spanish-decade"
   },
   "outputs": [],
   "source": [
    "def calc_descriptors(mol):\n",
    "    if mol:\n",
    "        Chem.DeleteSubstructs(mol, Chem.MolFromSmarts(\"[#1X0]\"))\n",
    "        mw, logp, num_arom_rings, hbd, hba = [x(mol) for x in [MolWt, MolLogP, NumAromaticRings, NumHDonors, NumHAcceptors]]\n",
    "        res = [mw, logp, num_arom_rings, hbd, hba]\n",
    "    else:\n",
    "        res = [None] * 5\n",
    "    return res"
   ]
  },
  {
   "cell_type": "markdown",
   "id": "b462fc8f",
   "metadata": {},
   "source": [
    "The molecules in this dataset have a number of salts and other functionality that can create issues with descriptor calcuations.  In order to avoid some of these problems we can use the function below to standardize the molecules. "
   ]
  },
  {
   "cell_type": "code",
   "execution_count": 16,
   "id": "e59d8c30",
   "metadata": {},
   "outputs": [],
   "source": [
    "def standardize(smiles):\n",
    "    # Code borrowed from https://bitsilla.com/blog/2021/06/standardizing-a-molecule-using-rdkit/\n",
    "    # follows the steps in\n",
    "    # https://github.com/greglandrum/RSC_OpenScience_Standardization_202104/blob/main/MolStandardize%20pieces.ipynb\n",
    "    # as described **excellently** (by Greg) in\n",
    "    # https://www.youtube.com/watch?v=eWTApNX8dJQ\n",
    "    mol = Chem.MolFromSmiles(smiles)\n",
    "     \n",
    "    # removeHs, disconnect metal atoms, normalize the molecule, reionize the molecule\n",
    "    clean_mol = rdMolStandardize.Cleanup(mol) \n",
    "     \n",
    "    # if many fragments, get the \"parent\" (the actual mol we are interested in) \n",
    "    parent_clean_mol = rdMolStandardize.FragmentParent(clean_mol)\n",
    "         \n",
    "    # try to neutralize molecule\n",
    "    uncharger = rdMolStandardize.Uncharger() # annoying, but necessary as no convenience method exists\n",
    "    uncharged_parent_clean_mol = uncharger.uncharge(parent_clean_mol)\n",
    "     \n",
    "    # note that no attempt is made at reionization at this step\n",
    "    # nor at ionization at some pH (rdkit has no pKa caculator)\n",
    "    # the main aim to to represent all molecules from different sources\n",
    "    # in a (single) standard way, for use in ML, catalogue, etc.\n",
    "     \n",
    "    te = rdMolStandardize.TautomerEnumerator() # idem\n",
    "    taut_uncharged_parent_clean_mol = te.Canonicalize(uncharged_parent_clean_mol)\n",
    "     \n",
    "    return taut_uncharged_parent_clean_mol"
   ]
  },
  {
   "cell_type": "markdown",
   "id": "static-statistics",
   "metadata": {
    "id": "static-statistics"
   },
   "source": [
    "### Reading the Input Data\n",
    "Read data from [\"ESOL:  Estimating Aqueous Solubility Directly from Molecular Structure\"](https://pubs.acs.org/doi/10.1021/ci034243x) as supplied by [Therapeutic Data Commons](https://tdcommons.ai/)"
   ]
  },
  {
   "cell_type": "code",
   "execution_count": 17,
   "id": "bf4f2170",
   "metadata": {
    "colab": {
     "base_uri": "https://localhost:8080/"
    },
    "executionInfo": {
     "elapsed": 2481,
     "status": "ok",
     "timestamp": 1644717904700,
     "user": {
      "displayName": "",
      "photoUrl": "",
      "userId": ""
     },
     "user_tz": 300
    },
    "id": "bf4f2170",
    "outputId": "a423cbf7-97f2-41e1-ec80-4b5fa26ff9ce"
   },
   "outputs": [
    {
     "name": "stderr",
     "output_type": "stream",
     "text": [
      "Downloading...\n",
      "100%|████████████████████████████████████████████████████████████████████████████████████████████████████████████████████████████████████████████████████████████████████| 853k/853k [00:03<00:00, 271kiB/s]\n",
      "Loading...\n",
      "Done!\n"
     ]
    }
   ],
   "source": [
    "data = ADME(name = 'Solubility_AqSolDB')\n",
    "sol_df = data.get_data()"
   ]
  },
  {
   "cell_type": "markdown",
   "id": "aa73c290",
   "metadata": {},
   "source": [
    "Let's take a look at the input data, which has three columns\n",
    "- Drug_ID - the molecule name\n",
    "- Drug - the SMILES\n",
    "- Y - the log of the aqueous solubility in uM"
   ]
  },
  {
   "cell_type": "code",
   "execution_count": 18,
   "id": "drawn-pierre",
   "metadata": {
    "colab": {
     "base_uri": "https://localhost:8080/",
     "height": 423
    },
    "executionInfo": {
     "elapsed": 298,
     "status": "ok",
     "timestamp": 1644717967202,
     "user": {
      "displayName": "",
      "photoUrl": "",
      "userId": ""
     },
     "user_tz": 300
    },
    "id": "drawn-pierre",
    "outputId": "50e426d7-9719-4bad-d449-25cb1ab1939d"
   },
   "outputs": [
    {
     "data": {
      "text/html": [
       "<div>\n",
       "<style scoped>\n",
       "    .dataframe tbody tr th:only-of-type {\n",
       "        vertical-align: middle;\n",
       "    }\n",
       "\n",
       "    .dataframe tbody tr th {\n",
       "        vertical-align: top;\n",
       "    }\n",
       "\n",
       "    .dataframe thead th {\n",
       "        text-align: right;\n",
       "    }\n",
       "</style>\n",
       "<table border=\"1\" class=\"dataframe\">\n",
       "  <thead>\n",
       "    <tr style=\"text-align: right;\">\n",
       "      <th></th>\n",
       "      <th>Drug_ID</th>\n",
       "      <th>Drug</th>\n",
       "      <th>Y</th>\n",
       "    </tr>\n",
       "  </thead>\n",
       "  <tbody>\n",
       "    <tr>\n",
       "      <th>0</th>\n",
       "      <td>N,N,N-trimethyloctadecan-1-aminium bromide</td>\n",
       "      <td>CCCCCCCCCCCCCCCCCC[N+](C)(C)C.[Br-]</td>\n",
       "      <td>-3.616127</td>\n",
       "    </tr>\n",
       "    <tr>\n",
       "      <th>1</th>\n",
       "      <td>Benzo[cd]indol-2(1H)-one</td>\n",
       "      <td>O=C1Nc2cccc3cccc1c23</td>\n",
       "      <td>-3.254767</td>\n",
       "    </tr>\n",
       "    <tr>\n",
       "      <th>2</th>\n",
       "      <td>4-chlorobenzaldehyde</td>\n",
       "      <td>O=Cc1ccc(Cl)cc1</td>\n",
       "      <td>-2.177078</td>\n",
       "    </tr>\n",
       "    <tr>\n",
       "      <th>3</th>\n",
       "      <td>zinc bis[2-hydroxy-3,5-bis(1-phenylethyl)benzo...</td>\n",
       "      <td>CC(c1ccccc1)c1cc(C(=O)[O-])c(O)c(C(C)c2ccccc2)...</td>\n",
       "      <td>-3.924409</td>\n",
       "    </tr>\n",
       "    <tr>\n",
       "      <th>4</th>\n",
       "      <td>4-({4-[bis(oxiran-2-ylmethyl)amino]phenyl}meth...</td>\n",
       "      <td>c1cc(N(CC2CO2)CC2CO2)ccc1Cc1ccc(N(CC2CO2)CC2CO...</td>\n",
       "      <td>-4.662065</td>\n",
       "    </tr>\n",
       "    <tr>\n",
       "      <th>...</th>\n",
       "      <td>...</td>\n",
       "      <td>...</td>\n",
       "      <td>...</td>\n",
       "    </tr>\n",
       "    <tr>\n",
       "      <th>9977</th>\n",
       "      <td>tetracaine</td>\n",
       "      <td>CCCCNc1ccc(C(=O)OCCN(C)C)cc1</td>\n",
       "      <td>-3.010000</td>\n",
       "    </tr>\n",
       "    <tr>\n",
       "      <th>9978</th>\n",
       "      <td>tetracycline</td>\n",
       "      <td>CN(C)[C@@H]1C(O)=C(C(N)=O)C(=O)[C@@]2(O)C(O)=C...</td>\n",
       "      <td>-2.930000</td>\n",
       "    </tr>\n",
       "    <tr>\n",
       "      <th>9979</th>\n",
       "      <td>thymol</td>\n",
       "      <td>Cc1ccc(C(C)C)c(O)c1</td>\n",
       "      <td>-2.190000</td>\n",
       "    </tr>\n",
       "    <tr>\n",
       "      <th>9980</th>\n",
       "      <td>verapamil</td>\n",
       "      <td>COc1ccc(CCN(C)CCCC(C#N)(c2ccc(OC)c(OC)c2)C(C)C...</td>\n",
       "      <td>-3.980000</td>\n",
       "    </tr>\n",
       "    <tr>\n",
       "      <th>9981</th>\n",
       "      <td>warfarin</td>\n",
       "      <td>CC(=O)CC(c1ccccc1)c1c(O)c2ccccc2oc1=O</td>\n",
       "      <td>-4.780000</td>\n",
       "    </tr>\n",
       "  </tbody>\n",
       "</table>\n",
       "<p>9982 rows × 3 columns</p>\n",
       "</div>"
      ],
      "text/plain": [
       "                                                Drug_ID  \\\n",
       "0            N,N,N-trimethyloctadecan-1-aminium bromide   \n",
       "1                              Benzo[cd]indol-2(1H)-one   \n",
       "2                                  4-chlorobenzaldehyde   \n",
       "3     zinc bis[2-hydroxy-3,5-bis(1-phenylethyl)benzo...   \n",
       "4     4-({4-[bis(oxiran-2-ylmethyl)amino]phenyl}meth...   \n",
       "...                                                 ...   \n",
       "9977                                         tetracaine   \n",
       "9978                                       tetracycline   \n",
       "9979                                             thymol   \n",
       "9980                                          verapamil   \n",
       "9981                                           warfarin   \n",
       "\n",
       "                                                   Drug         Y  \n",
       "0                   CCCCCCCCCCCCCCCCCC[N+](C)(C)C.[Br-] -3.616127  \n",
       "1                                  O=C1Nc2cccc3cccc1c23 -3.254767  \n",
       "2                                       O=Cc1ccc(Cl)cc1 -2.177078  \n",
       "3     CC(c1ccccc1)c1cc(C(=O)[O-])c(O)c(C(C)c2ccccc2)... -3.924409  \n",
       "4     c1cc(N(CC2CO2)CC2CO2)ccc1Cc1ccc(N(CC2CO2)CC2CO... -4.662065  \n",
       "...                                                 ...       ...  \n",
       "9977                       CCCCNc1ccc(C(=O)OCCN(C)C)cc1 -3.010000  \n",
       "9978  CN(C)[C@@H]1C(O)=C(C(N)=O)C(=O)[C@@]2(O)C(O)=C... -2.930000  \n",
       "9979                                Cc1ccc(C(C)C)c(O)c1 -2.190000  \n",
       "9980  COc1ccc(CCN(C)CCCC(C#N)(c2ccc(OC)c(OC)c2)C(C)C... -3.980000  \n",
       "9981              CC(=O)CC(c1ccccc1)c1c(O)c2ccccc2oc1=O -4.780000  \n",
       "\n",
       "[9982 rows x 3 columns]"
      ]
     },
     "execution_count": 18,
     "metadata": {},
     "output_type": "execute_result"
    }
   ],
   "source": [
    "sol_df"
   ]
  },
  {
   "cell_type": "markdown",
   "id": "b90ba5ea",
   "metadata": {},
   "source": [
    "I don't like the names of the columns, let's rename them. "
   ]
  },
  {
   "cell_type": "code",
   "execution_count": 19,
   "id": "b894f56a",
   "metadata": {
    "colab": {
     "base_uri": "https://localhost:8080/",
     "height": 423
    },
    "executionInfo": {
     "elapsed": 260,
     "status": "ok",
     "timestamp": 1644717969164,
     "user": {
      "displayName": "",
      "photoUrl": "",
      "userId": ""
     },
     "user_tz": 300
    },
    "id": "b894f56a",
    "outputId": "4252db1f-43b5-43c4-c439-0d0d7ebe89bb"
   },
   "outputs": [
    {
     "data": {
      "text/html": [
       "<div>\n",
       "<style scoped>\n",
       "    .dataframe tbody tr th:only-of-type {\n",
       "        vertical-align: middle;\n",
       "    }\n",
       "\n",
       "    .dataframe tbody tr th {\n",
       "        vertical-align: top;\n",
       "    }\n",
       "\n",
       "    .dataframe thead th {\n",
       "        text-align: right;\n",
       "    }\n",
       "</style>\n",
       "<table border=\"1\" class=\"dataframe\">\n",
       "  <thead>\n",
       "    <tr style=\"text-align: right;\">\n",
       "      <th></th>\n",
       "      <th>Name</th>\n",
       "      <th>SMILES</th>\n",
       "      <th>LogS</th>\n",
       "    </tr>\n",
       "  </thead>\n",
       "  <tbody>\n",
       "    <tr>\n",
       "      <th>0</th>\n",
       "      <td>N,N,N-trimethyloctadecan-1-aminium bromide</td>\n",
       "      <td>CCCCCCCCCCCCCCCCCC[N+](C)(C)C.[Br-]</td>\n",
       "      <td>-3.616127</td>\n",
       "    </tr>\n",
       "    <tr>\n",
       "      <th>1</th>\n",
       "      <td>Benzo[cd]indol-2(1H)-one</td>\n",
       "      <td>O=C1Nc2cccc3cccc1c23</td>\n",
       "      <td>-3.254767</td>\n",
       "    </tr>\n",
       "    <tr>\n",
       "      <th>2</th>\n",
       "      <td>4-chlorobenzaldehyde</td>\n",
       "      <td>O=Cc1ccc(Cl)cc1</td>\n",
       "      <td>-2.177078</td>\n",
       "    </tr>\n",
       "    <tr>\n",
       "      <th>3</th>\n",
       "      <td>zinc bis[2-hydroxy-3,5-bis(1-phenylethyl)benzo...</td>\n",
       "      <td>CC(c1ccccc1)c1cc(C(=O)[O-])c(O)c(C(C)c2ccccc2)...</td>\n",
       "      <td>-3.924409</td>\n",
       "    </tr>\n",
       "    <tr>\n",
       "      <th>4</th>\n",
       "      <td>4-({4-[bis(oxiran-2-ylmethyl)amino]phenyl}meth...</td>\n",
       "      <td>c1cc(N(CC2CO2)CC2CO2)ccc1Cc1ccc(N(CC2CO2)CC2CO...</td>\n",
       "      <td>-4.662065</td>\n",
       "    </tr>\n",
       "    <tr>\n",
       "      <th>...</th>\n",
       "      <td>...</td>\n",
       "      <td>...</td>\n",
       "      <td>...</td>\n",
       "    </tr>\n",
       "    <tr>\n",
       "      <th>9977</th>\n",
       "      <td>tetracaine</td>\n",
       "      <td>CCCCNc1ccc(C(=O)OCCN(C)C)cc1</td>\n",
       "      <td>-3.010000</td>\n",
       "    </tr>\n",
       "    <tr>\n",
       "      <th>9978</th>\n",
       "      <td>tetracycline</td>\n",
       "      <td>CN(C)[C@@H]1C(O)=C(C(N)=O)C(=O)[C@@]2(O)C(O)=C...</td>\n",
       "      <td>-2.930000</td>\n",
       "    </tr>\n",
       "    <tr>\n",
       "      <th>9979</th>\n",
       "      <td>thymol</td>\n",
       "      <td>Cc1ccc(C(C)C)c(O)c1</td>\n",
       "      <td>-2.190000</td>\n",
       "    </tr>\n",
       "    <tr>\n",
       "      <th>9980</th>\n",
       "      <td>verapamil</td>\n",
       "      <td>COc1ccc(CCN(C)CCCC(C#N)(c2ccc(OC)c(OC)c2)C(C)C...</td>\n",
       "      <td>-3.980000</td>\n",
       "    </tr>\n",
       "    <tr>\n",
       "      <th>9981</th>\n",
       "      <td>warfarin</td>\n",
       "      <td>CC(=O)CC(c1ccccc1)c1c(O)c2ccccc2oc1=O</td>\n",
       "      <td>-4.780000</td>\n",
       "    </tr>\n",
       "  </tbody>\n",
       "</table>\n",
       "<p>9982 rows × 3 columns</p>\n",
       "</div>"
      ],
      "text/plain": [
       "                                                   Name  \\\n",
       "0            N,N,N-trimethyloctadecan-1-aminium bromide   \n",
       "1                              Benzo[cd]indol-2(1H)-one   \n",
       "2                                  4-chlorobenzaldehyde   \n",
       "3     zinc bis[2-hydroxy-3,5-bis(1-phenylethyl)benzo...   \n",
       "4     4-({4-[bis(oxiran-2-ylmethyl)amino]phenyl}meth...   \n",
       "...                                                 ...   \n",
       "9977                                         tetracaine   \n",
       "9978                                       tetracycline   \n",
       "9979                                             thymol   \n",
       "9980                                          verapamil   \n",
       "9981                                           warfarin   \n",
       "\n",
       "                                                 SMILES      LogS  \n",
       "0                   CCCCCCCCCCCCCCCCCC[N+](C)(C)C.[Br-] -3.616127  \n",
       "1                                  O=C1Nc2cccc3cccc1c23 -3.254767  \n",
       "2                                       O=Cc1ccc(Cl)cc1 -2.177078  \n",
       "3     CC(c1ccccc1)c1cc(C(=O)[O-])c(O)c(C(C)c2ccccc2)... -3.924409  \n",
       "4     c1cc(N(CC2CO2)CC2CO2)ccc1Cc1ccc(N(CC2CO2)CC2CO... -4.662065  \n",
       "...                                                 ...       ...  \n",
       "9977                       CCCCNc1ccc(C(=O)OCCN(C)C)cc1 -3.010000  \n",
       "9978  CN(C)[C@@H]1C(O)=C(C(N)=O)C(=O)[C@@]2(O)C(O)=C... -2.930000  \n",
       "9979                                Cc1ccc(C(C)C)c(O)c1 -2.190000  \n",
       "9980  COc1ccc(CCN(C)CCCC(C#N)(c2ccc(OC)c(OC)c2)C(C)C... -3.980000  \n",
       "9981              CC(=O)CC(c1ccccc1)c1c(O)c2ccccc2oc1=O -4.780000  \n",
       "\n",
       "[9982 rows x 3 columns]"
      ]
     },
     "execution_count": 19,
     "metadata": {},
     "output_type": "execute_result"
    }
   ],
   "source": [
    "sol_df.columns = [\"Name\",\"SMILES\",\"LogS\"]\n",
    "sol_df"
   ]
  },
  {
   "cell_type": "markdown",
   "id": "eb19fdaa",
   "metadata": {},
   "source": [
    "Now let's reorder the columns."
   ]
  },
  {
   "cell_type": "code",
   "execution_count": 20,
   "id": "significant-italy",
   "metadata": {
    "colab": {
     "base_uri": "https://localhost:8080/",
     "height": 423
    },
    "executionInfo": {
     "elapsed": 280,
     "status": "ok",
     "timestamp": 1644717971042,
     "user": {
      "displayName": "",
      "photoUrl": "",
      "userId": ""
     },
     "user_tz": 300
    },
    "id": "significant-italy",
    "outputId": "4f7bf080-387a-453c-cce4-d7c1ce756883"
   },
   "outputs": [
    {
     "data": {
      "text/html": [
       "<div>\n",
       "<style scoped>\n",
       "    .dataframe tbody tr th:only-of-type {\n",
       "        vertical-align: middle;\n",
       "    }\n",
       "\n",
       "    .dataframe tbody tr th {\n",
       "        vertical-align: top;\n",
       "    }\n",
       "\n",
       "    .dataframe thead th {\n",
       "        text-align: right;\n",
       "    }\n",
       "</style>\n",
       "<table border=\"1\" class=\"dataframe\">\n",
       "  <thead>\n",
       "    <tr style=\"text-align: right;\">\n",
       "      <th></th>\n",
       "      <th>SMILES</th>\n",
       "      <th>Name</th>\n",
       "      <th>LogS</th>\n",
       "    </tr>\n",
       "  </thead>\n",
       "  <tbody>\n",
       "    <tr>\n",
       "      <th>0</th>\n",
       "      <td>CCCCCCCCCCCCCCCCCC[N+](C)(C)C.[Br-]</td>\n",
       "      <td>N,N,N-trimethyloctadecan-1-aminium bromide</td>\n",
       "      <td>-3.616127</td>\n",
       "    </tr>\n",
       "    <tr>\n",
       "      <th>1</th>\n",
       "      <td>O=C1Nc2cccc3cccc1c23</td>\n",
       "      <td>Benzo[cd]indol-2(1H)-one</td>\n",
       "      <td>-3.254767</td>\n",
       "    </tr>\n",
       "    <tr>\n",
       "      <th>2</th>\n",
       "      <td>O=Cc1ccc(Cl)cc1</td>\n",
       "      <td>4-chlorobenzaldehyde</td>\n",
       "      <td>-2.177078</td>\n",
       "    </tr>\n",
       "    <tr>\n",
       "      <th>3</th>\n",
       "      <td>CC(c1ccccc1)c1cc(C(=O)[O-])c(O)c(C(C)c2ccccc2)...</td>\n",
       "      <td>zinc bis[2-hydroxy-3,5-bis(1-phenylethyl)benzo...</td>\n",
       "      <td>-3.924409</td>\n",
       "    </tr>\n",
       "    <tr>\n",
       "      <th>4</th>\n",
       "      <td>c1cc(N(CC2CO2)CC2CO2)ccc1Cc1ccc(N(CC2CO2)CC2CO...</td>\n",
       "      <td>4-({4-[bis(oxiran-2-ylmethyl)amino]phenyl}meth...</td>\n",
       "      <td>-4.662065</td>\n",
       "    </tr>\n",
       "    <tr>\n",
       "      <th>...</th>\n",
       "      <td>...</td>\n",
       "      <td>...</td>\n",
       "      <td>...</td>\n",
       "    </tr>\n",
       "    <tr>\n",
       "      <th>9977</th>\n",
       "      <td>CCCCNc1ccc(C(=O)OCCN(C)C)cc1</td>\n",
       "      <td>tetracaine</td>\n",
       "      <td>-3.010000</td>\n",
       "    </tr>\n",
       "    <tr>\n",
       "      <th>9978</th>\n",
       "      <td>CN(C)[C@@H]1C(O)=C(C(N)=O)C(=O)[C@@]2(O)C(O)=C...</td>\n",
       "      <td>tetracycline</td>\n",
       "      <td>-2.930000</td>\n",
       "    </tr>\n",
       "    <tr>\n",
       "      <th>9979</th>\n",
       "      <td>Cc1ccc(C(C)C)c(O)c1</td>\n",
       "      <td>thymol</td>\n",
       "      <td>-2.190000</td>\n",
       "    </tr>\n",
       "    <tr>\n",
       "      <th>9980</th>\n",
       "      <td>COc1ccc(CCN(C)CCCC(C#N)(c2ccc(OC)c(OC)c2)C(C)C...</td>\n",
       "      <td>verapamil</td>\n",
       "      <td>-3.980000</td>\n",
       "    </tr>\n",
       "    <tr>\n",
       "      <th>9981</th>\n",
       "      <td>CC(=O)CC(c1ccccc1)c1c(O)c2ccccc2oc1=O</td>\n",
       "      <td>warfarin</td>\n",
       "      <td>-4.780000</td>\n",
       "    </tr>\n",
       "  </tbody>\n",
       "</table>\n",
       "<p>9982 rows × 3 columns</p>\n",
       "</div>"
      ],
      "text/plain": [
       "                                                 SMILES  \\\n",
       "0                   CCCCCCCCCCCCCCCCCC[N+](C)(C)C.[Br-]   \n",
       "1                                  O=C1Nc2cccc3cccc1c23   \n",
       "2                                       O=Cc1ccc(Cl)cc1   \n",
       "3     CC(c1ccccc1)c1cc(C(=O)[O-])c(O)c(C(C)c2ccccc2)...   \n",
       "4     c1cc(N(CC2CO2)CC2CO2)ccc1Cc1ccc(N(CC2CO2)CC2CO...   \n",
       "...                                                 ...   \n",
       "9977                       CCCCNc1ccc(C(=O)OCCN(C)C)cc1   \n",
       "9978  CN(C)[C@@H]1C(O)=C(C(N)=O)C(=O)[C@@]2(O)C(O)=C...   \n",
       "9979                                Cc1ccc(C(C)C)c(O)c1   \n",
       "9980  COc1ccc(CCN(C)CCCC(C#N)(c2ccc(OC)c(OC)c2)C(C)C...   \n",
       "9981              CC(=O)CC(c1ccccc1)c1c(O)c2ccccc2oc1=O   \n",
       "\n",
       "                                                   Name      LogS  \n",
       "0            N,N,N-trimethyloctadecan-1-aminium bromide -3.616127  \n",
       "1                              Benzo[cd]indol-2(1H)-one -3.254767  \n",
       "2                                  4-chlorobenzaldehyde -2.177078  \n",
       "3     zinc bis[2-hydroxy-3,5-bis(1-phenylethyl)benzo... -3.924409  \n",
       "4     4-({4-[bis(oxiran-2-ylmethyl)amino]phenyl}meth... -4.662065  \n",
       "...                                                 ...       ...  \n",
       "9977                                         tetracaine -3.010000  \n",
       "9978                                       tetracycline -2.930000  \n",
       "9979                                             thymol -2.190000  \n",
       "9980                                          verapamil -3.980000  \n",
       "9981                                           warfarin -4.780000  \n",
       "\n",
       "[9982 rows x 3 columns]"
      ]
     },
     "execution_count": 20,
     "metadata": {},
     "output_type": "execute_result"
    }
   ],
   "source": [
    "sol_df = sol_df[['SMILES','Name','LogS']]\n",
    "sol_df"
   ]
  },
  {
   "cell_type": "markdown",
   "id": "506a165f",
   "metadata": {},
   "source": [
    "Before we calculate descriptors, we're going to standardize the molecules. This process removes counterions, neutralizes molecules, and generates a standard tautomer.  This process also generates **a lot** of logging output.  We don't want to look at that output, so we're going to use the function [BlockLogs](https://www.rdkit.org/docs/source/rdkit.rdBase.html) to temporarily turn off logging.  Once we're finished we delete the variable **block** and logging is back on."
   ]
  },
  {
   "cell_type": "code",
   "execution_count": 21,
   "id": "21505088",
   "metadata": {},
   "outputs": [
    {
     "name": "stderr",
     "output_type": "stream",
     "text": [
      "100%|███████████████████████████████████████████████████████████████████████████████████████████████████████████████████████████████████████████████████████████████████| 9982/9982 [01:47<00:00, 92.48it/s]\n"
     ]
    }
   ],
   "source": [
    "block = BlockLogs()\n",
    "sol_df['mol'] = sol_df.SMILES.progress_apply(standardize)\n",
    "del block"
   ]
  },
  {
   "cell_type": "markdown",
   "id": "motivated-postcard",
   "metadata": {
    "id": "motivated-postcard"
   },
   "source": [
    "Add a new column \"IsSol\" to indicate whether a molecule's solubility is greater than 200uM"
   ]
  },
  {
   "cell_type": "code",
   "execution_count": 22,
   "id": "julian-representative",
   "metadata": {
    "executionInfo": {
     "elapsed": 2,
     "status": "ok",
     "timestamp": 1644717974138,
     "user": {
      "displayName": "",
      "photoUrl": "",
      "userId": ""
     },
     "user_tz": 300
    },
    "id": "julian-representative"
   },
   "outputs": [],
   "source": [
    "sol_df['IsSol'] = sol_df.LogS > math.log10(200 * 1e-6)"
   ]
  },
  {
   "cell_type": "markdown",
   "id": "certified-passage",
   "metadata": {
    "id": "certified-passage"
   },
   "source": [
    "Plot solubility as a sanity check"
   ]
  },
  {
   "cell_type": "code",
   "execution_count": 23,
   "id": "cloudy-provider",
   "metadata": {
    "colab": {
     "base_uri": "https://localhost:8080/",
     "height": 387
    },
    "executionInfo": {
     "elapsed": 1141,
     "status": "ok",
     "timestamp": 1644717983139,
     "user": {
      "displayName": "",
      "photoUrl": "",
      "userId": ""
     },
     "user_tz": 300
    },
    "id": "cloudy-provider",
    "outputId": "3e7fdcef-e0ac-4f9d-9e24-97c8a37f3d50"
   },
   "outputs": [
    {
     "data": {
      "text/plain": [
       "<seaborn.axisgrid.FacetGrid at 0x7fc16ee80e50>"
      ]
     },
     "execution_count": 23,
     "metadata": {},
     "output_type": "execute_result"
    },
    {
     "data": {
      "image/png": "[encoded data removed]",
      "text/plain": [
       "<Figure size 639.875x500 with 1 Axes>"
      ]
     },
     "metadata": {},
     "output_type": "display_data"
    }
   ],
   "source": [
    "sns.set_context('talk') # Set the fonts the way I like them\n",
    "sns.displot(x='LogS',hue=\"IsSol\",data=sol_df)"
   ]
  },
  {
   "cell_type": "markdown",
   "id": "ruled-church",
   "metadata": {
    "id": "ruled-church"
   },
   "source": [
    "Add the descriptors to the dataframe.  Note that all the descriptors are going into one column called \"desc\"."
   ]
  },
  {
   "cell_type": "code",
   "execution_count": 24,
   "id": "affecting-solomon",
   "metadata": {
    "colab": {
     "base_uri": "https://localhost:8080/"
    },
    "executionInfo": {
     "elapsed": 4984,
     "status": "ok",
     "timestamp": 1644717991328,
     "user": {
      "displayName": "",
      "photoUrl": "",
      "userId": ""
     },
     "user_tz": 300
    },
    "id": "affecting-solomon",
    "outputId": "e3e92b5e-d608-484b-9273-23958db1cba6"
   },
   "outputs": [
    {
     "name": "stderr",
     "output_type": "stream",
     "text": [
      "100%|█████████████████████████████████████████████████████████████████████████████████████████████████████████████████████████████████████████████████████████████████| 9982/9982 [00:01<00:00, 5705.70it/s]\n"
     ]
    }
   ],
   "source": [
    "sol_df['desc'] = sol_df.mol.progress_apply(calc_descriptors)"
   ]
  },
  {
   "cell_type": "markdown",
   "id": "ordinary-romania",
   "metadata": {
    "id": "ordinary-romania"
   },
   "source": [
    "The function call in the cell above put all the descriptors into a single column called **desc**.  We would like split the descriptors so that each is in its own column."
   ]
  },
  {
   "cell_type": "code",
   "execution_count": 25,
   "id": "racial-spell",
   "metadata": {
    "executionInfo": {
     "elapsed": 264,
     "status": "ok",
     "timestamp": 1644718012997,
     "user": {
      "displayName": "",
      "photoUrl": "",
      "userId": ""
     },
     "user_tz": 300
    },
    "id": "racial-spell"
   },
   "outputs": [],
   "source": [
    "desc_cols = ['MW','LogP','NumAromatic','HBD','HBA']\n",
    "sol_df[desc_cols] = sol_df.desc.to_list()"
   ]
  },
  {
   "cell_type": "markdown",
   "id": "hydraulic-chapter",
   "metadata": {
    "id": "hydraulic-chapter"
   },
   "source": [
    "We no longer need the \"desc\" column, let's get rid of it. "
   ]
  },
  {
   "cell_type": "code",
   "execution_count": 26,
   "id": "assured-interaction",
   "metadata": {
    "executionInfo": {
     "elapsed": 268,
     "status": "ok",
     "timestamp": 1644718016693,
     "user": {
      "displayName": "",
      "photoUrl": "",
      "userId": ""
     },
     "user_tz": 300
    },
    "id": "assured-interaction"
   },
   "outputs": [],
   "source": [
    "sol_df.drop(\"desc\",axis=1,inplace=True)"
   ]
  },
  {
   "cell_type": "markdown",
   "id": "green-deviation",
   "metadata": {
    "id": "green-deviation"
   },
   "source": [
    "Let's check the dataframe to make sure it's ok. "
   ]
  },
  {
   "cell_type": "code",
   "execution_count": 27,
   "id": "dried-guitar",
   "metadata": {
    "colab": {
     "base_uri": "https://localhost:8080/",
     "height": 423
    },
    "executionInfo": {
     "elapsed": 632,
     "status": "ok",
     "timestamp": 1644718019994,
     "user": {
      "displayName": "",
      "photoUrl": "",
      "userId": ""
     },
     "user_tz": 300
    },
    "id": "dried-guitar",
    "outputId": "922b62c0-357b-4cf8-aede-a399f97be640"
   },
   "outputs": [
    {
     "data": {
      "text/html": [
       "<div>\n",
       "<style scoped>\n",
       "    .dataframe tbody tr th:only-of-type {\n",
       "        vertical-align: middle;\n",
       "    }\n",
       "\n",
       "    .dataframe tbody tr th {\n",
       "        vertical-align: top;\n",
       "    }\n",
       "\n",
       "    .dataframe thead th {\n",
       "        text-align: right;\n",
       "    }\n",
       "</style>\n",
       "<table border=\"1\" class=\"dataframe\">\n",
       "  <thead>\n",
       "    <tr style=\"text-align: right;\">\n",
       "      <th></th>\n",
       "      <th>SMILES</th>\n",
       "      <th>Name</th>\n",
       "      <th>LogS</th>\n",
       "      <th>mol</th>\n",
       "      <th>IsSol</th>\n",
       "      <th>MW</th>\n",
       "      <th>LogP</th>\n",
       "      <th>NumAromatic</th>\n",
       "      <th>HBD</th>\n",
       "      <th>HBA</th>\n",
       "    </tr>\n",
       "  </thead>\n",
       "  <tbody>\n",
       "    <tr>\n",
       "      <th>0</th>\n",
       "      <td>CCCCCCCCCCCCCCCCCC[N+](C)(C)C.[Br-]</td>\n",
       "      <td>N,N,N-trimethyloctadecan-1-aminium bromide</td>\n",
       "      <td>-3.616127</td>\n",
       "      <td>&lt;rdkit.Chem.rdchem.Mol object at 0x7fc16ddc0660&gt;</td>\n",
       "      <td>True</td>\n",
       "      <td>312.606</td>\n",
       "      <td>6.95410</td>\n",
       "      <td>0</td>\n",
       "      <td>0</td>\n",
       "      <td>0</td>\n",
       "    </tr>\n",
       "    <tr>\n",
       "      <th>1</th>\n",
       "      <td>O=C1Nc2cccc3cccc1c23</td>\n",
       "      <td>Benzo[cd]indol-2(1H)-one</td>\n",
       "      <td>-3.254767</td>\n",
       "      <td>&lt;rdkit.Chem.rdchem.Mol object at 0x7fc16ddc0350&gt;</td>\n",
       "      <td>True</td>\n",
       "      <td>169.183</td>\n",
       "      <td>2.40550</td>\n",
       "      <td>2</td>\n",
       "      <td>1</td>\n",
       "      <td>1</td>\n",
       "    </tr>\n",
       "    <tr>\n",
       "      <th>2</th>\n",
       "      <td>O=Cc1ccc(Cl)cc1</td>\n",
       "      <td>4-chlorobenzaldehyde</td>\n",
       "      <td>-2.177078</td>\n",
       "      <td>&lt;rdkit.Chem.rdchem.Mol object at 0x7fc16ddc0ac0&gt;</td>\n",
       "      <td>True</td>\n",
       "      <td>140.569</td>\n",
       "      <td>2.15250</td>\n",
       "      <td>1</td>\n",
       "      <td>0</td>\n",
       "      <td>1</td>\n",
       "    </tr>\n",
       "    <tr>\n",
       "      <th>3</th>\n",
       "      <td>CC(c1ccccc1)c1cc(C(=O)[O-])c(O)c(C(C)c2ccccc2)...</td>\n",
       "      <td>zinc bis[2-hydroxy-3,5-bis(1-phenylethyl)benzo...</td>\n",
       "      <td>-3.924409</td>\n",
       "      <td>&lt;rdkit.Chem.rdchem.Mol object at 0x7fc16ddc0ba0&gt;</td>\n",
       "      <td>False</td>\n",
       "      <td>346.426</td>\n",
       "      <td>5.39400</td>\n",
       "      <td>3</td>\n",
       "      <td>2</td>\n",
       "      <td>2</td>\n",
       "    </tr>\n",
       "    <tr>\n",
       "      <th>4</th>\n",
       "      <td>c1cc(N(CC2CO2)CC2CO2)ccc1Cc1ccc(N(CC2CO2)CC2CO...</td>\n",
       "      <td>4-({4-[bis(oxiran-2-ylmethyl)amino]phenyl}meth...</td>\n",
       "      <td>-4.662065</td>\n",
       "      <td>&lt;rdkit.Chem.rdchem.Mol object at 0x7fc16ddc0430&gt;</td>\n",
       "      <td>False</td>\n",
       "      <td>422.525</td>\n",
       "      <td>2.48540</td>\n",
       "      <td>2</td>\n",
       "      <td>0</td>\n",
       "      <td>6</td>\n",
       "    </tr>\n",
       "    <tr>\n",
       "      <th>...</th>\n",
       "      <td>...</td>\n",
       "      <td>...</td>\n",
       "      <td>...</td>\n",
       "      <td>...</td>\n",
       "      <td>...</td>\n",
       "      <td>...</td>\n",
       "      <td>...</td>\n",
       "      <td>...</td>\n",
       "      <td>...</td>\n",
       "      <td>...</td>\n",
       "    </tr>\n",
       "    <tr>\n",
       "      <th>9977</th>\n",
       "      <td>CCCCNc1ccc(C(=O)OCCN(C)C)cc1</td>\n",
       "      <td>tetracaine</td>\n",
       "      <td>-3.010000</td>\n",
       "      <td>&lt;rdkit.Chem.rdchem.Mol object at 0x7fc16dc67820&gt;</td>\n",
       "      <td>True</td>\n",
       "      <td>264.369</td>\n",
       "      <td>2.61700</td>\n",
       "      <td>1</td>\n",
       "      <td>1</td>\n",
       "      <td>4</td>\n",
       "    </tr>\n",
       "    <tr>\n",
       "      <th>9978</th>\n",
       "      <td>CN(C)[C@@H]1C(O)=C(C(N)=O)C(=O)[C@@]2(O)C(O)=C...</td>\n",
       "      <td>tetracycline</td>\n",
       "      <td>-2.930000</td>\n",
       "      <td>&lt;rdkit.Chem.rdchem.Mol object at 0x7fc16dc67890&gt;</td>\n",
       "      <td>True</td>\n",
       "      <td>444.440</td>\n",
       "      <td>-1.46800</td>\n",
       "      <td>1</td>\n",
       "      <td>4</td>\n",
       "      <td>9</td>\n",
       "    </tr>\n",
       "    <tr>\n",
       "      <th>9979</th>\n",
       "      <td>Cc1ccc(C(C)C)c(O)c1</td>\n",
       "      <td>thymol</td>\n",
       "      <td>-2.190000</td>\n",
       "      <td>&lt;rdkit.Chem.rdchem.Mol object at 0x7fc16dc67900&gt;</td>\n",
       "      <td>True</td>\n",
       "      <td>150.221</td>\n",
       "      <td>2.82402</td>\n",
       "      <td>1</td>\n",
       "      <td>1</td>\n",
       "      <td>1</td>\n",
       "    </tr>\n",
       "    <tr>\n",
       "      <th>9980</th>\n",
       "      <td>COc1ccc(CCN(C)CCCC(C#N)(c2ccc(OC)c(OC)c2)C(C)C...</td>\n",
       "      <td>verapamil</td>\n",
       "      <td>-3.980000</td>\n",
       "      <td>&lt;rdkit.Chem.rdchem.Mol object at 0x7fc16dc67970&gt;</td>\n",
       "      <td>False</td>\n",
       "      <td>454.611</td>\n",
       "      <td>5.09308</td>\n",
       "      <td>2</td>\n",
       "      <td>0</td>\n",
       "      <td>6</td>\n",
       "    </tr>\n",
       "    <tr>\n",
       "      <th>9981</th>\n",
       "      <td>CC(=O)CC(c1ccccc1)c1c(O)c2ccccc2oc1=O</td>\n",
       "      <td>warfarin</td>\n",
       "      <td>-4.780000</td>\n",
       "      <td>&lt;rdkit.Chem.rdchem.Mol object at 0x7fc16dc679e0&gt;</td>\n",
       "      <td>False</td>\n",
       "      <td>308.333</td>\n",
       "      <td>3.60960</td>\n",
       "      <td>3</td>\n",
       "      <td>1</td>\n",
       "      <td>4</td>\n",
       "    </tr>\n",
       "  </tbody>\n",
       "</table>\n",
       "<p>9982 rows × 10 columns</p>\n",
       "</div>"
      ],
      "text/plain": [
       "                                                 SMILES  \\\n",
       "0                   CCCCCCCCCCCCCCCCCC[N+](C)(C)C.[Br-]   \n",
       "1                                  O=C1Nc2cccc3cccc1c23   \n",
       "2                                       O=Cc1ccc(Cl)cc1   \n",
       "3     CC(c1ccccc1)c1cc(C(=O)[O-])c(O)c(C(C)c2ccccc2)...   \n",
       "4     c1cc(N(CC2CO2)CC2CO2)ccc1Cc1ccc(N(CC2CO2)CC2CO...   \n",
       "...                                                 ...   \n",
       "9977                       CCCCNc1ccc(C(=O)OCCN(C)C)cc1   \n",
       "9978  CN(C)[C@@H]1C(O)=C(C(N)=O)C(=O)[C@@]2(O)C(O)=C...   \n",
       "9979                                Cc1ccc(C(C)C)c(O)c1   \n",
       "9980  COc1ccc(CCN(C)CCCC(C#N)(c2ccc(OC)c(OC)c2)C(C)C...   \n",
       "9981              CC(=O)CC(c1ccccc1)c1c(O)c2ccccc2oc1=O   \n",
       "\n",
       "                                                   Name      LogS  \\\n",
       "0            N,N,N-trimethyloctadecan-1-aminium bromide -3.616127   \n",
       "1                              Benzo[cd]indol-2(1H)-one -3.254767   \n",
       "2                                  4-chlorobenzaldehyde -2.177078   \n",
       "3     zinc bis[2-hydroxy-3,5-bis(1-phenylethyl)benzo... -3.924409   \n",
       "4     4-({4-[bis(oxiran-2-ylmethyl)amino]phenyl}meth... -4.662065   \n",
       "...                                                 ...       ...   \n",
       "9977                                         tetracaine -3.010000   \n",
       "9978                                       tetracycline -2.930000   \n",
       "9979                                             thymol -2.190000   \n",
       "9980                                          verapamil -3.980000   \n",
       "9981                                           warfarin -4.780000   \n",
       "\n",
       "                                                   mol  IsSol       MW  \\\n",
       "0     <rdkit.Chem.rdchem.Mol object at 0x7fc16ddc0660>   True  312.606   \n",
       "1     <rdkit.Chem.rdchem.Mol object at 0x7fc16ddc0350>   True  169.183   \n",
       "2     <rdkit.Chem.rdchem.Mol object at 0x7fc16ddc0ac0>   True  140.569   \n",
       "3     <rdkit.Chem.rdchem.Mol object at 0x7fc16ddc0ba0>  False  346.426   \n",
       "4     <rdkit.Chem.rdchem.Mol object at 0x7fc16ddc0430>  False  422.525   \n",
       "...                                                ...    ...      ...   \n",
       "9977  <rdkit.Chem.rdchem.Mol object at 0x7fc16dc67820>   True  264.369   \n",
       "9978  <rdkit.Chem.rdchem.Mol object at 0x7fc16dc67890>   True  444.440   \n",
       "9979  <rdkit.Chem.rdchem.Mol object at 0x7fc16dc67900>   True  150.221   \n",
       "9980  <rdkit.Chem.rdchem.Mol object at 0x7fc16dc67970>  False  454.611   \n",
       "9981  <rdkit.Chem.rdchem.Mol object at 0x7fc16dc679e0>  False  308.333   \n",
       "\n",
       "         LogP  NumAromatic  HBD  HBA  \n",
       "0     6.95410            0    0    0  \n",
       "1     2.40550            2    1    1  \n",
       "2     2.15250            1    0    1  \n",
       "3     5.39400            3    2    2  \n",
       "4     2.48540            2    0    6  \n",
       "...       ...          ...  ...  ...  \n",
       "9977  2.61700            1    1    4  \n",
       "9978 -1.46800            1    4    9  \n",
       "9979  2.82402            1    1    1  \n",
       "9980  5.09308            2    0    6  \n",
       "9981  3.60960            3    1    4  \n",
       "\n",
       "[9982 rows x 10 columns]"
      ]
     },
     "execution_count": 27,
     "metadata": {},
     "output_type": "execute_result"
    }
   ],
   "source": [
    "sol_df"
   ]
  },
  {
   "cell_type": "markdown",
   "id": "choice-scroll",
   "metadata": {
    "id": "choice-scroll"
   },
   "source": [
    "In order to build a machine learning model, we will split the data into training and test sets. By default, the function train_test_split from scikit_learn puts 80% of the data into the training set and 20% into the test set."
   ]
  },
  {
   "cell_type": "code",
   "execution_count": 28,
   "id": "indian-payroll",
   "metadata": {
    "executionInfo": {
     "elapsed": 270,
     "status": "ok",
     "timestamp": 1644718023249,
     "user": {
      "displayName": "",
      "photoUrl": "",
      "userId": ""
     },
     "user_tz": 300
    },
    "id": "indian-payroll"
   },
   "outputs": [],
   "source": [
    "train, test = train_test_split(sol_df)"
   ]
  },
  {
   "cell_type": "markdown",
   "id": "strong-hearing",
   "metadata": {
    "id": "strong-hearing"
   },
   "source": [
    "Our data is currently in a Pandas dataframe.  I find it easier to build models with X and y variables. We'll split the training and test sets into X and y variables. "
   ]
  },
  {
   "cell_type": "code",
   "execution_count": 29,
   "id": "simplified-legislation",
   "metadata": {
    "executionInfo": {
     "elapsed": 2,
     "status": "ok",
     "timestamp": 1644718026121,
     "user": {
      "displayName": "",
      "photoUrl": "",
      "userId": ""
     },
     "user_tz": 300
    },
    "id": "simplified-legislation"
   },
   "outputs": [],
   "source": [
    "train_X = train[desc_cols]\n",
    "train_y = train.IsSol\n",
    "test_X = test[desc_cols]\n",
    "test_y = test.IsSol"
   ]
  },
  {
   "cell_type": "markdown",
   "id": "temporal-mitchell",
   "metadata": {
    "id": "temporal-mitchell"
   },
   "source": [
    "Create and train a classifier"
   ]
  },
  {
   "cell_type": "code",
   "execution_count": 30,
   "id": "continuing-reasoning",
   "metadata": {
    "colab": {
     "base_uri": "https://localhost:8080/"
    },
    "executionInfo": {
     "elapsed": 292,
     "status": "ok",
     "timestamp": 1644718036255,
     "user": {
      "displayName": "",
      "photoUrl": "",
      "userId": ""
     },
     "user_tz": 300
    },
    "id": "continuing-reasoning",
    "outputId": "f63e94ca-96e7-481e-9e36-ce81f65c6fae"
   },
   "outputs": [
    {
     "data": {
      "text/html": [
       "<style>#sk-container-id-1 {color: black;}#sk-container-id-1 pre{padding: 0;}#sk-container-id-1 div.sk-toggleable {background-color: white;}#sk-container-id-1 label.sk-toggleable__label {cursor: pointer;display: block;width: 100%;margin-bottom: 0;padding: 0.3em;box-sizing: border-box;text-align: center;}#sk-container-id-1 label.sk-toggleable__label-arrow:before {content: \"▸\";float: left;margin-right: 0.25em;color: #696969;}#sk-container-id-1 label.sk-toggleable__label-arrow:hover:before {color: black;}#sk-container-id-1 div.sk-estimator:hover label.sk-toggleable__label-arrow:before {color: black;}#sk-container-id-1 div.sk-toggleable__content {max-height: 0;max-width: 0;overflow: hidden;text-align: left;background-color: #f0f8ff;}#sk-container-id-1 div.sk-toggleable__content pre {margin: 0.2em;color: black;border-radius: 0.25em;background-color: #f0f8ff;}#sk-container-id-1 input.sk-toggleable__control:checked~div.sk-toggleable__content {max-height: 200px;max-width: 100%;overflow: auto;}#sk-container-id-1 input.sk-toggleable__control:checked~label.sk-toggleable__label-arrow:before {content: \"▾\";}#sk-container-id-1 div.sk-estimator input.sk-toggleable__control:checked~label.sk-toggleable__label {background-color: #d4ebff;}#sk-container-id-1 div.sk-label input.sk-toggleable__control:checked~label.sk-toggleable__label {background-color: #d4ebff;}#sk-container-id-1 input.sk-hidden--visually {border: 0;clip: rect(1px 1px 1px 1px);clip: rect(1px, 1px, 1px, 1px);height: 1px;margin: -1px;overflow: hidden;padding: 0;position: absolute;width: 1px;}#sk-container-id-1 div.sk-estimator {font-family: monospace;background-color: #f0f8ff;border: 1px dotted black;border-radius: 0.25em;box-sizing: border-box;margin-bottom: 0.5em;}#sk-container-id-1 div.sk-estimator:hover {background-color: #d4ebff;}#sk-container-id-1 div.sk-parallel-item::after {content: \"\";width: 100%;border-bottom: 1px solid gray;flex-grow: 1;}#sk-container-id-1 div.sk-label:hover label.sk-toggleable__label {background-color: #d4ebff;}#sk-container-id-1 div.sk-serial::before {content: \"\";position: absolute;border-left: 1px solid gray;box-sizing: border-box;top: 0;bottom: 0;left: 50%;z-index: 0;}#sk-container-id-1 div.sk-serial {display: flex;flex-direction: column;align-items: center;background-color: white;padding-right: 0.2em;padding-left: 0.2em;position: relative;}#sk-container-id-1 div.sk-item {position: relative;z-index: 1;}#sk-container-id-1 div.sk-parallel {display: flex;align-items: stretch;justify-content: center;background-color: white;position: relative;}#sk-container-id-1 div.sk-item::before, #sk-container-id-1 div.sk-parallel-item::before {content: \"\";position: absolute;border-left: 1px solid gray;box-sizing: border-box;top: 0;bottom: 0;left: 50%;z-index: -1;}#sk-container-id-1 div.sk-parallel-item {display: flex;flex-direction: column;z-index: 1;position: relative;background-color: white;}#sk-container-id-1 div.sk-parallel-item:first-child::after {align-self: flex-end;width: 50%;}#sk-container-id-1 div.sk-parallel-item:last-child::after {align-self: flex-start;width: 50%;}#sk-container-id-1 div.sk-parallel-item:only-child::after {width: 0;}#sk-container-id-1 div.sk-dashed-wrapped {border: 1px dashed gray;margin: 0 0.4em 0.5em 0.4em;box-sizing: border-box;padding-bottom: 0.4em;background-color: white;}#sk-container-id-1 div.sk-label label {font-family: monospace;font-weight: bold;display: inline-block;line-height: 1.2em;}#sk-container-id-1 div.sk-label-container {text-align: center;}#sk-container-id-1 div.sk-container {/* jupyter's `normalize.less` sets `[hidden] { display: none; }` but bootstrap.min.css set `[hidden] { display: none !important; }` so we also need the `!important` here to be able to override the default hidden behavior on the sphinx rendered scikit-learn.org. See: https://github.com/scikit-learn/scikit-learn/issues/21755 */display: inline-block !important;position: relative;}#sk-container-id-1 div.sk-text-repr-fallback {display: none;}</style><div id=\"sk-container-id-1\" class=\"sk-top-container\"><div class=\"sk-text-repr-fallback\"><pre>DecisionTreeClassifier(max_depth=2)</pre><b>In a Jupyter environment, please rerun this cell to show the HTML representation or trust the notebook. <br />On GitHub, the HTML representation is unable to render, please try loading this page with nbviewer.org.</b></div><div class=\"sk-container\" hidden><div class=\"sk-item\"><div class=\"sk-estimator sk-toggleable\"><input class=\"sk-toggleable__control sk-hidden--visually\" id=\"sk-estimator-id-1\" type=\"checkbox\" checked><label for=\"sk-estimator-id-1\" class=\"sk-toggleable__label sk-toggleable__label-arrow\">DecisionTreeClassifier</label><div class=\"sk-toggleable__content\"><pre>DecisionTreeClassifier(max_depth=2)</pre></div></div></div></div></div>"
      ],
      "text/plain": [
       "DecisionTreeClassifier(max_depth=2)"
      ]
     },
     "execution_count": 30,
     "metadata": {},
     "output_type": "execute_result"
    }
   ],
   "source": [
    "cls = DecisionTreeClassifier(max_depth=2)\n",
    "cls.fit(train_X,train_y)"
   ]
  },
  {
   "cell_type": "markdown",
   "id": "concrete-heath",
   "metadata": {
    "id": "concrete-heath"
   },
   "source": [
    "Predict on the test set"
   ]
  },
  {
   "cell_type": "code",
   "execution_count": 31,
   "id": "measured-tribe",
   "metadata": {
    "colab": {
     "base_uri": "https://localhost:8080/"
    },
    "executionInfo": {
     "elapsed": 264,
     "status": "ok",
     "timestamp": 1644718040012,
     "user": {
      "displayName": "",
      "photoUrl": "",
      "userId": ""
     },
     "user_tz": 300
    },
    "id": "measured-tribe",
    "outputId": "eb117b26-ef69-4d46-8843-c90d340dd6d1"
   },
   "outputs": [
    {
     "name": "stdout",
     "output_type": "stream",
     "text": [
      "ROC AUC = 0.80\n",
      "Matthews Correlation Coefficient = 0.62\n",
      "Cohen's Kappa = 0.62\n"
     ]
    }
   ],
   "source": [
    "pred = cls.predict(test_X)\n",
    "auc, mcc, kappa = roc_auc_score(test_y, pred),matthews_corrcoef(test_y,pred),cohen_kappa_score(test_y,pred)\n",
    "print(f\"ROC AUC = {auc:.2f}\")\n",
    "print(f\"Matthews Correlation Coefficient = {mcc:.2f}\")\n",
    "print(f\"Cohen\\'s Kappa = {kappa:.2f}\")"
   ]
  },
  {
   "cell_type": "markdown",
   "id": "accompanied-playing",
   "metadata": {
    "id": "accompanied-playing"
   },
   "source": [
    "Plot a confusion matrix to show the classifier performance"
   ]
  },
  {
   "cell_type": "code",
   "execution_count": 52,
   "id": "danish-implementation",
   "metadata": {
    "colab": {
     "base_uri": "https://localhost:8080/",
     "height": 297
    },
    "executionInfo": {
     "elapsed": 600,
     "status": "ok",
     "timestamp": 1644718044618,
     "user": {
      "displayName": "",
      "photoUrl": "",
      "userId": ""
     },
     "user_tz": 300
    },
    "id": "danish-implementation",
    "outputId": "b92a390d-ee0d-40d0-dde0-ee48d8be7375"
   },
   "outputs": [],
   "source": [
    "# plot_confusion_matrix(cls,test_X,test_y)"
   ]
  },
  {
   "cell_type": "markdown",
   "id": "second-senator",
   "metadata": {
    "id": "second-senator"
   },
   "source": [
    "Plot an ROC cure to show the classifier performance"
   ]
  },
  {
   "cell_type": "code",
   "execution_count": 36,
   "id": "educational-relay",
   "metadata": {
    "colab": {
     "base_uri": "https://localhost:8080/",
     "height": 297
    },
    "executionInfo": {
     "elapsed": 966,
     "status": "ok",
     "timestamp": 1644718048484,
     "user": {
      "displayName": "",
      "photoUrl": "",
      "userId": ""
     },
     "user_tz": 300
    },
    "id": "educational-relay",
    "outputId": "ddd32b9c-b3b0-4447-bcd8-14e043d23aac"
   },
   "outputs": [],
   "source": [
    "# plot_roc_curve(cls,test_X,test_y)"
   ]
  },
  {
   "cell_type": "markdown",
   "id": "seasonal-retro",
   "metadata": {
    "id": "seasonal-retro"
   },
   "source": [
    "Use the default view from SciKit Learn to plot the decision tree"
   ]
  },
  {
   "cell_type": "code",
   "execution_count": 37,
   "id": "physical-ordering",
   "metadata": {
    "colab": {
     "base_uri": "https://localhost:8080/",
     "height": 700
    },
    "executionInfo": {
     "elapsed": 800,
     "status": "ok",
     "timestamp": 1644718051832,
     "user": {
      "displayName": "",
      "photoUrl": "",
      "userId": ""
     },
     "user_tz": 300
    },
    "id": "physical-ordering",
    "outputId": "6f2c8a7c-cb9d-4684-c350-20c680c5ce84"
   },
   "outputs": [
    {
     "data": {
      "text/plain": [
       "[Text(0.5, 0.8333333333333334, 'LogP <= 3.117\\ngini = 0.44\\nsamples = 7486\\nvalue = [2448, 5038]'),\n",
       " Text(0.25, 0.5, 'LogP <= 2.603\\ngini = 0.218\\nsamples = 5127\\nvalue = [637, 4490]'),\n",
       " Text(0.125, 0.16666666666666666, 'gini = 0.164\\nsamples = 4483\\nvalue = [403, 4080]'),\n",
       " Text(0.375, 0.16666666666666666, 'gini = 0.463\\nsamples = 644\\nvalue = [234, 410]'),\n",
       " Text(0.75, 0.5, 'HBA <= 13.5\\ngini = 0.357\\nsamples = 2359\\nvalue = [1811, 548]'),\n",
       " Text(0.625, 0.16666666666666666, 'gini = 0.339\\nsamples = 2307\\nvalue = [1809, 498]'),\n",
       " Text(0.875, 0.16666666666666666, 'gini = 0.074\\nsamples = 52\\nvalue = [2, 50]')]"
      ]
     },
     "execution_count": 37,
     "metadata": {},
     "output_type": "execute_result"
    },
    {
     "data": {
      "image/png": "[encoded data removed]",
      "text/plain": [
       "<Figure size 1000x1000 with 1 Axes>"
      ]
     },
     "metadata": {},
     "output_type": "display_data"
    }
   ],
   "source": [
    "plt.rcParams[\"figure.figsize\"] = (10,10)\n",
    "plot_tree(cls,feature_names=desc_cols)"
   ]
  },
  {
   "cell_type": "markdown",
   "id": "nuclear-preservation",
   "metadata": {
    "id": "nuclear-preservation"
   },
   "source": [
    "Use dtreeviz to plot the decision tree"
   ]
  },
  {
   "cell_type": "code",
   "execution_count": 56,
   "id": "appropriate-trinidad",
   "metadata": {
    "colab": {
     "base_uri": "https://localhost:8080/",
     "height": 710
    },
    "executionInfo": {
     "elapsed": 2673,
     "status": "ok",
     "timestamp": 1644718068112,
     "user": {
      "displayName": "",
      "photoUrl": "",
      "userId": ""
     },
     "user_tz": 300
    },
    "id": "appropriate-trinidad",
    "outputId": "1fcc465d-421d-4f2b-c3c2-3fa05e8aaeb8"
   },
   "outputs": [
    {
     "ename": "TypeError",
     "evalue": "'module' object is not callable",
     "output_type": "error",
     "traceback": [
      "\u001b[0;31m---------------------------------------------------------------------------\u001b[0m",
      "\u001b[0;31mTypeError\u001b[0m                                 Traceback (most recent call last)",
      "Cell \u001b[0;32mIn[56], line 1\u001b[0m\n\u001b[0;32m----> 1\u001b[0m viz \u001b[38;5;241m=\u001b[39m \u001b[43mdtreeviz\u001b[49m\u001b[43m(\u001b[49m\u001b[38;5;28;43mcls\u001b[39;49m\u001b[43m,\u001b[49m\u001b[43m \u001b[49m\u001b[43mtrain_X\u001b[49m\u001b[43m,\u001b[49m\u001b[43m \u001b[49m\u001b[43mtrain_y\u001b[49m\u001b[43m,\u001b[49m\u001b[43m \u001b[49m\u001b[43mfeature_names\u001b[49m\u001b[43m \u001b[49m\u001b[38;5;241;43m=\u001b[39;49m\u001b[43m \u001b[49m\u001b[43mdesc_cols\u001b[49m\u001b[43m,\u001b[49m\u001b[43m \u001b[49m\n\u001b[1;32m      2\u001b[0m \u001b[43m               \u001b[49m\u001b[43mtarget_name\u001b[49m\u001b[43m \u001b[49m\u001b[38;5;241;43m=\u001b[39;49m\u001b[43m \u001b[49m\u001b[38;5;124;43m\"\u001b[39;49m\u001b[38;5;124;43mSolubility\u001b[39;49m\u001b[38;5;124;43m\"\u001b[39;49m\u001b[43m,\u001b[49m\u001b[43mclass_names\u001b[49m\u001b[38;5;241;43m=\u001b[39;49m\u001b[43m[\u001b[49m\u001b[38;5;124;43m\"\u001b[39;49m\u001b[38;5;124;43mFalse\u001b[39;49m\u001b[38;5;124;43m\"\u001b[39;49m\u001b[43m,\u001b[49m\u001b[38;5;124;43m\"\u001b[39;49m\u001b[38;5;124;43mTrue\u001b[39;49m\u001b[38;5;124;43m\"\u001b[39;49m\u001b[43m]\u001b[49m\u001b[43m,\u001b[49m\u001b[43mscale\u001b[49m\u001b[38;5;241;43m=\u001b[39;49m\u001b[38;5;241;43m2\u001b[39;49m\u001b[43m)\u001b[49m\n\u001b[1;32m      3\u001b[0m viz\n",
      "\u001b[0;31mTypeError\u001b[0m: 'module' object is not callable"
     ]
    }
   ],
   "source": [
    "viz = dtreeviz(cls, train_X, train_y, feature_names = desc_cols, \n",
    "               target_name = \"Solubility\",class_names=[\"False\",\"True\"],scale=2)\n",
    "viz"
   ]
  },
  {
   "cell_type": "markdown",
   "id": "concerned-warrior",
   "metadata": {
    "id": "concerned-warrior"
   },
   "source": [
    "As a final check we're going to see if we can fit a model to incorrect data.  If we shuffle the y values, we shouldn't be able to get a good model. \n",
    "\n",
    "Shuffle the y-variable as a sanity check"
   ]
  },
  {
   "cell_type": "code",
   "execution_count": 39,
   "id": "painful-median",
   "metadata": {
    "executionInfo": {
     "elapsed": 282,
     "status": "ok",
     "timestamp": 1644718071690,
     "user": {
      "displayName": "",
      "photoUrl": "",
      "userId": ""
     },
     "user_tz": 300
    },
    "id": "painful-median"
   },
   "outputs": [],
   "source": [
    "sol_df['fake'] = sol_df.IsSol.sample(frac=1)"
   ]
  },
  {
   "cell_type": "markdown",
   "id": "functional-premises",
   "metadata": {
    "id": "functional-premises"
   },
   "source": [
    "Split the dataframe into training a test sets. "
   ]
  },
  {
   "cell_type": "code",
   "execution_count": 40,
   "id": "early-invite",
   "metadata": {
    "executionInfo": {
     "elapsed": 284,
     "status": "ok",
     "timestamp": 1644718077367,
     "user": {
      "displayName": "",
      "photoUrl": "",
      "userId": ""
     },
     "user_tz": 300
    },
    "id": "early-invite"
   },
   "outputs": [],
   "source": [
    "fake_train, fake_test = train_test_split(sol_df)"
   ]
  },
  {
   "cell_type": "markdown",
   "id": "immune-ambassador",
   "metadata": {
    "id": "immune-ambassador"
   },
   "source": [
    "Split the training and test sets into X and y variables"
   ]
  },
  {
   "cell_type": "code",
   "execution_count": 41,
   "id": "numerical-blake",
   "metadata": {
    "executionInfo": {
     "elapsed": 2,
     "status": "ok",
     "timestamp": 1644718079980,
     "user": {
      "displayName": "",
      "photoUrl": "",
      "userId": ""
     },
     "user_tz": 300
    },
    "id": "numerical-blake"
   },
   "outputs": [],
   "source": [
    "fake_train_X = fake_train[desc_cols]\n",
    "fake_train_y = fake_train.fake\n",
    "fake_test_X = fake_test[desc_cols]\n",
    "fake_test_y = fake_test.fake"
   ]
  },
  {
   "cell_type": "markdown",
   "id": "verbal-permission",
   "metadata": {
    "id": "verbal-permission"
   },
   "source": [
    "Build a classifer"
   ]
  },
  {
   "cell_type": "code",
   "execution_count": 42,
   "id": "explicit-moscow",
   "metadata": {
    "colab": {
     "base_uri": "https://localhost:8080/"
    },
    "executionInfo": {
     "elapsed": 262,
     "status": "ok",
     "timestamp": 1644718086198,
     "user": {
      "displayName": "",
      "photoUrl": "",
      "userId": ""
     },
     "user_tz": 300
    },
    "id": "explicit-moscow",
    "outputId": "a8ff4632-e352-45b7-8d00-1900a0ef2e8c"
   },
   "outputs": [
    {
     "data": {
      "text/html": [
       "<style>#sk-container-id-3 {color: black;}#sk-container-id-3 pre{padding: 0;}#sk-container-id-3 div.sk-toggleable {background-color: white;}#sk-container-id-3 label.sk-toggleable__label {cursor: pointer;display: block;width: 100%;margin-bottom: 0;padding: 0.3em;box-sizing: border-box;text-align: center;}#sk-container-id-3 label.sk-toggleable__label-arrow:before {content: \"▸\";float: left;margin-right: 0.25em;color: #696969;}#sk-container-id-3 label.sk-toggleable__label-arrow:hover:before {color: black;}#sk-container-id-3 div.sk-estimator:hover label.sk-toggleable__label-arrow:before {color: black;}#sk-container-id-3 div.sk-toggleable__content {max-height: 0;max-width: 0;overflow: hidden;text-align: left;background-color: #f0f8ff;}#sk-container-id-3 div.sk-toggleable__content pre {margin: 0.2em;color: black;border-radius: 0.25em;background-color: #f0f8ff;}#sk-container-id-3 input.sk-toggleable__control:checked~div.sk-toggleable__content {max-height: 200px;max-width: 100%;overflow: auto;}#sk-container-id-3 input.sk-toggleable__control:checked~label.sk-toggleable__label-arrow:before {content: \"▾\";}#sk-container-id-3 div.sk-estimator input.sk-toggleable__control:checked~label.sk-toggleable__label {background-color: #d4ebff;}#sk-container-id-3 div.sk-label input.sk-toggleable__control:checked~label.sk-toggleable__label {background-color: #d4ebff;}#sk-container-id-3 input.sk-hidden--visually {border: 0;clip: rect(1px 1px 1px 1px);clip: rect(1px, 1px, 1px, 1px);height: 1px;margin: -1px;overflow: hidden;padding: 0;position: absolute;width: 1px;}#sk-container-id-3 div.sk-estimator {font-family: monospace;background-color: #f0f8ff;border: 1px dotted black;border-radius: 0.25em;box-sizing: border-box;margin-bottom: 0.5em;}#sk-container-id-3 div.sk-estimator:hover {background-color: #d4ebff;}#sk-container-id-3 div.sk-parallel-item::after {content: \"\";width: 100%;border-bottom: 1px solid gray;flex-grow: 1;}#sk-container-id-3 div.sk-label:hover label.sk-toggleable__label {background-color: #d4ebff;}#sk-container-id-3 div.sk-serial::before {content: \"\";position: absolute;border-left: 1px solid gray;box-sizing: border-box;top: 0;bottom: 0;left: 50%;z-index: 0;}#sk-container-id-3 div.sk-serial {display: flex;flex-direction: column;align-items: center;background-color: white;padding-right: 0.2em;padding-left: 0.2em;position: relative;}#sk-container-id-3 div.sk-item {position: relative;z-index: 1;}#sk-container-id-3 div.sk-parallel {display: flex;align-items: stretch;justify-content: center;background-color: white;position: relative;}#sk-container-id-3 div.sk-item::before, #sk-container-id-3 div.sk-parallel-item::before {content: \"\";position: absolute;border-left: 1px solid gray;box-sizing: border-box;top: 0;bottom: 0;left: 50%;z-index: -1;}#sk-container-id-3 div.sk-parallel-item {display: flex;flex-direction: column;z-index: 1;position: relative;background-color: white;}#sk-container-id-3 div.sk-parallel-item:first-child::after {align-self: flex-end;width: 50%;}#sk-container-id-3 div.sk-parallel-item:last-child::after {align-self: flex-start;width: 50%;}#sk-container-id-3 div.sk-parallel-item:only-child::after {width: 0;}#sk-container-id-3 div.sk-dashed-wrapped {border: 1px dashed gray;margin: 0 0.4em 0.5em 0.4em;box-sizing: border-box;padding-bottom: 0.4em;background-color: white;}#sk-container-id-3 div.sk-label label {font-family: monospace;font-weight: bold;display: inline-block;line-height: 1.2em;}#sk-container-id-3 div.sk-label-container {text-align: center;}#sk-container-id-3 div.sk-container {/* jupyter's `normalize.less` sets `[hidden] { display: none; }` but bootstrap.min.css set `[hidden] { display: none !important; }` so we also need the `!important` here to be able to override the default hidden behavior on the sphinx rendered scikit-learn.org. See: https://github.com/scikit-learn/scikit-learn/issues/21755 */display: inline-block !important;position: relative;}#sk-container-id-3 div.sk-text-repr-fallback {display: none;}</style><div id=\"sk-container-id-3\" class=\"sk-top-container\"><div class=\"sk-text-repr-fallback\"><pre>DecisionTreeClassifier(max_depth=2)</pre><b>In a Jupyter environment, please rerun this cell to show the HTML representation or trust the notebook. <br />On GitHub, the HTML representation is unable to render, please try loading this page with nbviewer.org.</b></div><div class=\"sk-container\" hidden><div class=\"sk-item\"><div class=\"sk-estimator sk-toggleable\"><input class=\"sk-toggleable__control sk-hidden--visually\" id=\"sk-estimator-id-3\" type=\"checkbox\" checked><label for=\"sk-estimator-id-3\" class=\"sk-toggleable__label sk-toggleable__label-arrow\">DecisionTreeClassifier</label><div class=\"sk-toggleable__content\"><pre>DecisionTreeClassifier(max_depth=2)</pre></div></div></div></div></div>"
      ],
      "text/plain": [
       "DecisionTreeClassifier(max_depth=2)"
      ]
     },
     "execution_count": 42,
     "metadata": {},
     "output_type": "execute_result"
    }
   ],
   "source": [
    "fake_cls = DecisionTreeClassifier(max_depth=2)\n",
    "fake_cls.fit(fake_train_X,fake_train_y)"
   ]
  },
  {
   "cell_type": "markdown",
   "id": "elegant-husband",
   "metadata": {
    "id": "elegant-husband"
   },
   "source": [
    "Generate the predictions"
   ]
  },
  {
   "cell_type": "code",
   "execution_count": 43,
   "id": "celtic-adelaide",
   "metadata": {
    "executionInfo": {
     "elapsed": 272,
     "status": "ok",
     "timestamp": 1644718088841,
     "user": {
      "displayName": "",
      "photoUrl": "",
      "userId": ""
     },
     "user_tz": 300
    },
    "id": "celtic-adelaide"
   },
   "outputs": [],
   "source": [
    "fake_pred = fake_cls.predict(fake_test_X)"
   ]
  },
  {
   "cell_type": "markdown",
   "id": "backed-syndicate",
   "metadata": {
    "id": "backed-syndicate"
   },
   "source": [
    "Calculate the AUC score"
   ]
  },
  {
   "cell_type": "code",
   "execution_count": 44,
   "id": "desperate-tribute",
   "metadata": {
    "colab": {
     "base_uri": "https://localhost:8080/"
    },
    "executionInfo": {
     "elapsed": 267,
     "status": "ok",
     "timestamp": 1644718091505,
     "user": {
      "displayName": "",
      "photoUrl": "",
      "userId": ""
     },
     "user_tz": 300
    },
    "id": "desperate-tribute",
    "outputId": "4b3f13cc-bf5c-476a-81db-0cf75dc0f740"
   },
   "outputs": [
    {
     "data": {
      "text/plain": [
       "0.49474444392675765"
      ]
     },
     "execution_count": 44,
     "metadata": {},
     "output_type": "execute_result"
    }
   ],
   "source": [
    "roc_auc_score(fake_test_y,pred)"
   ]
  },
  {
   "cell_type": "code",
   "execution_count": null,
   "id": "vocational-diabetes",
   "metadata": {
    "id": "vocational-diabetes"
   },
   "outputs": [],
   "source": []
  }
 ],
 "metadata": {
  "colab": {
   "name": "Copy of tutorial_02_classification_model.ipynb",
   "provenance": [
    {
     "file_id": "https://github.com/PatWalters/EFMC/blob/main/tutorial_02_classification_model.ipynb",
     "timestamp": 1644718189634
    }
   ]
  },
  "kernelspec": {
   "display_name": "Python 3 (ipykernel)",
   "language": "python",
   "name": "python3"
  },
  "language_info": {
   "codemirror_mode": {
    "name": "ipython",
    "version": 3
   },
   "file_extension": ".py",
   "mimetype": "text/x-python",
   "name": "python",
   "nbconvert_exporter": "python",
   "pygments_lexer": "ipython3",
   "version": "3.8.17"
  }
 },
 "nbformat": 4,
 "nbformat_minor": 5
}
