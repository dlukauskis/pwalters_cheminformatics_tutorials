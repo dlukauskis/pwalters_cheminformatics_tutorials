{
 "cells": [
  {
   "cell_type": "markdown",
   "id": "463e70b9",
   "metadata": {
    "pycharm": {
     "name": "#%% md\n"
    }
   },
   "source": [
    "## Working With Drug Data From the ChEMBL Database\n",
    "\n",
    "When working on drug discovery projects, it's handy to have access to a set of chemical structures and associated data for marketed drugs. If you're considering introducing new functionality, someone invariably asks whether that functionality has been used in a marketed drug. It's also helpful to compare the properties of a new compound or compounds to those of marketed drugs. Early in my career, I remember a new medicinal chemist asking Josh Boger, the founder of Vertex Pharmaceuticals, what they should do on their first day of work. Boger responded, \"read the Merck Index, so you can see what a drug is supposed to look like\". Recently a [few](https://pubs.acs.org/doi/10.1021/acs.jmedchem.8b00686) [papers](https://www.nature.com/articles/s41570-022-00451-0) have been published showing how the properties of drugs have changed over time. I thought it might be helpful to create a notebook showing how to extract and clean drug data from ChEMBL and use it to perform a similar analysis."
   ]
  },
  {
   "cell_type": "markdown",
   "id": "e3bb67e8",
   "metadata": {
    "collapsed": false,
    "jupyter": {
     "outputs_hidden": false
    },
    "pycharm": {
     "name": "#%% md\n"
    }
   },
   "source": [
    "### Overview\n",
    "\n",
    "In this notebook we'll perform the following steps.\n",
    "\n",
    "1. Download the ChEMBL database\n",
    "2. Query ChEMBL for drug data\n",
    "3. Remove duplicates from the ChEMBL data\n",
    "4. Divide the ChEMBL data into three groups based on the first approval date, before 1997, 1997-2017, after 2017\n",
    "5. Compare the molecular weight and calculated logp distributions for the three groups and determine if the differences between groups are statistically significant."
   ]
  },
  {
   "cell_type": "markdown",
   "id": "df5ce4e2",
   "metadata": {
    "collapsed": false,
    "jupyter": {
     "outputs_hidden": false
    },
    "pycharm": {
     "name": "#%% md\n"
    }
   },
   "source": [
    "Install the necessary Python libraries"
   ]
  },
  {
   "cell_type": "code",
   "execution_count": 1,
   "id": "2d1b3bae",
   "metadata": {
    "pycharm": {
     "name": "#%%\n"
    }
   },
   "outputs": [],
   "source": [
    "# !pip install pandas rdkit tqdm useful_rdkit_utils seaborn scikit-posthocs chembl_downloader"
   ]
  },
  {
   "cell_type": "code",
   "execution_count": 2,
   "id": "2d002a56",
   "metadata": {
    "pycharm": {
     "name": "#%%\n"
    }
   },
   "outputs": [],
   "source": [
    "import re\n",
    "\n",
    "import chembl_downloader\n",
    "import pandas as pd\n",
    "import scikit_posthocs as sp\n",
    "import seaborn as sns\n",
    "import useful_rdkit_utils as uru\n",
    "from rdkit import Chem\n",
    "from rdkit.Chem.Draw import MolsToGridImage\n",
    "from rdkit.Chem.MolStandardize import rdMolStandardize\n",
    "from rdkit.rdBase import BlockLogs\n",
    "from tqdm.auto import tqdm"
   ]
  },
  {
   "cell_type": "markdown",
   "id": "3be133eb",
   "metadata": {
    "pycharm": {
     "name": "#%% md\n"
    }
   },
   "source": [
    "Enable progress bars in Pandas"
   ]
  },
  {
   "cell_type": "code",
   "execution_count": 3,
   "id": "496a50a1",
   "metadata": {
    "pycharm": {
     "name": "#%%\n"
    }
   },
   "outputs": [],
   "source": [
    "tqdm.pandas()"
   ]
  },
  {
   "cell_type": "markdown",
   "id": "4c3a355d",
   "metadata": {
    "pycharm": {
     "name": "#%% md\n"
    }
   },
   "source": [
    "### 1. Download the ChEMBL database"
   ]
  },
  {
   "cell_type": "markdown",
   "id": "33799c85",
   "metadata": {
    "pycharm": {
     "name": "#%% md\n"
    }
   },
   "source": [
    "We begin by using the awesome [ChEMBL downloader](https://github.com/cthoyt/chembl-downloader) by Charles Tapley Hoyt to download the latest version of the ChEMBL database.  On my laptop, this took 7 minutes and consumed 27GB of disk space. The ChEMBL downloader not only makes it easy to download the database, it also allows you to submit queries and returns the results as a Pandas dataframe. "
   ]
  },
  {
   "cell_type": "code",
   "execution_count": 4,
   "id": "f260f49f",
   "metadata": {
    "pycharm": {
     "name": "#%%\n"
    }
   },
   "outputs": [
    {
     "data": {
      "application/vnd.jupyter.widget-view+json": {
       "model_id": "",
       "version_major": 2,
       "version_minor": 0
      },
      "text/plain": [
       "Downloading chembl_33_sqlite.tar.gz: 0.00B [00:00, ?B/s]"
      ]
     },
     "metadata": {},
     "output_type": "display_data"
    }
   ],
   "source": [
    "path = chembl_downloader.download_extract_sqlite()"
   ]
  },
  {
   "cell_type": "code",
   "execution_count": 5,
   "id": "2709d940",
   "metadata": {
    "pycharm": {
     "name": "#%%\n"
    }
   },
   "outputs": [
    {
     "data": {
      "text/plain": [
       "PosixPath('/home/dom/.data/chembl/33/data/chembl_33/chembl_33_sqlite/chembl_33.db')"
      ]
     },
     "execution_count": 5,
     "metadata": {},
     "output_type": "execute_result"
    }
   ],
   "source": [
    "path"
   ]
  },
  {
   "cell_type": "markdown",
   "id": "1a590483",
   "metadata": {
    "pycharm": {
     "name": "#%% md\n"
    }
   },
   "source": [
    "Define SQL to extract drug data from ChEMBL. It would probably be useful to explain the query below.  We're joining three tables:\n",
    "- molecule_dictionary - Table storing a non-redundant list of curated compounds for ChEMBL (includes preclinical compounds, drugs and clinical candidate drugs) and some associated attributes.\n",
    "- compound_structures - Table storing various structure representations (e.g., Molfile, InChI) for each compound\n",
    "- compound properties - Table storing calculated physicochemical properties for compounds, now calculated with RDKit and ChemAxon software (note all but FULL_MWT and FULL_MOLFORMULA are calculated on the parent structure)\n",
    "\n",
    "\n",
    "We select records where\n",
    "- max_phase = 4 (approved drugs)\n",
    "- molecule_type = Small molecule\n",
    "- molecular weight is between 200 and 200\n",
    "\n",
    "The group by ensures that we have one record for each canonical_smiles, molregno pair"
   ]
  },
  {
   "cell_type": "code",
   "execution_count": 6,
   "id": "f6c76d6a",
   "metadata": {
    "pycharm": {
     "name": "#%%\n"
    }
   },
   "outputs": [],
   "source": [
    "sql = \"\"\"\n",
    "select cs.canonical_smiles, cs.molregno, pref_name, first_approval, dosed_ingredient, oral, parenteral, topical,\n",
    "       black_box_warning, first_in_class from molecule_dictionary md\n",
    "join compound_structures cs on cs.molregno = md.molregno\n",
    "join compound_properties cp on md.molregno = cp.molregno\n",
    "where max_phase = 4 and molecule_type = 'Small molecule'\n",
    "and cp.full_mwt > 200 and cp.full_mwt < 1000\n",
    "group by cs.canonical_smiles, cs.molregno\n",
    "\"\"\""
   ]
  },
  {
   "cell_type": "code",
   "execution_count": 7,
   "id": "02f60c8c",
   "metadata": {
    "pycharm": {
     "name": "#%%\n"
    }
   },
   "outputs": [],
   "source": [
    "df = chembl_downloader.query(sql)"
   ]
  },
  {
   "cell_type": "code",
   "execution_count": 8,
   "id": "f0d58fab",
   "metadata": {
    "pycharm": {
     "name": "#%%\n"
    }
   },
   "outputs": [
    {
     "data": {
      "text/html": [
       "<div>\n",
       "<style scoped>\n",
       "    .dataframe tbody tr th:only-of-type {\n",
       "        vertical-align: middle;\n",
       "    }\n",
       "\n",
       "    .dataframe tbody tr th {\n",
       "        vertical-align: top;\n",
       "    }\n",
       "\n",
       "    .dataframe thead th {\n",
       "        text-align: right;\n",
       "    }\n",
       "</style>\n",
       "<table border=\"1\" class=\"dataframe\">\n",
       "  <thead>\n",
       "    <tr style=\"text-align: right;\">\n",
       "      <th></th>\n",
       "      <th>canonical_smiles</th>\n",
       "      <th>molregno</th>\n",
       "      <th>pref_name</th>\n",
       "      <th>first_approval</th>\n",
       "      <th>dosed_ingredient</th>\n",
       "      <th>oral</th>\n",
       "      <th>parenteral</th>\n",
       "      <th>topical</th>\n",
       "      <th>black_box_warning</th>\n",
       "      <th>first_in_class</th>\n",
       "    </tr>\n",
       "  </thead>\n",
       "  <tbody>\n",
       "    <tr>\n",
       "      <th>0</th>\n",
       "      <td>Br.CC(N)Cc1ccc(O)cc1</td>\n",
       "      <td>674656</td>\n",
       "      <td>HYDROXYAMPHETAMINE HYDROBROMIDE</td>\n",
       "      <td>1969.0</td>\n",
       "      <td>1</td>\n",
       "      <td>0</td>\n",
       "      <td>0</td>\n",
       "      <td>1</td>\n",
       "      <td>0</td>\n",
       "      <td>0</td>\n",
       "    </tr>\n",
       "    <tr>\n",
       "      <th>1</th>\n",
       "      <td>Br.CC(NC(C)(C)C)C(=O)c1cccc(Cl)c1</td>\n",
       "      <td>675686</td>\n",
       "      <td>BUPROPION HYDROBROMIDE</td>\n",
       "      <td>2008.0</td>\n",
       "      <td>1</td>\n",
       "      <td>1</td>\n",
       "      <td>0</td>\n",
       "      <td>0</td>\n",
       "      <td>1</td>\n",
       "      <td>0</td>\n",
       "    </tr>\n",
       "    <tr>\n",
       "      <th>2</th>\n",
       "      <td>Br.CC1C2Cc3ccc(O)cc3C1(C)CCN2CCc1ccccc1</td>\n",
       "      <td>1379567</td>\n",
       "      <td>PHENAZOCINE HYDROBROMIDE</td>\n",
       "      <td>NaN</td>\n",
       "      <td>1</td>\n",
       "      <td>0</td>\n",
       "      <td>0</td>\n",
       "      <td>0</td>\n",
       "      <td>0</td>\n",
       "      <td>0</td>\n",
       "    </tr>\n",
       "    <tr>\n",
       "      <th>3</th>\n",
       "      <td>Br.CCN(c1cc(-c2ccc(CN3CCOCC3)cc2)cc(C(=O)NCc2c...</td>\n",
       "      <td>2464691</td>\n",
       "      <td>TAZEMETOSTAT HYDROBROMIDE</td>\n",
       "      <td>2020.0</td>\n",
       "      <td>1</td>\n",
       "      <td>1</td>\n",
       "      <td>0</td>\n",
       "      <td>0</td>\n",
       "      <td>0</td>\n",
       "      <td>1</td>\n",
       "    </tr>\n",
       "    <tr>\n",
       "      <th>4</th>\n",
       "      <td>Br.CN(C)CCCC1(c2ccc(F)cc2)OCc2cc(C#N)ccc21</td>\n",
       "      <td>674732</td>\n",
       "      <td>CITALOPRAM HYDROBROMIDE</td>\n",
       "      <td>1998.0</td>\n",
       "      <td>1</td>\n",
       "      <td>1</td>\n",
       "      <td>0</td>\n",
       "      <td>0</td>\n",
       "      <td>1</td>\n",
       "      <td>0</td>\n",
       "    </tr>\n",
       "    <tr>\n",
       "      <th>...</th>\n",
       "      <td>...</td>\n",
       "      <td>...</td>\n",
       "      <td>...</td>\n",
       "      <td>...</td>\n",
       "      <td>...</td>\n",
       "      <td>...</td>\n",
       "      <td>...</td>\n",
       "      <td>...</td>\n",
       "      <td>...</td>\n",
       "      <td>...</td>\n",
       "    </tr>\n",
       "    <tr>\n",
       "      <th>2910</th>\n",
       "      <td>c1ccc2c(CCC3CCNCC3)c[nH]c2c1</td>\n",
       "      <td>16580</td>\n",
       "      <td>INDALPINE</td>\n",
       "      <td>NaN</td>\n",
       "      <td>1</td>\n",
       "      <td>0</td>\n",
       "      <td>0</td>\n",
       "      <td>0</td>\n",
       "      <td>0</td>\n",
       "      <td>0</td>\n",
       "    </tr>\n",
       "    <tr>\n",
       "      <th>2911</th>\n",
       "      <td>c1ccc2c(c1)CCCC2C1=NCCN1</td>\n",
       "      <td>245084</td>\n",
       "      <td>TETRAHYDROZOLINE</td>\n",
       "      <td>1979.0</td>\n",
       "      <td>0</td>\n",
       "      <td>0</td>\n",
       "      <td>0</td>\n",
       "      <td>1</td>\n",
       "      <td>0</td>\n",
       "      <td>0</td>\n",
       "    </tr>\n",
       "    <tr>\n",
       "      <th>2912</th>\n",
       "      <td>c1ccc2c(c1)Sc1ccccc1N2CC1CN2CCC1CC2</td>\n",
       "      <td>112175</td>\n",
       "      <td>MEQUITAZINE</td>\n",
       "      <td>NaN</td>\n",
       "      <td>1</td>\n",
       "      <td>0</td>\n",
       "      <td>0</td>\n",
       "      <td>0</td>\n",
       "      <td>0</td>\n",
       "      <td>0</td>\n",
       "    </tr>\n",
       "    <tr>\n",
       "      <th>2913</th>\n",
       "      <td>c1cnc(N2CCN(Cc3ccc4c(c3)OCO4)CC2)nc1</td>\n",
       "      <td>795654</td>\n",
       "      <td>PIRIBEDIL</td>\n",
       "      <td>NaN</td>\n",
       "      <td>1</td>\n",
       "      <td>0</td>\n",
       "      <td>0</td>\n",
       "      <td>0</td>\n",
       "      <td>0</td>\n",
       "      <td>0</td>\n",
       "    </tr>\n",
       "    <tr>\n",
       "      <th>2914</th>\n",
       "      <td>c1cnc2cc3c(cc2n1)C1CNCC3C1</td>\n",
       "      <td>330452</td>\n",
       "      <td>VARENICLINE</td>\n",
       "      <td>2006.0</td>\n",
       "      <td>1</td>\n",
       "      <td>1</td>\n",
       "      <td>0</td>\n",
       "      <td>0</td>\n",
       "      <td>0</td>\n",
       "      <td>0</td>\n",
       "    </tr>\n",
       "  </tbody>\n",
       "</table>\n",
       "<p>2915 rows × 10 columns</p>\n",
       "</div>"
      ],
      "text/plain": [
       "                                       canonical_smiles  molregno  \\\n",
       "0                                  Br.CC(N)Cc1ccc(O)cc1    674656   \n",
       "1                     Br.CC(NC(C)(C)C)C(=O)c1cccc(Cl)c1    675686   \n",
       "2               Br.CC1C2Cc3ccc(O)cc3C1(C)CCN2CCc1ccccc1   1379567   \n",
       "3     Br.CCN(c1cc(-c2ccc(CN3CCOCC3)cc2)cc(C(=O)NCc2c...   2464691   \n",
       "4            Br.CN(C)CCCC1(c2ccc(F)cc2)OCc2cc(C#N)ccc21    674732   \n",
       "...                                                 ...       ...   \n",
       "2910                       c1ccc2c(CCC3CCNCC3)c[nH]c2c1     16580   \n",
       "2911                           c1ccc2c(c1)CCCC2C1=NCCN1    245084   \n",
       "2912                c1ccc2c(c1)Sc1ccccc1N2CC1CN2CCC1CC2    112175   \n",
       "2913               c1cnc(N2CCN(Cc3ccc4c(c3)OCO4)CC2)nc1    795654   \n",
       "2914                         c1cnc2cc3c(cc2n1)C1CNCC3C1    330452   \n",
       "\n",
       "                            pref_name  first_approval  dosed_ingredient  oral  \\\n",
       "0     HYDROXYAMPHETAMINE HYDROBROMIDE          1969.0                 1     0   \n",
       "1              BUPROPION HYDROBROMIDE          2008.0                 1     1   \n",
       "2            PHENAZOCINE HYDROBROMIDE             NaN                 1     0   \n",
       "3           TAZEMETOSTAT HYDROBROMIDE          2020.0                 1     1   \n",
       "4             CITALOPRAM HYDROBROMIDE          1998.0                 1     1   \n",
       "...                               ...             ...               ...   ...   \n",
       "2910                        INDALPINE             NaN                 1     0   \n",
       "2911                 TETRAHYDROZOLINE          1979.0                 0     0   \n",
       "2912                      MEQUITAZINE             NaN                 1     0   \n",
       "2913                        PIRIBEDIL             NaN                 1     0   \n",
       "2914                      VARENICLINE          2006.0                 1     1   \n",
       "\n",
       "      parenteral  topical  black_box_warning  first_in_class  \n",
       "0              0        1                  0               0  \n",
       "1              0        0                  1               0  \n",
       "2              0        0                  0               0  \n",
       "3              0        0                  0               1  \n",
       "4              0        0                  1               0  \n",
       "...          ...      ...                ...             ...  \n",
       "2910           0        0                  0               0  \n",
       "2911           0        1                  0               0  \n",
       "2912           0        0                  0               0  \n",
       "2913           0        0                  0               0  \n",
       "2914           0        0                  0               0  \n",
       "\n",
       "[2915 rows x 10 columns]"
      ]
     },
     "execution_count": 8,
     "metadata": {},
     "output_type": "execute_result"
    }
   ],
   "source": [
    "df"
   ]
  },
  {
   "cell_type": "markdown",
   "id": "ca3adcf9",
   "metadata": {
    "pycharm": {
     "name": "#%% md\n"
    }
   },
   "source": [
    "### 3. Remove duplicates from the ChEMBL data\n",
    "\n",
    "Several drugs are in ChEMBL multiple times as different salt forms.  To simplify our analysis, we'd like to only have each drug represented once.  We can use the MolStandardize functionality in the RDKit to remove salts and add another column with the standardized SMILES (std_smiles).  I used the example code below from the bitsilla blog to standardize the SMILES. "
   ]
  },
  {
   "cell_type": "code",
   "execution_count": 9,
   "id": "46745ec5",
   "metadata": {
    "pycharm": {
     "name": "#%%\n"
    }
   },
   "outputs": [],
   "source": [
    "# Borrowed from https://bitsilla.com/blog/2021/06/standardizing-a-molecule-using-rdkit/\n",
    "def standardize(smiles):\n",
    "    # follows the steps in\n",
    "    # https://github.com/greglandrum/RSC_OpenScience_Standardization_202104/blob/main/MolStandardize%20pieces.ipynb\n",
    "    # as described **excellently** (by Greg) in\n",
    "    # https://www.youtube.com/watch?v=eWTApNX8dJQ\n",
    "    mol = Chem.MolFromSmiles(smiles)\n",
    "\n",
    "    # removeHs, disconnect metal atoms, normalize the molecule, reionize the molecule\n",
    "    clean_mol = rdMolStandardize.Cleanup(mol)\n",
    "\n",
    "    # if many fragments, get the \"parent\" (the actual mol we are interested in) \n",
    "    parent_clean_mol = rdMolStandardize.FragmentParent(clean_mol)\n",
    "\n",
    "    # try to neutralize molecule\n",
    "    uncharger = rdMolStandardize.Uncharger()  # annoying, but necessary as no convenience method exists\n",
    "    uncharged_parent_clean_mol = uncharger.uncharge(parent_clean_mol)\n",
    "\n",
    "    # note that no attempt is made at reionization at this step\n",
    "    # nor at ionization at some pH (rdkit has no pKa caculator)\n",
    "    # the main aim to represent all molecules from different sources\n",
    "    # in a (single) standard way, for use in ML, catalogue, etc.\n",
    "\n",
    "    te = rdMolStandardize.TautomerEnumerator()  # idem\n",
    "    taut_uncharged_parent_clean_mol = te.Canonicalize(uncharged_parent_clean_mol)\n",
    "\n",
    "    return Chem.MolToSmiles(taut_uncharged_parent_clean_mol)"
   ]
  },
  {
   "cell_type": "markdown",
   "id": "0c434fd5",
   "metadata": {
    "pycharm": {
     "name": "#%% md\n"
    }
   },
   "source": [
    "The code below performs the standardization and creates a new column.  Note the use of [BlockLogs](https://rdkit.org/docs/source/rdkit.rdBase.html).  The standardizer has a lot of logging messages that I prefer to ignore.   "
   ]
  },
  {
   "cell_type": "code",
   "execution_count": 10,
   "id": "0f82094e",
   "metadata": {
    "pycharm": {
     "name": "#%%\n"
    }
   },
   "outputs": [
    {
     "data": {
      "application/vnd.jupyter.widget-view+json": {
       "model_id": "ddf1e16347784191ab128f9a769fa808",
       "version_major": 2,
       "version_minor": 0
      },
      "text/plain": [
       "  0%|          | 0/2915 [00:00<?, ?it/s]"
      ]
     },
     "metadata": {},
     "output_type": "display_data"
    }
   ],
   "source": [
    "with BlockLogs():\n",
    "    df['std_smiles'] = df.canonical_smiles.progress_apply(standardize)"
   ]
  },
  {
   "cell_type": "markdown",
   "id": "6d6c354e",
   "metadata": {
    "pycharm": {
     "name": "#%% md\n"
    }
   },
   "source": [
    "Drop any rows that don't have a first_approval year. "
   ]
  },
  {
   "cell_type": "code",
   "execution_count": 11,
   "id": "c3363592",
   "metadata": {
    "pycharm": {
     "name": "#%%\n"
    }
   },
   "outputs": [],
   "source": [
    "df_ok = df.dropna(subset=[\"first_approval\"]).copy()"
   ]
  },
  {
   "cell_type": "markdown",
   "id": "fdd9c24a",
   "metadata": {
    "pycharm": {
     "name": "#%% md\n"
    }
   },
   "source": [
    "The **first_approval** field comes over from ChEMBL as a floating point number.  This bugs me, so I'll convert it to an integer."
   ]
  },
  {
   "cell_type": "code",
   "execution_count": 12,
   "id": "6ed615eb",
   "metadata": {
    "pycharm": {
     "name": "#%%\n"
    }
   },
   "outputs": [
    {
     "data": {
      "text/html": [
       "<div>\n",
       "<style scoped>\n",
       "    .dataframe tbody tr th:only-of-type {\n",
       "        vertical-align: middle;\n",
       "    }\n",
       "\n",
       "    .dataframe tbody tr th {\n",
       "        vertical-align: top;\n",
       "    }\n",
       "\n",
       "    .dataframe thead th {\n",
       "        text-align: right;\n",
       "    }\n",
       "</style>\n",
       "<table border=\"1\" class=\"dataframe\">\n",
       "  <thead>\n",
       "    <tr style=\"text-align: right;\">\n",
       "      <th></th>\n",
       "      <th>canonical_smiles</th>\n",
       "      <th>molregno</th>\n",
       "      <th>pref_name</th>\n",
       "      <th>first_approval</th>\n",
       "      <th>dosed_ingredient</th>\n",
       "      <th>oral</th>\n",
       "      <th>parenteral</th>\n",
       "      <th>topical</th>\n",
       "      <th>black_box_warning</th>\n",
       "      <th>first_in_class</th>\n",
       "      <th>std_smiles</th>\n",
       "    </tr>\n",
       "  </thead>\n",
       "  <tbody>\n",
       "    <tr>\n",
       "      <th>0</th>\n",
       "      <td>Br.CC(N)Cc1ccc(O)cc1</td>\n",
       "      <td>674656</td>\n",
       "      <td>HYDROXYAMPHETAMINE HYDROBROMIDE</td>\n",
       "      <td>1969</td>\n",
       "      <td>1</td>\n",
       "      <td>0</td>\n",
       "      <td>0</td>\n",
       "      <td>1</td>\n",
       "      <td>0</td>\n",
       "      <td>0</td>\n",
       "      <td>CC(N)Cc1ccc(O)cc1</td>\n",
       "    </tr>\n",
       "    <tr>\n",
       "      <th>1</th>\n",
       "      <td>Br.CC(NC(C)(C)C)C(=O)c1cccc(Cl)c1</td>\n",
       "      <td>675686</td>\n",
       "      <td>BUPROPION HYDROBROMIDE</td>\n",
       "      <td>2008</td>\n",
       "      <td>1</td>\n",
       "      <td>1</td>\n",
       "      <td>0</td>\n",
       "      <td>0</td>\n",
       "      <td>1</td>\n",
       "      <td>0</td>\n",
       "      <td>CC(NC(C)(C)C)C(=O)c1cccc(Cl)c1</td>\n",
       "    </tr>\n",
       "    <tr>\n",
       "      <th>3</th>\n",
       "      <td>Br.CCN(c1cc(-c2ccc(CN3CCOCC3)cc2)cc(C(=O)NCc2c...</td>\n",
       "      <td>2464691</td>\n",
       "      <td>TAZEMETOSTAT HYDROBROMIDE</td>\n",
       "      <td>2020</td>\n",
       "      <td>1</td>\n",
       "      <td>1</td>\n",
       "      <td>0</td>\n",
       "      <td>0</td>\n",
       "      <td>0</td>\n",
       "      <td>1</td>\n",
       "      <td>CCN(c1cc(-c2ccc(CN3CCOCC3)cc2)cc(C(=O)NCc2c(C)...</td>\n",
       "    </tr>\n",
       "    <tr>\n",
       "      <th>4</th>\n",
       "      <td>Br.CN(C)CCCC1(c2ccc(F)cc2)OCc2cc(C#N)ccc21</td>\n",
       "      <td>674732</td>\n",
       "      <td>CITALOPRAM HYDROBROMIDE</td>\n",
       "      <td>1998</td>\n",
       "      <td>1</td>\n",
       "      <td>1</td>\n",
       "      <td>0</td>\n",
       "      <td>0</td>\n",
       "      <td>1</td>\n",
       "      <td>0</td>\n",
       "      <td>CN(C)CCCC1(c2ccc(F)cc2)OCc2cc(C#N)ccc21</td>\n",
       "    </tr>\n",
       "    <tr>\n",
       "      <th>5</th>\n",
       "      <td>Br.CN1CCC[C@@H]1Cc1c[nH]c2ccc(CCS(=O)(=O)c3ccc...</td>\n",
       "      <td>674954</td>\n",
       "      <td>ELETRIPTAN HYDROBROMIDE</td>\n",
       "      <td>2002</td>\n",
       "      <td>1</td>\n",
       "      <td>1</td>\n",
       "      <td>0</td>\n",
       "      <td>0</td>\n",
       "      <td>0</td>\n",
       "      <td>0</td>\n",
       "      <td>CN1CCC[C@@H]1Cc1c[nH]c2ccc(CCS(=O)(=O)c3ccccc3...</td>\n",
       "    </tr>\n",
       "    <tr>\n",
       "      <th>...</th>\n",
       "      <td>...</td>\n",
       "      <td>...</td>\n",
       "      <td>...</td>\n",
       "      <td>...</td>\n",
       "      <td>...</td>\n",
       "      <td>...</td>\n",
       "      <td>...</td>\n",
       "      <td>...</td>\n",
       "      <td>...</td>\n",
       "      <td>...</td>\n",
       "      <td>...</td>\n",
       "    </tr>\n",
       "    <tr>\n",
       "      <th>2907</th>\n",
       "      <td>c1ccc([C@H]2CN3CCSC3=N2)cc1</td>\n",
       "      <td>384948</td>\n",
       "      <td>LEVAMISOLE</td>\n",
       "      <td>1990</td>\n",
       "      <td>0</td>\n",
       "      <td>1</td>\n",
       "      <td>0</td>\n",
       "      <td>0</td>\n",
       "      <td>0</td>\n",
       "      <td>0</td>\n",
       "      <td>c1ccc([C@H]2CN3CCSC3=N2)cc1</td>\n",
       "    </tr>\n",
       "    <tr>\n",
       "      <th>2908</th>\n",
       "      <td>c1ccc2[nH]c(-c3cscn3)nc2c1</td>\n",
       "      <td>26590</td>\n",
       "      <td>THIABENDAZOLE</td>\n",
       "      <td>1967</td>\n",
       "      <td>1</td>\n",
       "      <td>1</td>\n",
       "      <td>0</td>\n",
       "      <td>0</td>\n",
       "      <td>0</td>\n",
       "      <td>0</td>\n",
       "      <td>c1ccc2[nH]c(-c3cscn3)nc2c1</td>\n",
       "    </tr>\n",
       "    <tr>\n",
       "      <th>2909</th>\n",
       "      <td>c1ccc2c(CC3=NCCN3)cccc2c1</td>\n",
       "      <td>42468</td>\n",
       "      <td>NAPHAZOLINE</td>\n",
       "      <td>1971</td>\n",
       "      <td>0</td>\n",
       "      <td>0</td>\n",
       "      <td>0</td>\n",
       "      <td>1</td>\n",
       "      <td>0</td>\n",
       "      <td>0</td>\n",
       "      <td>c1ccc2c(CC3=NCCN3)cccc2c1</td>\n",
       "    </tr>\n",
       "    <tr>\n",
       "      <th>2911</th>\n",
       "      <td>c1ccc2c(c1)CCCC2C1=NCCN1</td>\n",
       "      <td>245084</td>\n",
       "      <td>TETRAHYDROZOLINE</td>\n",
       "      <td>1979</td>\n",
       "      <td>0</td>\n",
       "      <td>0</td>\n",
       "      <td>0</td>\n",
       "      <td>1</td>\n",
       "      <td>0</td>\n",
       "      <td>0</td>\n",
       "      <td>c1ccc2c(c1)CCCC2C1=NCCN1</td>\n",
       "    </tr>\n",
       "    <tr>\n",
       "      <th>2914</th>\n",
       "      <td>c1cnc2cc3c(cc2n1)C1CNCC3C1</td>\n",
       "      <td>330452</td>\n",
       "      <td>VARENICLINE</td>\n",
       "      <td>2006</td>\n",
       "      <td>1</td>\n",
       "      <td>1</td>\n",
       "      <td>0</td>\n",
       "      <td>0</td>\n",
       "      <td>0</td>\n",
       "      <td>0</td>\n",
       "      <td>c1cnc2cc3c(cc2n1)C1CNCC3C1</td>\n",
       "    </tr>\n",
       "  </tbody>\n",
       "</table>\n",
       "<p>2314 rows × 11 columns</p>\n",
       "</div>"
      ],
      "text/plain": [
       "                                       canonical_smiles  molregno  \\\n",
       "0                                  Br.CC(N)Cc1ccc(O)cc1    674656   \n",
       "1                     Br.CC(NC(C)(C)C)C(=O)c1cccc(Cl)c1    675686   \n",
       "3     Br.CCN(c1cc(-c2ccc(CN3CCOCC3)cc2)cc(C(=O)NCc2c...   2464691   \n",
       "4            Br.CN(C)CCCC1(c2ccc(F)cc2)OCc2cc(C#N)ccc21    674732   \n",
       "5     Br.CN1CCC[C@@H]1Cc1c[nH]c2ccc(CCS(=O)(=O)c3ccc...    674954   \n",
       "...                                                 ...       ...   \n",
       "2907                        c1ccc([C@H]2CN3CCSC3=N2)cc1    384948   \n",
       "2908                         c1ccc2[nH]c(-c3cscn3)nc2c1     26590   \n",
       "2909                          c1ccc2c(CC3=NCCN3)cccc2c1     42468   \n",
       "2911                           c1ccc2c(c1)CCCC2C1=NCCN1    245084   \n",
       "2914                         c1cnc2cc3c(cc2n1)C1CNCC3C1    330452   \n",
       "\n",
       "                            pref_name  first_approval  dosed_ingredient  oral  \\\n",
       "0     HYDROXYAMPHETAMINE HYDROBROMIDE            1969                 1     0   \n",
       "1              BUPROPION HYDROBROMIDE            2008                 1     1   \n",
       "3           TAZEMETOSTAT HYDROBROMIDE            2020                 1     1   \n",
       "4             CITALOPRAM HYDROBROMIDE            1998                 1     1   \n",
       "5             ELETRIPTAN HYDROBROMIDE            2002                 1     1   \n",
       "...                               ...             ...               ...   ...   \n",
       "2907                       LEVAMISOLE            1990                 0     1   \n",
       "2908                    THIABENDAZOLE            1967                 1     1   \n",
       "2909                      NAPHAZOLINE            1971                 0     0   \n",
       "2911                 TETRAHYDROZOLINE            1979                 0     0   \n",
       "2914                      VARENICLINE            2006                 1     1   \n",
       "\n",
       "      parenteral  topical  black_box_warning  first_in_class  \\\n",
       "0              0        1                  0               0   \n",
       "1              0        0                  1               0   \n",
       "3              0        0                  0               1   \n",
       "4              0        0                  1               0   \n",
       "5              0        0                  0               0   \n",
       "...          ...      ...                ...             ...   \n",
       "2907           0        0                  0               0   \n",
       "2908           0        0                  0               0   \n",
       "2909           0        1                  0               0   \n",
       "2911           0        1                  0               0   \n",
       "2914           0        0                  0               0   \n",
       "\n",
       "                                             std_smiles  \n",
       "0                                     CC(N)Cc1ccc(O)cc1  \n",
       "1                        CC(NC(C)(C)C)C(=O)c1cccc(Cl)c1  \n",
       "3     CCN(c1cc(-c2ccc(CN3CCOCC3)cc2)cc(C(=O)NCc2c(C)...  \n",
       "4               CN(C)CCCC1(c2ccc(F)cc2)OCc2cc(C#N)ccc21  \n",
       "5     CN1CCC[C@@H]1Cc1c[nH]c2ccc(CCS(=O)(=O)c3ccccc3...  \n",
       "...                                                 ...  \n",
       "2907                        c1ccc([C@H]2CN3CCSC3=N2)cc1  \n",
       "2908                         c1ccc2[nH]c(-c3cscn3)nc2c1  \n",
       "2909                          c1ccc2c(CC3=NCCN3)cccc2c1  \n",
       "2911                           c1ccc2c(c1)CCCC2C1=NCCN1  \n",
       "2914                         c1cnc2cc3c(cc2n1)C1CNCC3C1  \n",
       "\n",
       "[2314 rows x 11 columns]"
      ]
     },
     "execution_count": 12,
     "metadata": {},
     "output_type": "execute_result"
    }
   ],
   "source": [
    "df_ok.first_approval = df_ok.first_approval.astype(int)\n",
    "df_ok"
   ]
  },
  {
   "cell_type": "markdown",
   "id": "2bd595a7",
   "metadata": {
    "pycharm": {
     "name": "#%% md\n"
    }
   },
   "source": [
    "Let's take a look a structures that occur multiple times.  The first one is citrate. This is an odd case where we have things like sodium citrate where the salt is larger than the parent.  There aren't a lot of these and I don't find them interesting so I'm ignoring them.  The second example, which occurs six times is more interesting. "
   ]
  },
  {
   "cell_type": "code",
   "execution_count": 13,
   "id": "a81d1176",
   "metadata": {
    "pycharm": {
     "name": "#%%\n"
    }
   },
   "outputs": [
    {
     "data": {
      "text/html": [
       "<div>\n",
       "<style scoped>\n",
       "    .dataframe tbody tr th:only-of-type {\n",
       "        vertical-align: middle;\n",
       "    }\n",
       "\n",
       "    .dataframe tbody tr th {\n",
       "        vertical-align: top;\n",
       "    }\n",
       "\n",
       "    .dataframe thead th {\n",
       "        text-align: right;\n",
       "    }\n",
       "</style>\n",
       "<table border=\"1\" class=\"dataframe\">\n",
       "  <thead>\n",
       "    <tr style=\"text-align: right;\">\n",
       "      <th></th>\n",
       "      <th>std_smiles</th>\n",
       "      <th>count</th>\n",
       "    </tr>\n",
       "  </thead>\n",
       "  <tbody>\n",
       "    <tr>\n",
       "      <th>0</th>\n",
       "      <td>O=C(O)CC(O)(CC(=O)O)C(=O)O</td>\n",
       "      <td>7</td>\n",
       "    </tr>\n",
       "    <tr>\n",
       "      <th>1</th>\n",
       "      <td>CC1(C)S[C@@H]2C(NC(=O)Cc3ccccc3)C(=O)N2C1C(=O)O</td>\n",
       "      <td>6</td>\n",
       "    </tr>\n",
       "    <tr>\n",
       "      <th>2</th>\n",
       "      <td>CC(N)Cc1ccccc1</td>\n",
       "      <td>5</td>\n",
       "    </tr>\n",
       "    <tr>\n",
       "      <th>3</th>\n",
       "      <td>CN(C)CCC(c1ccc(Br)cc1)c1ccccn1</td>\n",
       "      <td>4</td>\n",
       "    </tr>\n",
       "    <tr>\n",
       "      <th>4</th>\n",
       "      <td>COc1ccc2[nH]c([S@@+]([O-])Cc3ncc(C)c(OC)c3C)nc2c1</td>\n",
       "      <td>4</td>\n",
       "    </tr>\n",
       "    <tr>\n",
       "      <th>...</th>\n",
       "      <td>...</td>\n",
       "      <td>...</td>\n",
       "    </tr>\n",
       "    <tr>\n",
       "      <th>1539</th>\n",
       "      <td>COC(=O)C1[C@H]2C[C@@H]3c4[nH]c5cc(OC)ccc5c4CCN...</td>\n",
       "      <td>1</td>\n",
       "    </tr>\n",
       "    <tr>\n",
       "      <th>1540</th>\n",
       "      <td>CCCCC(=O)N(Cc1ccc(-c2ccccc2-c2nn[nH]n2)cc1)C(C...</td>\n",
       "      <td>1</td>\n",
       "    </tr>\n",
       "    <tr>\n",
       "      <th>1541</th>\n",
       "      <td>C[C@H]1O[C@@H](O[C@H]2[C@@H](O)C[C@H](O[C@H]3[...</td>\n",
       "      <td>1</td>\n",
       "    </tr>\n",
       "    <tr>\n",
       "      <th>1542</th>\n",
       "      <td>COc1cc(C(=O)NS(=O)(=O)c2ccccc2C)ccc1Cc1cn(C)c2...</td>\n",
       "      <td>1</td>\n",
       "    </tr>\n",
       "    <tr>\n",
       "      <th>1543</th>\n",
       "      <td>c1cc(CN2CCCNCCNCCCNCC2)ccc1CN1CCCNCCNCCCNCC1</td>\n",
       "      <td>1</td>\n",
       "    </tr>\n",
       "  </tbody>\n",
       "</table>\n",
       "<p>1544 rows × 2 columns</p>\n",
       "</div>"
      ],
      "text/plain": [
       "                                             std_smiles  count\n",
       "0                            O=C(O)CC(O)(CC(=O)O)C(=O)O      7\n",
       "1       CC1(C)S[C@@H]2C(NC(=O)Cc3ccccc3)C(=O)N2C1C(=O)O      6\n",
       "2                                        CC(N)Cc1ccccc1      5\n",
       "3                        CN(C)CCC(c1ccc(Br)cc1)c1ccccn1      4\n",
       "4     COc1ccc2[nH]c([S@@+]([O-])Cc3ncc(C)c(OC)c3C)nc2c1      4\n",
       "...                                                 ...    ...\n",
       "1539  COC(=O)C1[C@H]2C[C@@H]3c4[nH]c5cc(OC)ccc5c4CCN...      1\n",
       "1540  CCCCC(=O)N(Cc1ccc(-c2ccccc2-c2nn[nH]n2)cc1)C(C...      1\n",
       "1541  C[C@H]1O[C@@H](O[C@H]2[C@@H](O)C[C@H](O[C@H]3[...      1\n",
       "1542  COc1cc(C(=O)NS(=O)(=O)c2ccccc2C)ccc1Cc1cn(C)c2...      1\n",
       "1543       c1cc(CN2CCCNCCNCCCNCC2)ccc1CN1CCCNCCNCCCNCC1      1\n",
       "\n",
       "[1544 rows x 2 columns]"
      ]
     },
     "execution_count": 13,
     "metadata": {},
     "output_type": "execute_result"
    }
   ],
   "source": [
    "df_freq = uru.value_counts_df(df_ok, \"std_smiles\")\n",
    "df_freq"
   ]
  },
  {
   "cell_type": "markdown",
   "id": "6b2a11d5",
   "metadata": {
    "pycharm": {
     "name": "#%% md\n"
    }
   },
   "source": [
    "If we take a look at this one, we see various forms of penicillin."
   ]
  },
  {
   "cell_type": "code",
   "execution_count": 14,
   "id": "7094c4ea",
   "metadata": {
    "pycharm": {
     "name": "#%%\n"
    }
   },
   "outputs": [
    {
     "name": "stdout",
     "output_type": "stream",
     "text": [
      "CC1(C)S[C@@H]2C(NC(=O)Cc3ccccc3)C(=O)N2C1C(=O)O\n"
     ]
    },
    {
     "data": {
      "text/html": [
       "<div>\n",
       "<style scoped>\n",
       "    .dataframe tbody tr th:only-of-type {\n",
       "        vertical-align: middle;\n",
       "    }\n",
       "\n",
       "    .dataframe tbody tr th {\n",
       "        vertical-align: top;\n",
       "    }\n",
       "\n",
       "    .dataframe thead th {\n",
       "        text-align: right;\n",
       "    }\n",
       "</style>\n",
       "<table border=\"1\" class=\"dataframe\">\n",
       "  <thead>\n",
       "    <tr style=\"text-align: right;\">\n",
       "      <th></th>\n",
       "      <th>canonical_smiles</th>\n",
       "      <th>molregno</th>\n",
       "      <th>pref_name</th>\n",
       "      <th>first_approval</th>\n",
       "      <th>dosed_ingredient</th>\n",
       "      <th>oral</th>\n",
       "      <th>parenteral</th>\n",
       "      <th>topical</th>\n",
       "      <th>black_box_warning</th>\n",
       "      <th>first_in_class</th>\n",
       "      <th>std_smiles</th>\n",
       "    </tr>\n",
       "  </thead>\n",
       "  <tbody>\n",
       "    <tr>\n",
       "      <th>569</th>\n",
       "      <td>CC1(C)S[C@@H]2[C@H](NC(=O)Cc3ccccc3)C(=O)N2[C@...</td>\n",
       "      <td>1615</td>\n",
       "      <td>BENZYLPENICILLIN</td>\n",
       "      <td>1947</td>\n",
       "      <td>1</td>\n",
       "      <td>1</td>\n",
       "      <td>1</td>\n",
       "      <td>0</td>\n",
       "      <td>1</td>\n",
       "      <td>0</td>\n",
       "      <td>CC1(C)S[C@@H]2C(NC(=O)Cc3ccccc3)C(=O)N2C1C(=O)O</td>\n",
       "    </tr>\n",
       "    <tr>\n",
       "      <th>574</th>\n",
       "      <td>CC1(C)S[C@@H]2[C@H](NC(=O)Cc3ccccc3)C(=O)N2[C@...</td>\n",
       "      <td>226400</td>\n",
       "      <td>PENICILLIN G POTASSIUM</td>\n",
       "      <td>1947</td>\n",
       "      <td>1</td>\n",
       "      <td>1</td>\n",
       "      <td>1</td>\n",
       "      <td>0</td>\n",
       "      <td>0</td>\n",
       "      <td>0</td>\n",
       "      <td>CC1(C)S[C@@H]2C(NC(=O)Cc3ccccc3)C(=O)N2C1C(=O)O</td>\n",
       "    </tr>\n",
       "    <tr>\n",
       "      <th>571</th>\n",
       "      <td>CC1(C)S[C@@H]2[C@H](NC(=O)Cc3ccccc3)C(=O)N2[C@...</td>\n",
       "      <td>1051276</td>\n",
       "      <td>PROCAINE BENZYLPENICILLIN</td>\n",
       "      <td>1948</td>\n",
       "      <td>1</td>\n",
       "      <td>0</td>\n",
       "      <td>1</td>\n",
       "      <td>0</td>\n",
       "      <td>0</td>\n",
       "      <td>0</td>\n",
       "      <td>CC1(C)S[C@@H]2C(NC(=O)Cc3ccccc3)C(=O)N2C1C(=O)O</td>\n",
       "    </tr>\n",
       "    <tr>\n",
       "      <th>572</th>\n",
       "      <td>CC1(C)S[C@@H]2[C@H](NC(=O)Cc3ccccc3)C(=O)N2[C@...</td>\n",
       "      <td>674887</td>\n",
       "      <td>PENICILLIN G PROCAINE</td>\n",
       "      <td>1948</td>\n",
       "      <td>1</td>\n",
       "      <td>0</td>\n",
       "      <td>1</td>\n",
       "      <td>0</td>\n",
       "      <td>0</td>\n",
       "      <td>0</td>\n",
       "      <td>CC1(C)S[C@@H]2C(NC(=O)Cc3ccccc3)C(=O)N2C1C(=O)O</td>\n",
       "    </tr>\n",
       "    <tr>\n",
       "      <th>570</th>\n",
       "      <td>CC1(C)S[C@@H]2[C@H](NC(=O)Cc3ccccc3)C(=O)N2[C@...</td>\n",
       "      <td>2197386</td>\n",
       "      <td>PENICILLIN G BENZATHINE</td>\n",
       "      <td>1952</td>\n",
       "      <td>1</td>\n",
       "      <td>1</td>\n",
       "      <td>1</td>\n",
       "      <td>0</td>\n",
       "      <td>1</td>\n",
       "      <td>0</td>\n",
       "      <td>CC1(C)S[C@@H]2C(NC(=O)Cc3ccccc3)C(=O)N2C1C(=O)O</td>\n",
       "    </tr>\n",
       "    <tr>\n",
       "      <th>575</th>\n",
       "      <td>CC1(C)S[C@@H]2[C@H](NC(=O)Cc3ccccc3)C(=O)N2[C@...</td>\n",
       "      <td>167260</td>\n",
       "      <td>PENICILLIN G SODIUM</td>\n",
       "      <td>1988</td>\n",
       "      <td>1</td>\n",
       "      <td>0</td>\n",
       "      <td>1</td>\n",
       "      <td>0</td>\n",
       "      <td>0</td>\n",
       "      <td>0</td>\n",
       "      <td>CC1(C)S[C@@H]2C(NC(=O)Cc3ccccc3)C(=O)N2C1C(=O)O</td>\n",
       "    </tr>\n",
       "  </tbody>\n",
       "</table>\n",
       "</div>"
      ],
      "text/plain": [
       "                                      canonical_smiles  molregno  \\\n",
       "569  CC1(C)S[C@@H]2[C@H](NC(=O)Cc3ccccc3)C(=O)N2[C@...      1615   \n",
       "574  CC1(C)S[C@@H]2[C@H](NC(=O)Cc3ccccc3)C(=O)N2[C@...    226400   \n",
       "571  CC1(C)S[C@@H]2[C@H](NC(=O)Cc3ccccc3)C(=O)N2[C@...   1051276   \n",
       "572  CC1(C)S[C@@H]2[C@H](NC(=O)Cc3ccccc3)C(=O)N2[C@...    674887   \n",
       "570  CC1(C)S[C@@H]2[C@H](NC(=O)Cc3ccccc3)C(=O)N2[C@...   2197386   \n",
       "575  CC1(C)S[C@@H]2[C@H](NC(=O)Cc3ccccc3)C(=O)N2[C@...    167260   \n",
       "\n",
       "                     pref_name  first_approval  dosed_ingredient  oral  \\\n",
       "569           BENZYLPENICILLIN            1947                 1     1   \n",
       "574     PENICILLIN G POTASSIUM            1947                 1     1   \n",
       "571  PROCAINE BENZYLPENICILLIN            1948                 1     0   \n",
       "572      PENICILLIN G PROCAINE            1948                 1     0   \n",
       "570    PENICILLIN G BENZATHINE            1952                 1     1   \n",
       "575        PENICILLIN G SODIUM            1988                 1     0   \n",
       "\n",
       "     parenteral  topical  black_box_warning  first_in_class  \\\n",
       "569           1        0                  1               0   \n",
       "574           1        0                  0               0   \n",
       "571           1        0                  0               0   \n",
       "572           1        0                  0               0   \n",
       "570           1        0                  1               0   \n",
       "575           1        0                  0               0   \n",
       "\n",
       "                                          std_smiles  \n",
       "569  CC1(C)S[C@@H]2C(NC(=O)Cc3ccccc3)C(=O)N2C1C(=O)O  \n",
       "574  CC1(C)S[C@@H]2C(NC(=O)Cc3ccccc3)C(=O)N2C1C(=O)O  \n",
       "571  CC1(C)S[C@@H]2C(NC(=O)Cc3ccccc3)C(=O)N2C1C(=O)O  \n",
       "572  CC1(C)S[C@@H]2C(NC(=O)Cc3ccccc3)C(=O)N2C1C(=O)O  \n",
       "570  CC1(C)S[C@@H]2C(NC(=O)Cc3ccccc3)C(=O)N2C1C(=O)O  \n",
       "575  CC1(C)S[C@@H]2C(NC(=O)Cc3ccccc3)C(=O)N2C1C(=O)O  "
      ]
     },
     "execution_count": 14,
     "metadata": {},
     "output_type": "execute_result"
    }
   ],
   "source": [
    "query_smi = df_freq.std_smiles.values[1]\n",
    "print(query_smi)\n",
    "df_ok.query(\"std_smiles == @query_smi\").sort_values(\"first_approval\")"
   ]
  },
  {
   "cell_type": "markdown",
   "id": "81a13cb5",
   "metadata": {
    "pycharm": {
     "name": "#%% md\n"
    }
   },
   "source": [
    "Now let's remove the duplicate structures. To do this, we sort by **first_approval** then remove duplicate **std_smiles**\""
   ]
  },
  {
   "cell_type": "code",
   "execution_count": 15,
   "id": "96ba3857",
   "metadata": {
    "pycharm": {
     "name": "#%%\n"
    }
   },
   "outputs": [
    {
     "data": {
      "text/plain": [
       "(2314, 1544)"
      ]
     },
     "execution_count": 15,
     "metadata": {},
     "output_type": "execute_result"
    }
   ],
   "source": [
    "df_ok_nodupe = df_ok.sort_values(\"first_approval\").drop_duplicates(\"std_smiles\").copy()\n",
    "len(df_ok), len(df_ok_nodupe)"
   ]
  },
  {
   "cell_type": "markdown",
   "id": "5ffbd52a",
   "metadata": {
    "pycharm": {
     "name": "#%% md\n"
    }
   },
   "source": [
    "Next, let's limit our analysis to oral drugs. "
   ]
  },
  {
   "cell_type": "code",
   "execution_count": 16,
   "id": "3ee2cba4",
   "metadata": {
    "pycharm": {
     "name": "#%%\n"
    }
   },
   "outputs": [
    {
     "data": {
      "text/plain": [
       "1032"
      ]
     },
     "execution_count": 16,
     "metadata": {},
     "output_type": "execute_result"
    }
   ],
   "source": [
    "df_oral_ok_nodupe = df_ok_nodupe.query(\"oral == 1\").copy()\n",
    "len(df_oral_ok_nodupe)"
   ]
  },
  {
   "cell_type": "markdown",
   "id": "4a50a0a0",
   "metadata": {
    "pycharm": {
     "name": "#%% md\n"
    }
   },
   "source": [
    "There still may be duplicates that are the same structure with different charge states.  One way to handle this is to generate an InChI for each structure and remove the charge layer.  In this way, the charged and uncharged versions will have the same InChI string. "
   ]
  },
  {
   "cell_type": "markdown",
   "id": "d2a2c09f",
   "metadata": {
    "pycharm": {
     "name": "#%% md\n"
    }
   },
   "source": [
    "Define a function to generate an InChI without the charge field.  This is a bit of a hack.  I should probably be passing the \"nochg\" option to Chem.MolToInchi but I can't figure out how to do that. "
   ]
  },
  {
   "cell_type": "code",
   "execution_count": 17,
   "id": "4bdc8df7",
   "metadata": {
    "pycharm": {
     "name": "#%%\n"
    }
   },
   "outputs": [],
   "source": [
    "def smi_to_inchi_nochg(smi):\n",
    "    mol = Chem.MolFromSmiles(smi)\n",
    "    inchi = Chem.MolToInchi(mol)\n",
    "    return re.sub(\"/p\\+[0-9]+\", \"\", inchi)"
   ]
  },
  {
   "cell_type": "markdown",
   "id": "8342397c",
   "metadata": {
    "pycharm": {
     "name": "#%% md\n"
    }
   },
   "source": [
    "To test our function we'll generate InChi strings for the neutral and protonated forms of propylamine.  We can then check to see if the InChi strings are the same."
   ]
  },
  {
   "cell_type": "code",
   "execution_count": 18,
   "id": "339617f3",
   "metadata": {
    "pycharm": {
     "name": "#%%\n"
    }
   },
   "outputs": [
    {
     "name": "stderr",
     "output_type": "stream",
     "text": [
      "[16:41:15] WARNING: Proton(s) added/removed\n",
      "\n"
     ]
    },
    {
     "data": {
      "text/plain": [
       "('InChI=1S/C3H9N/c1-2-3-4/h2-4H2,1H3',\n",
       " 'InChI=1S/C3H9N/c1-2-3-4/h2-4H2,1H3',\n",
       " True)"
      ]
     },
     "execution_count": 18,
     "metadata": {},
     "output_type": "execute_result"
    }
   ],
   "source": [
    "no_chg_inchi = smi_to_inchi_nochg(\"CCCN\")\n",
    "chg_inchi = smi_to_inchi_nochg(\"CCC[NH3+]\")\n",
    "no_chg_inchi, chg_inchi, chg_inchi == no_chg_inchi"
   ]
  },
  {
   "cell_type": "markdown",
   "id": "2eace57e",
   "metadata": {
    "pycharm": {
     "name": "#%% md\n"
    }
   },
   "source": [
    "Now we'll apply this function to all the structures in our dataframe. As above, I'm using **BlockLogs** to ignore the logging messages."
   ]
  },
  {
   "cell_type": "code",
   "execution_count": 19,
   "id": "256f927c",
   "metadata": {
    "pycharm": {
     "name": "#%%\n"
    }
   },
   "outputs": [],
   "source": [
    "with BlockLogs():\n",
    "    df_oral_ok_nodupe['inchi'] = df_oral_ok_nodupe.std_smiles.apply(smi_to_inchi_nochg)"
   ]
  },
  {
   "cell_type": "markdown",
   "id": "e2f55005",
   "metadata": {
    "pycharm": {
     "name": "#%% md\n"
    }
   },
   "source": [
    "Let's see if we have any InChI duplicates.  We can use the function **value_counts_df** from the [useful_rdkit_utils](https://github.com/PatWalters/useful_rdkit_utils) package to convert the results of the Pandas value_counts method to a nicely formatted dataframe.  It looks like there's only one example with two different charge states."
   ]
  },
  {
   "cell_type": "code",
   "execution_count": 20,
   "id": "219c0733",
   "metadata": {
    "pycharm": {
     "name": "#%%\n"
    }
   },
   "outputs": [
    {
     "data": {
      "text/html": [
       "<div>\n",
       "<style scoped>\n",
       "    .dataframe tbody tr th:only-of-type {\n",
       "        vertical-align: middle;\n",
       "    }\n",
       "\n",
       "    .dataframe tbody tr th {\n",
       "        vertical-align: top;\n",
       "    }\n",
       "\n",
       "    .dataframe thead th {\n",
       "        text-align: right;\n",
       "    }\n",
       "</style>\n",
       "<table border=\"1\" class=\"dataframe\">\n",
       "  <thead>\n",
       "    <tr style=\"text-align: right;\">\n",
       "      <th></th>\n",
       "      <th>inchi</th>\n",
       "      <th>count</th>\n",
       "    </tr>\n",
       "  </thead>\n",
       "  <tbody>\n",
       "    <tr>\n",
       "      <th>0</th>\n",
       "      <td>InChI=1S/C31H35F6N4O5P/c1-20-8-6-7-9-24(20)25-...</td>\n",
       "      <td>2</td>\n",
       "    </tr>\n",
       "    <tr>\n",
       "      <th>1</th>\n",
       "      <td>InChI=1S/C4H6O6/c5-1(3(7)8)2(6)4(9)10/h1-2,5-6...</td>\n",
       "      <td>1</td>\n",
       "    </tr>\n",
       "    <tr>\n",
       "      <th>2</th>\n",
       "      <td>InChI=1S/C27H38N2O4/c1-20(2)27(19-28,22-10-12-...</td>\n",
       "      <td>1</td>\n",
       "    </tr>\n",
       "    <tr>\n",
       "      <th>3</th>\n",
       "      <td>InChI=1S/C7H8ClN3O4S2/c8-4-1-5-7(2-6(4)16(9,12...</td>\n",
       "      <td>1</td>\n",
       "    </tr>\n",
       "    <tr>\n",
       "      <th>4</th>\n",
       "      <td>InChI=1S/C29H42O6/c1-27-13-11-20(30)15-19(27)8...</td>\n",
       "      <td>1</td>\n",
       "    </tr>\n",
       "    <tr>\n",
       "      <th>...</th>\n",
       "      <td>...</td>\n",
       "      <td>...</td>\n",
       "    </tr>\n",
       "    <tr>\n",
       "      <th>1026</th>\n",
       "      <td>InChI=1S/C17H19FN2O2/c1-12(17(19)21)20-10-13-5...</td>\n",
       "      <td>1</td>\n",
       "    </tr>\n",
       "    <tr>\n",
       "      <th>1027</th>\n",
       "      <td>InChI=1S/C17H19ClN2S/c1-19(2)10-5-11-20-14-6-3...</td>\n",
       "      <td>1</td>\n",
       "    </tr>\n",
       "    <tr>\n",
       "      <th>1028</th>\n",
       "      <td>InChI=1S/C21H46NO4P/c1-5-6-7-8-9-10-11-12-13-1...</td>\n",
       "      <td>1</td>\n",
       "    </tr>\n",
       "    <tr>\n",
       "      <th>1029</th>\n",
       "      <td>InChI=1S/C22H27ClFN7O4S/c1-12(2)31-11-16(17-6-...</td>\n",
       "      <td>1</td>\n",
       "    </tr>\n",
       "    <tr>\n",
       "      <th>1030</th>\n",
       "      <td>InChI=1S/C15H16O2/c1-11(16)3-4-12-5-6-14-10-15...</td>\n",
       "      <td>1</td>\n",
       "    </tr>\n",
       "  </tbody>\n",
       "</table>\n",
       "<p>1031 rows × 2 columns</p>\n",
       "</div>"
      ],
      "text/plain": [
       "                                                  inchi  count\n",
       "0     InChI=1S/C31H35F6N4O5P/c1-20-8-6-7-9-24(20)25-...      2\n",
       "1     InChI=1S/C4H6O6/c5-1(3(7)8)2(6)4(9)10/h1-2,5-6...      1\n",
       "2     InChI=1S/C27H38N2O4/c1-20(2)27(19-28,22-10-12-...      1\n",
       "3     InChI=1S/C7H8ClN3O4S2/c8-4-1-5-7(2-6(4)16(9,12...      1\n",
       "4     InChI=1S/C29H42O6/c1-27-13-11-20(30)15-19(27)8...      1\n",
       "...                                                 ...    ...\n",
       "1026  InChI=1S/C17H19FN2O2/c1-12(17(19)21)20-10-13-5...      1\n",
       "1027  InChI=1S/C17H19ClN2S/c1-19(2)10-5-11-20-14-6-3...      1\n",
       "1028  InChI=1S/C21H46NO4P/c1-5-6-7-8-9-10-11-12-13-1...      1\n",
       "1029  InChI=1S/C22H27ClFN7O4S/c1-12(2)31-11-16(17-6-...      1\n",
       "1030  InChI=1S/C15H16O2/c1-11(16)3-4-12-5-6-14-10-15...      1\n",
       "\n",
       "[1031 rows x 2 columns]"
      ]
     },
     "execution_count": 20,
     "metadata": {},
     "output_type": "execute_result"
    }
   ],
   "source": [
    "df_dupe_inchi = uru.value_counts_df(df_oral_ok_nodupe, \"inchi\")\n",
    "df_dupe_inchi"
   ]
  },
  {
   "cell_type": "markdown",
   "id": "8bdbab18",
   "metadata": {
    "pycharm": {
     "name": "#%% md\n"
    }
   },
   "source": [
    "Let's take a closer look at this example."
   ]
  },
  {
   "cell_type": "code",
   "execution_count": 21,
   "id": "32ef4572",
   "metadata": {
    "pycharm": {
     "name": "#%%\n"
    }
   },
   "outputs": [
    {
     "data": {
      "text/html": [
       "<div>\n",
       "<style scoped>\n",
       "    .dataframe tbody tr th:only-of-type {\n",
       "        vertical-align: middle;\n",
       "    }\n",
       "\n",
       "    .dataframe tbody tr th {\n",
       "        vertical-align: top;\n",
       "    }\n",
       "\n",
       "    .dataframe thead th {\n",
       "        text-align: right;\n",
       "    }\n",
       "</style>\n",
       "<table border=\"1\" class=\"dataframe\">\n",
       "  <thead>\n",
       "    <tr style=\"text-align: right;\">\n",
       "      <th></th>\n",
       "      <th>canonical_smiles</th>\n",
       "      <th>molregno</th>\n",
       "      <th>pref_name</th>\n",
       "      <th>first_approval</th>\n",
       "      <th>dosed_ingredient</th>\n",
       "      <th>oral</th>\n",
       "      <th>parenteral</th>\n",
       "      <th>topical</th>\n",
       "      <th>black_box_warning</th>\n",
       "      <th>first_in_class</th>\n",
       "      <th>std_smiles</th>\n",
       "      <th>inchi</th>\n",
       "    </tr>\n",
       "  </thead>\n",
       "  <tbody>\n",
       "    <tr>\n",
       "      <th>2208</th>\n",
       "      <td>Cc1ccccc1-c1cc(N2CC[N+](C)(COP(=O)(O)O)CC2)ncc...</td>\n",
       "      <td>2197790</td>\n",
       "      <td>FOSNETUPITANT CHLORIDE HYDROCHLORIDE</td>\n",
       "      <td>2018</td>\n",
       "      <td>1</td>\n",
       "      <td>1</td>\n",
       "      <td>1</td>\n",
       "      <td>0</td>\n",
       "      <td>0</td>\n",
       "      <td>0</td>\n",
       "      <td>Cc1ccccc1-c1cc(N2CC[N+](C)(COP(=O)(O)O)CC2)ncc...</td>\n",
       "      <td>InChI=1S/C31H35F6N4O5P/c1-20-8-6-7-9-24(20)25-...</td>\n",
       "    </tr>\n",
       "    <tr>\n",
       "      <th>2209</th>\n",
       "      <td>Cc1ccccc1-c1cc(N2CC[N+](C)(COP(=O)([O-])O)CC2)...</td>\n",
       "      <td>2197788</td>\n",
       "      <td>FOSNETUPITANT</td>\n",
       "      <td>2018</td>\n",
       "      <td>0</td>\n",
       "      <td>1</td>\n",
       "      <td>1</td>\n",
       "      <td>0</td>\n",
       "      <td>0</td>\n",
       "      <td>0</td>\n",
       "      <td>Cc1ccccc1-c1cc(N2CC[N+](C)(COP(=O)([O-])O)CC2)...</td>\n",
       "      <td>InChI=1S/C31H35F6N4O5P/c1-20-8-6-7-9-24(20)25-...</td>\n",
       "    </tr>\n",
       "  </tbody>\n",
       "</table>\n",
       "</div>"
      ],
      "text/plain": [
       "                                       canonical_smiles  molregno  \\\n",
       "2208  Cc1ccccc1-c1cc(N2CC[N+](C)(COP(=O)(O)O)CC2)ncc...   2197790   \n",
       "2209  Cc1ccccc1-c1cc(N2CC[N+](C)(COP(=O)([O-])O)CC2)...   2197788   \n",
       "\n",
       "                                 pref_name  first_approval  dosed_ingredient  \\\n",
       "2208  FOSNETUPITANT CHLORIDE HYDROCHLORIDE            2018                 1   \n",
       "2209                         FOSNETUPITANT            2018                 0   \n",
       "\n",
       "      oral  parenteral  topical  black_box_warning  first_in_class  \\\n",
       "2208     1           1        0                  0               0   \n",
       "2209     1           1        0                  0               0   \n",
       "\n",
       "                                             std_smiles  \\\n",
       "2208  Cc1ccccc1-c1cc(N2CC[N+](C)(COP(=O)(O)O)CC2)ncc...   \n",
       "2209  Cc1ccccc1-c1cc(N2CC[N+](C)(COP(=O)([O-])O)CC2)...   \n",
       "\n",
       "                                                  inchi  \n",
       "2208  InChI=1S/C31H35F6N4O5P/c1-20-8-6-7-9-24(20)25-...  \n",
       "2209  InChI=1S/C31H35F6N4O5P/c1-20-8-6-7-9-24(20)25-...  "
      ]
     },
     "execution_count": 21,
     "metadata": {},
     "output_type": "execute_result"
    }
   ],
   "source": [
    "inchi_val = df_dupe_inchi.inchi.values[0]\n",
    "dupe_inchi_df = df_oral_ok_nodupe.query(\"inchi == @inchi_val\")\n",
    "dupe_inchi_df"
   ]
  },
  {
   "cell_type": "code",
   "execution_count": 22,
   "id": "827acd3d",
   "metadata": {
    "pycharm": {
     "name": "#%%\n"
    }
   },
   "outputs": [
    {
     "data": {
      "text/plain": [
       "array(['Cc1ccccc1-c1cc(N2CC[N+](C)(COP(=O)(O)O)CC2)ncc1N(C)C(=O)C(C)(C)c1cc(C(F)(F)F)cc(C(F)(F)F)c1',\n",
       "       'Cc1ccccc1-c1cc(N2CC[N+](C)(COP(=O)([O-])O)CC2)ncc1N(C)C(=O)C(C)(C)c1cc(C(F)(F)F)cc(C(F)(F)F)c1'],\n",
       "      dtype=object)"
      ]
     },
     "execution_count": 22,
     "metadata": {},
     "output_type": "execute_result"
    }
   ],
   "source": [
    "dupe_inchi_df.std_smiles.values"
   ]
  },
  {
   "cell_type": "code",
   "execution_count": 23,
   "id": "0b11489e",
   "metadata": {
    "pycharm": {
     "name": "#%%\n"
    }
   },
   "outputs": [
    {
     "data": {
      "image/svg+xml": [
       "<svg xmlns=\"http://www.w3.org/2000/svg\" xmlns:rdkit=\"http://www.rdkit.org/xml\" xmlns:xlink=\"http://www.w3.org/1999/xlink\" version=\"1.1\" baseProfile=\"full\" xml:space=\"preserve\" width=\"1050px\" height=\"350px\" viewBox=\"0 0 1050 350\">\n",
       "<!-- END OF HEADER -->\n",
       "<rect style=\"opacity:1.0;fill:#FFFFFF;stroke:none\" width=\"1050.0\" height=\"350.0\" x=\"0.0\" y=\"0.0\"> </rect>\n",
       "<path class=\"bond-0 atom-0 atom-1\" d=\"M 145.1,140.6 L 166.3,136.2\" style=\"fill:none;fill-rule:evenodd;stroke:#000000;stroke-width:2.0px;stroke-linecap:butt;stroke-linejoin:miter;stroke-opacity:1\"/>\n",
       "<path class=\"bond-1 atom-1 atom-2\" d=\"M 166.3,136.2 L 173.0,115.6\" style=\"fill:none;fill-rule:evenodd;stroke:#000000;stroke-width:2.0px;stroke-linecap:butt;stroke-linejoin:miter;stroke-opacity:1\"/>\n",
       "<path class=\"bond-1 atom-1 atom-2\" d=\"M 170.0,135.4 L 175.5,118.4\" style=\"fill:none;fill-rule:evenodd;stroke:#000000;stroke-width:2.0px;stroke-linecap:butt;stroke-linejoin:miter;stroke-opacity:1\"/>\n",
       "<path class=\"bond-2 atom-2 atom-3\" d=\"M 173.0,115.6 L 194.2,111.2\" style=\"fill:none;fill-rule:evenodd;stroke:#000000;stroke-width:2.0px;stroke-linecap:butt;stroke-linejoin:miter;stroke-opacity:1\"/>\n",
       "<path class=\"bond-3 atom-3 atom-4\" d=\"M 194.2,111.2 L 208.6,127.3\" style=\"fill:none;fill-rule:evenodd;stroke:#000000;stroke-width:2.0px;stroke-linecap:butt;stroke-linejoin:miter;stroke-opacity:1\"/>\n",
       "<path class=\"bond-3 atom-3 atom-4\" d=\"M 193.0,114.8 L 204.9,128.1\" style=\"fill:none;fill-rule:evenodd;stroke:#000000;stroke-width:2.0px;stroke-linecap:butt;stroke-linejoin:miter;stroke-opacity:1\"/>\n",
       "<path class=\"bond-4 atom-4 atom-5\" d=\"M 208.6,127.3 L 201.8,147.9\" style=\"fill:none;fill-rule:evenodd;stroke:#000000;stroke-width:2.0px;stroke-linecap:butt;stroke-linejoin:miter;stroke-opacity:1\"/>\n",
       "<path class=\"bond-5 atom-5 atom-6\" d=\"M 201.8,147.9 L 180.7,152.3\" style=\"fill:none;fill-rule:evenodd;stroke:#000000;stroke-width:2.0px;stroke-linecap:butt;stroke-linejoin:miter;stroke-opacity:1\"/>\n",
       "<path class=\"bond-5 atom-5 atom-6\" d=\"M 199.3,145.1 L 181.9,148.7\" style=\"fill:none;fill-rule:evenodd;stroke:#000000;stroke-width:2.0px;stroke-linecap:butt;stroke-linejoin:miter;stroke-opacity:1\"/>\n",
       "<path class=\"bond-6 atom-6 atom-7\" d=\"M 180.7,152.3 L 173.9,172.8\" style=\"fill:none;fill-rule:evenodd;stroke:#000000;stroke-width:2.0px;stroke-linecap:butt;stroke-linejoin:miter;stroke-opacity:1\"/>\n",
       "<path class=\"bond-7 atom-7 atom-8\" d=\"M 173.9,172.8 L 152.8,177.2\" style=\"fill:none;fill-rule:evenodd;stroke:#000000;stroke-width:2.0px;stroke-linecap:butt;stroke-linejoin:miter;stroke-opacity:1\"/>\n",
       "<path class=\"bond-7 atom-7 atom-8\" d=\"M 172.8,176.4 L 155.3,180.0\" style=\"fill:none;fill-rule:evenodd;stroke:#000000;stroke-width:2.0px;stroke-linecap:butt;stroke-linejoin:miter;stroke-opacity:1\"/>\n",
       "<path class=\"bond-8 atom-8 atom-9\" d=\"M 152.8,177.2 L 146.0,197.8\" style=\"fill:none;fill-rule:evenodd;stroke:#000000;stroke-width:2.0px;stroke-linecap:butt;stroke-linejoin:miter;stroke-opacity:1\"/>\n",
       "<path class=\"bond-9 atom-9 atom-10\" d=\"M 146.0,197.8 L 137.0,199.7\" style=\"fill:none;fill-rule:evenodd;stroke:#000000;stroke-width:2.0px;stroke-linecap:butt;stroke-linejoin:miter;stroke-opacity:1\"/>\n",
       "<path class=\"bond-9 atom-9 atom-10\" d=\"M 137.0,199.7 L 127.9,201.5\" style=\"fill:none;fill-rule:evenodd;stroke:#0000FF;stroke-width:2.0px;stroke-linecap:butt;stroke-linejoin:miter;stroke-opacity:1\"/>\n",
       "<path class=\"bond-10 atom-10 atom-11\" d=\"M 121.8,198.8 L 116.2,192.4\" style=\"fill:none;fill-rule:evenodd;stroke:#0000FF;stroke-width:2.0px;stroke-linecap:butt;stroke-linejoin:miter;stroke-opacity:1\"/>\n",
       "<path class=\"bond-10 atom-10 atom-11\" d=\"M 116.2,192.4 L 110.5,186.1\" style=\"fill:none;fill-rule:evenodd;stroke:#000000;stroke-width:2.0px;stroke-linecap:butt;stroke-linejoin:miter;stroke-opacity:1\"/>\n",
       "<path class=\"bond-11 atom-11 atom-12\" d=\"M 110.5,186.1 L 89.3,190.5\" style=\"fill:none;fill-rule:evenodd;stroke:#000000;stroke-width:2.0px;stroke-linecap:butt;stroke-linejoin:miter;stroke-opacity:1\"/>\n",
       "<path class=\"bond-12 atom-12 atom-13\" d=\"M 89.3,190.5 L 86.6,198.9\" style=\"fill:none;fill-rule:evenodd;stroke:#000000;stroke-width:2.0px;stroke-linecap:butt;stroke-linejoin:miter;stroke-opacity:1\"/>\n",
       "<path class=\"bond-12 atom-12 atom-13\" d=\"M 86.6,198.9 L 83.8,207.2\" style=\"fill:none;fill-rule:evenodd;stroke:#0000FF;stroke-width:2.0px;stroke-linecap:butt;stroke-linejoin:miter;stroke-opacity:1\"/>\n",
       "<path class=\"bond-13 atom-13 atom-14\" d=\"M 79.6,214.8 L 74.4,221.4\" style=\"fill:none;fill-rule:evenodd;stroke:#0000FF;stroke-width:2.0px;stroke-linecap:butt;stroke-linejoin:miter;stroke-opacity:1\"/>\n",
       "<path class=\"bond-13 atom-13 atom-14\" d=\"M 74.4,221.4 L 69.2,228.0\" style=\"fill:none;fill-rule:evenodd;stroke:#000000;stroke-width:2.0px;stroke-linecap:butt;stroke-linejoin:miter;stroke-opacity:1\"/>\n",
       "<path class=\"bond-14 atom-13 atom-15\" d=\"M 79.5,209.4 L 71.5,205.1\" style=\"fill:none;fill-rule:evenodd;stroke:#0000FF;stroke-width:2.0px;stroke-linecap:butt;stroke-linejoin:miter;stroke-opacity:1\"/>\n",
       "<path class=\"bond-14 atom-13 atom-15\" d=\"M 71.5,205.1 L 63.5,200.8\" style=\"fill:none;fill-rule:evenodd;stroke:#000000;stroke-width:2.0px;stroke-linecap:butt;stroke-linejoin:miter;stroke-opacity:1\"/>\n",
       "<path class=\"bond-15 atom-15 atom-16\" d=\"M 63.5,200.8 L 63.2,191.9\" style=\"fill:none;fill-rule:evenodd;stroke:#000000;stroke-width:2.0px;stroke-linecap:butt;stroke-linejoin:miter;stroke-opacity:1\"/>\n",
       "<path class=\"bond-15 atom-15 atom-16\" d=\"M 63.2,191.9 L 63.0,183.1\" style=\"fill:none;fill-rule:evenodd;stroke:#FF0000;stroke-width:2.0px;stroke-linecap:butt;stroke-linejoin:miter;stroke-opacity:1\"/>\n",
       "<path class=\"bond-16 atom-16 atom-17\" d=\"M 59.3,177.3 L 52.9,173.9\" style=\"fill:none;fill-rule:evenodd;stroke:#FF0000;stroke-width:2.0px;stroke-linecap:butt;stroke-linejoin:miter;stroke-opacity:1\"/>\n",
       "<path class=\"bond-16 atom-16 atom-17\" d=\"M 52.9,173.9 L 46.5,170.4\" style=\"fill:none;fill-rule:evenodd;stroke:#FF7F00;stroke-width:2.0px;stroke-linecap:butt;stroke-linejoin:miter;stroke-opacity:1\"/>\n",
       "<path class=\"bond-17 atom-17 atom-18\" d=\"M 47.3,166.0 L 50.3,160.3\" style=\"fill:none;fill-rule:evenodd;stroke:#FF7F00;stroke-width:2.0px;stroke-linecap:butt;stroke-linejoin:miter;stroke-opacity:1\"/>\n",
       "<path class=\"bond-17 atom-17 atom-18\" d=\"M 50.3,160.3 L 53.4,154.6\" style=\"fill:none;fill-rule:evenodd;stroke:#FF0000;stroke-width:2.0px;stroke-linecap:butt;stroke-linejoin:miter;stroke-opacity:1\"/>\n",
       "<path class=\"bond-17 atom-17 atom-18\" d=\"M 44.4,164.4 L 47.5,158.8\" style=\"fill:none;fill-rule:evenodd;stroke:#FF7F00;stroke-width:2.0px;stroke-linecap:butt;stroke-linejoin:miter;stroke-opacity:1\"/>\n",
       "<path class=\"bond-17 atom-17 atom-18\" d=\"M 47.5,158.8 L 50.5,153.1\" style=\"fill:none;fill-rule:evenodd;stroke:#FF0000;stroke-width:2.0px;stroke-linecap:butt;stroke-linejoin:miter;stroke-opacity:1\"/>\n",
       "<path class=\"bond-18 atom-17 atom-19\" d=\"M 41.8,172.8 L 38.7,178.5\" style=\"fill:none;fill-rule:evenodd;stroke:#FF7F00;stroke-width:2.0px;stroke-linecap:butt;stroke-linejoin:miter;stroke-opacity:1\"/>\n",
       "<path class=\"bond-18 atom-17 atom-19\" d=\"M 38.7,178.5 L 35.6,184.2\" style=\"fill:none;fill-rule:evenodd;stroke:#FF0000;stroke-width:2.0px;stroke-linecap:butt;stroke-linejoin:miter;stroke-opacity:1\"/>\n",
       "<path class=\"bond-19 atom-17 atom-20\" d=\"M 41.1,167.6 L 34.7,164.1\" style=\"fill:none;fill-rule:evenodd;stroke:#FF7F00;stroke-width:2.0px;stroke-linecap:butt;stroke-linejoin:miter;stroke-opacity:1\"/>\n",
       "<path class=\"bond-19 atom-17 atom-20\" d=\"M 34.7,164.1 L 28.3,160.7\" style=\"fill:none;fill-rule:evenodd;stroke:#FF0000;stroke-width:2.0px;stroke-linecap:butt;stroke-linejoin:miter;stroke-opacity:1\"/>\n",
       "<path class=\"bond-20 atom-13 atom-21\" d=\"M 85.6,214.4 L 91.3,220.8\" style=\"fill:none;fill-rule:evenodd;stroke:#0000FF;stroke-width:2.0px;stroke-linecap:butt;stroke-linejoin:miter;stroke-opacity:1\"/>\n",
       "<path class=\"bond-20 atom-13 atom-21\" d=\"M 91.3,220.8 L 97.0,227.1\" style=\"fill:none;fill-rule:evenodd;stroke:#000000;stroke-width:2.0px;stroke-linecap:butt;stroke-linejoin:miter;stroke-opacity:1\"/>\n",
       "<path class=\"bond-21 atom-21 atom-22\" d=\"M 97.0,227.1 L 118.1,222.7\" style=\"fill:none;fill-rule:evenodd;stroke:#000000;stroke-width:2.0px;stroke-linecap:butt;stroke-linejoin:miter;stroke-opacity:1\"/>\n",
       "<path class=\"bond-22 atom-9 atom-23\" d=\"M 146.0,197.8 L 151.7,204.1\" style=\"fill:none;fill-rule:evenodd;stroke:#000000;stroke-width:2.0px;stroke-linecap:butt;stroke-linejoin:miter;stroke-opacity:1\"/>\n",
       "<path class=\"bond-22 atom-9 atom-23\" d=\"M 151.7,204.1 L 157.4,210.5\" style=\"fill:none;fill-rule:evenodd;stroke:#0000FF;stroke-width:2.0px;stroke-linecap:butt;stroke-linejoin:miter;stroke-opacity:1\"/>\n",
       "<path class=\"bond-22 atom-9 atom-23\" d=\"M 149.7,197.0 L 154.8,202.7\" style=\"fill:none;fill-rule:evenodd;stroke:#000000;stroke-width:2.0px;stroke-linecap:butt;stroke-linejoin:miter;stroke-opacity:1\"/>\n",
       "<path class=\"bond-22 atom-9 atom-23\" d=\"M 154.8,202.7 L 159.8,208.3\" style=\"fill:none;fill-rule:evenodd;stroke:#0000FF;stroke-width:2.0px;stroke-linecap:butt;stroke-linejoin:miter;stroke-opacity:1\"/>\n",
       "<path class=\"bond-23 atom-23 atom-24\" d=\"M 163.5,213.2 L 172.5,211.3\" style=\"fill:none;fill-rule:evenodd;stroke:#0000FF;stroke-width:2.0px;stroke-linecap:butt;stroke-linejoin:miter;stroke-opacity:1\"/>\n",
       "<path class=\"bond-23 atom-23 atom-24\" d=\"M 172.5,211.3 L 181.6,209.5\" style=\"fill:none;fill-rule:evenodd;stroke:#000000;stroke-width:2.0px;stroke-linecap:butt;stroke-linejoin:miter;stroke-opacity:1\"/>\n",
       "<path class=\"bond-24 atom-24 atom-25\" d=\"M 181.6,209.5 L 188.3,188.9\" style=\"fill:none;fill-rule:evenodd;stroke:#000000;stroke-width:2.0px;stroke-linecap:butt;stroke-linejoin:miter;stroke-opacity:1\"/>\n",
       "<path class=\"bond-24 atom-24 atom-25\" d=\"M 179.1,206.7 L 184.7,189.7\" style=\"fill:none;fill-rule:evenodd;stroke:#000000;stroke-width:2.0px;stroke-linecap:butt;stroke-linejoin:miter;stroke-opacity:1\"/>\n",
       "<path class=\"bond-25 atom-25 atom-26\" d=\"M 188.3,188.9 L 197.4,187.0\" style=\"fill:none;fill-rule:evenodd;stroke:#000000;stroke-width:2.0px;stroke-linecap:butt;stroke-linejoin:miter;stroke-opacity:1\"/>\n",
       "<path class=\"bond-25 atom-25 atom-26\" d=\"M 197.4,187.0 L 206.5,185.1\" style=\"fill:none;fill-rule:evenodd;stroke:#0000FF;stroke-width:2.0px;stroke-linecap:butt;stroke-linejoin:miter;stroke-opacity:1\"/>\n",
       "<path class=\"bond-26 atom-26 atom-27\" d=\"M 210.7,180.7 L 213.5,172.4\" style=\"fill:none;fill-rule:evenodd;stroke:#0000FF;stroke-width:2.0px;stroke-linecap:butt;stroke-linejoin:miter;stroke-opacity:1\"/>\n",
       "<path class=\"bond-26 atom-26 atom-27\" d=\"M 213.5,172.4 L 216.2,164.0\" style=\"fill:none;fill-rule:evenodd;stroke:#000000;stroke-width:2.0px;stroke-linecap:butt;stroke-linejoin:miter;stroke-opacity:1\"/>\n",
       "<path class=\"bond-27 atom-26 atom-28\" d=\"M 212.5,187.9 L 218.2,194.3\" style=\"fill:none;fill-rule:evenodd;stroke:#0000FF;stroke-width:2.0px;stroke-linecap:butt;stroke-linejoin:miter;stroke-opacity:1\"/>\n",
       "<path class=\"bond-27 atom-26 atom-28\" d=\"M 218.2,194.3 L 223.9,200.6\" style=\"fill:none;fill-rule:evenodd;stroke:#000000;stroke-width:2.0px;stroke-linecap:butt;stroke-linejoin:miter;stroke-opacity:1\"/>\n",
       "<path class=\"bond-28 atom-28 atom-29\" d=\"M 222.6,199.2 L 219.8,208.0\" style=\"fill:none;fill-rule:evenodd;stroke:#000000;stroke-width:2.0px;stroke-linecap:butt;stroke-linejoin:miter;stroke-opacity:1\"/>\n",
       "<path class=\"bond-28 atom-28 atom-29\" d=\"M 219.8,208.0 L 216.9,216.8\" style=\"fill:none;fill-rule:evenodd;stroke:#FF0000;stroke-width:2.0px;stroke-linecap:butt;stroke-linejoin:miter;stroke-opacity:1\"/>\n",
       "<path class=\"bond-28 atom-28 atom-29\" d=\"M 225.7,200.2 L 222.8,209.0\" style=\"fill:none;fill-rule:evenodd;stroke:#000000;stroke-width:2.0px;stroke-linecap:butt;stroke-linejoin:miter;stroke-opacity:1\"/>\n",
       "<path class=\"bond-28 atom-28 atom-29\" d=\"M 222.8,209.0 L 219.9,217.8\" style=\"fill:none;fill-rule:evenodd;stroke:#FF0000;stroke-width:2.0px;stroke-linecap:butt;stroke-linejoin:miter;stroke-opacity:1\"/>\n",
       "<path class=\"bond-29 atom-28 atom-30\" d=\"M 223.9,200.6 L 245.0,196.2\" style=\"fill:none;fill-rule:evenodd;stroke:#000000;stroke-width:2.0px;stroke-linecap:butt;stroke-linejoin:miter;stroke-opacity:1\"/>\n",
       "<path class=\"bond-30 atom-30 atom-31\" d=\"M 245.0,196.2 L 249.5,217.4\" style=\"fill:none;fill-rule:evenodd;stroke:#000000;stroke-width:2.0px;stroke-linecap:butt;stroke-linejoin:miter;stroke-opacity:1\"/>\n",
       "<path class=\"bond-31 atom-30 atom-32\" d=\"M 245.0,196.2 L 240.6,175.1\" style=\"fill:none;fill-rule:evenodd;stroke:#000000;stroke-width:2.0px;stroke-linecap:butt;stroke-linejoin:miter;stroke-opacity:1\"/>\n",
       "<path class=\"bond-32 atom-30 atom-33\" d=\"M 245.0,196.2 L 266.2,191.8\" style=\"fill:none;fill-rule:evenodd;stroke:#000000;stroke-width:2.0px;stroke-linecap:butt;stroke-linejoin:miter;stroke-opacity:1\"/>\n",
       "<path class=\"bond-33 atom-33 atom-34\" d=\"M 266.2,191.8 L 273.0,171.3\" style=\"fill:none;fill-rule:evenodd;stroke:#000000;stroke-width:2.0px;stroke-linecap:butt;stroke-linejoin:miter;stroke-opacity:1\"/>\n",
       "<path class=\"bond-33 atom-33 atom-34\" d=\"M 269.9,191.0 L 275.4,174.1\" style=\"fill:none;fill-rule:evenodd;stroke:#000000;stroke-width:2.0px;stroke-linecap:butt;stroke-linejoin:miter;stroke-opacity:1\"/>\n",
       "<path class=\"bond-34 atom-34 atom-35\" d=\"M 273.0,171.3 L 294.1,166.8\" style=\"fill:none;fill-rule:evenodd;stroke:#000000;stroke-width:2.0px;stroke-linecap:butt;stroke-linejoin:miter;stroke-opacity:1\"/>\n",
       "<path class=\"bond-35 atom-35 atom-36\" d=\"M 294.1,166.8 L 300.9,146.3\" style=\"fill:none;fill-rule:evenodd;stroke:#000000;stroke-width:2.0px;stroke-linecap:butt;stroke-linejoin:miter;stroke-opacity:1\"/>\n",
       "<path class=\"bond-36 atom-36 atom-37\" d=\"M 300.9,146.3 L 303.6,137.9\" style=\"fill:none;fill-rule:evenodd;stroke:#000000;stroke-width:2.0px;stroke-linecap:butt;stroke-linejoin:miter;stroke-opacity:1\"/>\n",
       "<path class=\"bond-36 atom-36 atom-37\" d=\"M 303.6,137.9 L 306.4,129.6\" style=\"fill:none;fill-rule:evenodd;stroke:#33CCCC;stroke-width:2.0px;stroke-linecap:butt;stroke-linejoin:miter;stroke-opacity:1\"/>\n",
       "<path class=\"bond-37 atom-36 atom-38\" d=\"M 300.9,146.3 L 291.9,143.4\" style=\"fill:none;fill-rule:evenodd;stroke:#000000;stroke-width:2.0px;stroke-linecap:butt;stroke-linejoin:miter;stroke-opacity:1\"/>\n",
       "<path class=\"bond-37 atom-36 atom-38\" d=\"M 291.9,143.4 L 282.9,140.4\" style=\"fill:none;fill-rule:evenodd;stroke:#33CCCC;stroke-width:2.0px;stroke-linecap:butt;stroke-linejoin:miter;stroke-opacity:1\"/>\n",
       "<path class=\"bond-38 atom-36 atom-39\" d=\"M 300.9,146.3 L 309.9,149.3\" style=\"fill:none;fill-rule:evenodd;stroke:#000000;stroke-width:2.0px;stroke-linecap:butt;stroke-linejoin:miter;stroke-opacity:1\"/>\n",
       "<path class=\"bond-38 atom-36 atom-39\" d=\"M 309.9,149.3 L 318.9,152.2\" style=\"fill:none;fill-rule:evenodd;stroke:#33CCCC;stroke-width:2.0px;stroke-linecap:butt;stroke-linejoin:miter;stroke-opacity:1\"/>\n",
       "<path class=\"bond-39 atom-35 atom-40\" d=\"M 294.1,166.8 L 308.5,183.0\" style=\"fill:none;fill-rule:evenodd;stroke:#000000;stroke-width:2.0px;stroke-linecap:butt;stroke-linejoin:miter;stroke-opacity:1\"/>\n",
       "<path class=\"bond-39 atom-35 atom-40\" d=\"M 292.9,170.4 L 304.8,183.7\" style=\"fill:none;fill-rule:evenodd;stroke:#000000;stroke-width:2.0px;stroke-linecap:butt;stroke-linejoin:miter;stroke-opacity:1\"/>\n",
       "<path class=\"bond-40 atom-40 atom-41\" d=\"M 308.5,183.0 L 301.8,203.5\" style=\"fill:none;fill-rule:evenodd;stroke:#000000;stroke-width:2.0px;stroke-linecap:butt;stroke-linejoin:miter;stroke-opacity:1\"/>\n",
       "<path class=\"bond-41 atom-41 atom-42\" d=\"M 301.8,203.5 L 316.2,219.6\" style=\"fill:none;fill-rule:evenodd;stroke:#000000;stroke-width:2.0px;stroke-linecap:butt;stroke-linejoin:miter;stroke-opacity:1\"/>\n",
       "<path class=\"bond-42 atom-42 atom-43\" d=\"M 316.2,219.6 L 322.1,226.2\" style=\"fill:none;fill-rule:evenodd;stroke:#000000;stroke-width:2.0px;stroke-linecap:butt;stroke-linejoin:miter;stroke-opacity:1\"/>\n",
       "<path class=\"bond-42 atom-42 atom-43\" d=\"M 322.1,226.2 L 328.0,232.9\" style=\"fill:none;fill-rule:evenodd;stroke:#33CCCC;stroke-width:2.0px;stroke-linecap:butt;stroke-linejoin:miter;stroke-opacity:1\"/>\n",
       "<path class=\"bond-43 atom-42 atom-44\" d=\"M 316.2,219.6 L 322.9,213.5\" style=\"fill:none;fill-rule:evenodd;stroke:#000000;stroke-width:2.0px;stroke-linecap:butt;stroke-linejoin:miter;stroke-opacity:1\"/>\n",
       "<path class=\"bond-43 atom-42 atom-44\" d=\"M 322.9,213.5 L 329.7,207.5\" style=\"fill:none;fill-rule:evenodd;stroke:#33CCCC;stroke-width:2.0px;stroke-linecap:butt;stroke-linejoin:miter;stroke-opacity:1\"/>\n",
       "<path class=\"bond-44 atom-42 atom-45\" d=\"M 316.2,219.6 L 309.4,225.7\" style=\"fill:none;fill-rule:evenodd;stroke:#000000;stroke-width:2.0px;stroke-linecap:butt;stroke-linejoin:miter;stroke-opacity:1\"/>\n",
       "<path class=\"bond-44 atom-42 atom-45\" d=\"M 309.4,225.7 L 302.6,231.7\" style=\"fill:none;fill-rule:evenodd;stroke:#33CCCC;stroke-width:2.0px;stroke-linecap:butt;stroke-linejoin:miter;stroke-opacity:1\"/>\n",
       "<path class=\"bond-45 atom-41 atom-46\" d=\"M 301.8,203.5 L 280.6,207.9\" style=\"fill:none;fill-rule:evenodd;stroke:#000000;stroke-width:2.0px;stroke-linecap:butt;stroke-linejoin:miter;stroke-opacity:1\"/>\n",
       "<path class=\"bond-45 atom-41 atom-46\" d=\"M 299.3,200.7 L 281.8,204.3\" style=\"fill:none;fill-rule:evenodd;stroke:#000000;stroke-width:2.0px;stroke-linecap:butt;stroke-linejoin:miter;stroke-opacity:1\"/>\n",
       "<path class=\"bond-46 atom-6 atom-1\" d=\"M 180.7,152.3 L 166.3,136.2\" style=\"fill:none;fill-rule:evenodd;stroke:#000000;stroke-width:2.0px;stroke-linecap:butt;stroke-linejoin:miter;stroke-opacity:1\"/>\n",
       "<path class=\"bond-47 atom-25 atom-7\" d=\"M 188.3,188.9 L 173.9,172.8\" style=\"fill:none;fill-rule:evenodd;stroke:#000000;stroke-width:2.0px;stroke-linecap:butt;stroke-linejoin:miter;stroke-opacity:1\"/>\n",
       "<path class=\"bond-48 atom-46 atom-33\" d=\"M 280.6,207.9 L 266.2,191.8\" style=\"fill:none;fill-rule:evenodd;stroke:#000000;stroke-width:2.0px;stroke-linecap:butt;stroke-linejoin:miter;stroke-opacity:1\"/>\n",
       "<path class=\"bond-49 atom-22 atom-10\" d=\"M 118.1,222.7 L 120.9,214.3\" style=\"fill:none;fill-rule:evenodd;stroke:#000000;stroke-width:2.0px;stroke-linecap:butt;stroke-linejoin:miter;stroke-opacity:1\"/>\n",
       "<path class=\"bond-49 atom-22 atom-10\" d=\"M 120.9,214.3 L 123.6,206.0\" style=\"fill:none;fill-rule:evenodd;stroke:#0000FF;stroke-width:2.0px;stroke-linecap:butt;stroke-linejoin:miter;stroke-opacity:1\"/>\n",
       "<path d=\"M 172.7,116.7 L 173.0,115.6 L 174.1,115.4\" style=\"fill:none;stroke:#000000;stroke-width:2.0px;stroke-linecap:butt;stroke-linejoin:miter;stroke-opacity:1;\"/>\n",
       "<path d=\"M 193.1,111.5 L 194.2,111.2 L 194.9,112.0\" style=\"fill:none;stroke:#000000;stroke-width:2.0px;stroke-linecap:butt;stroke-linejoin:miter;stroke-opacity:1;\"/>\n",
       "<path d=\"M 207.9,126.5 L 208.6,127.3 L 208.3,128.4\" style=\"fill:none;stroke:#000000;stroke-width:2.0px;stroke-linecap:butt;stroke-linejoin:miter;stroke-opacity:1;\"/>\n",
       "<path d=\"M 202.2,146.8 L 201.8,147.9 L 200.8,148.1\" style=\"fill:none;stroke:#000000;stroke-width:2.0px;stroke-linecap:butt;stroke-linejoin:miter;stroke-opacity:1;\"/>\n",
       "<path d=\"M 153.8,177.0 L 152.8,177.2 L 152.4,178.3\" style=\"fill:none;stroke:#000000;stroke-width:2.0px;stroke-linecap:butt;stroke-linejoin:miter;stroke-opacity:1;\"/>\n",
       "<path d=\"M 110.8,186.4 L 110.5,186.1 L 109.4,186.3\" style=\"fill:none;stroke:#000000;stroke-width:2.0px;stroke-linecap:butt;stroke-linejoin:miter;stroke-opacity:1;\"/>\n",
       "<path d=\"M 90.4,190.3 L 89.3,190.5 L 89.2,190.9\" style=\"fill:none;stroke:#000000;stroke-width:2.0px;stroke-linecap:butt;stroke-linejoin:miter;stroke-opacity:1;\"/>\n",
       "<path d=\"M 63.9,201.0 L 63.5,200.8 L 63.5,200.4\" style=\"fill:none;stroke:#000000;stroke-width:2.0px;stroke-linecap:butt;stroke-linejoin:miter;stroke-opacity:1;\"/>\n",
       "<path d=\"M 96.7,226.8 L 97.0,227.1 L 98.0,226.9\" style=\"fill:none;stroke:#000000;stroke-width:2.0px;stroke-linecap:butt;stroke-linejoin:miter;stroke-opacity:1;\"/>\n",
       "<path d=\"M 117.1,222.9 L 118.1,222.7 L 118.3,222.3\" style=\"fill:none;stroke:#000000;stroke-width:2.0px;stroke-linecap:butt;stroke-linejoin:miter;stroke-opacity:1;\"/>\n",
       "<path d=\"M 181.1,209.6 L 181.6,209.5 L 181.9,208.4\" style=\"fill:none;stroke:#000000;stroke-width:2.0px;stroke-linecap:butt;stroke-linejoin:miter;stroke-opacity:1;\"/>\n",
       "<path d=\"M 223.6,200.3 L 223.9,200.6 L 225.0,200.4\" style=\"fill:none;stroke:#000000;stroke-width:2.0px;stroke-linecap:butt;stroke-linejoin:miter;stroke-opacity:1;\"/>\n",
       "<path d=\"M 272.6,172.3 L 273.0,171.3 L 274.0,171.0\" style=\"fill:none;stroke:#000000;stroke-width:2.0px;stroke-linecap:butt;stroke-linejoin:miter;stroke-opacity:1;\"/>\n",
       "<path d=\"M 307.8,182.2 L 308.5,183.0 L 308.2,184.0\" style=\"fill:none;stroke:#000000;stroke-width:2.0px;stroke-linecap:butt;stroke-linejoin:miter;stroke-opacity:1;\"/>\n",
       "<path d=\"M 281.7,207.7 L 280.6,207.9 L 279.9,207.1\" style=\"fill:none;stroke:#000000;stroke-width:2.0px;stroke-linecap:butt;stroke-linejoin:miter;stroke-opacity:1;\"/>\n",
       "<path class=\"atom-10\" d=\"M 123.5 199.1 L 125.5 202.4 Q 125.7 202.7, 126.0 203.3 Q 126.4 203.8, 126.4 203.9 L 126.4 199.1 L 127.2 199.1 L 127.2 205.2 L 126.4 205.2 L 124.2 201.7 Q 124.0 201.3, 123.7 200.8 Q 123.4 200.3, 123.4 200.2 L 123.4 205.2 L 122.6 205.2 L 122.6 199.1 L 123.5 199.1 \" fill=\"#0000FF\"/>\n",
       "<path class=\"atom-13\" d=\"M 81.2 208.0 L 83.2 211.2 Q 83.4 211.5, 83.7 212.1 Q 84.1 212.7, 84.1 212.7 L 84.1 208.0 L 84.9 208.0 L 84.9 214.1 L 84.1 214.1 L 81.9 210.5 Q 81.6 210.1, 81.4 209.6 Q 81.1 209.2, 81.0 209.0 L 81.0 214.1 L 80.2 214.1 L 80.2 208.0 L 81.2 208.0 \" fill=\"#0000FF\"/>\n",
       "<path class=\"atom-13\" d=\"M 86.0 209.1 L 87.1 209.1 L 87.1 207.9 L 87.6 207.9 L 87.6 209.1 L 88.7 209.1 L 88.7 209.5 L 87.6 209.5 L 87.6 210.6 L 87.1 210.6 L 87.1 209.5 L 86.0 209.5 L 86.0 209.1 \" fill=\"#0000FF\"/>\n",
       "<path class=\"atom-16\" d=\"M 60.0 179.2 Q 60.0 177.7, 60.8 176.9 Q 61.5 176.1, 62.8 176.1 Q 64.2 176.1, 64.9 176.9 Q 65.7 177.7, 65.7 179.2 Q 65.7 180.7, 64.9 181.5 Q 64.2 182.4, 62.8 182.4 Q 61.5 182.4, 60.8 181.5 Q 60.0 180.7, 60.0 179.2 M 62.8 181.7 Q 63.8 181.7, 64.3 181.1 Q 64.8 180.4, 64.8 179.2 Q 64.8 178.0, 64.3 177.4 Q 63.8 176.8, 62.8 176.8 Q 61.9 176.8, 61.4 177.4 Q 60.9 178.0, 60.9 179.2 Q 60.9 180.5, 61.4 181.1 Q 61.9 181.7, 62.8 181.7 \" fill=\"#FF0000\"/>\n",
       "<path class=\"atom-17\" d=\"M 43.7 165.9 Q 44.7 165.9, 45.2 166.4 Q 45.8 166.9, 45.8 167.7 Q 45.8 168.6, 45.2 169.1 Q 44.7 169.5, 43.7 169.5 L 42.7 169.5 L 42.7 172.0 L 41.9 172.0 L 41.9 165.9 L 43.7 165.9 M 43.7 168.8 Q 44.3 168.8, 44.6 168.6 Q 44.9 168.3, 44.9 167.7 Q 44.9 167.2, 44.6 166.9 Q 44.3 166.6, 43.7 166.6 L 42.7 166.6 L 42.7 168.8 L 43.7 168.8 \" fill=\"#FF7F00\"/>\n",
       "<path class=\"atom-18\" d=\"M 51.2 150.0 Q 51.2 148.5, 51.9 147.7 Q 52.7 146.8, 54.0 146.8 Q 55.4 146.8, 56.1 147.7 Q 56.8 148.5, 56.8 150.0 Q 56.8 151.4, 56.1 152.3 Q 55.4 153.1, 54.0 153.1 Q 52.7 153.1, 51.9 152.3 Q 51.2 151.5, 51.2 150.0 M 54.0 152.4 Q 55.0 152.4, 55.5 151.8 Q 56.0 151.2, 56.0 150.0 Q 56.0 148.8, 55.5 148.2 Q 55.0 147.5, 54.0 147.5 Q 53.1 147.5, 52.6 148.1 Q 52.1 148.7, 52.1 150.0 Q 52.1 151.2, 52.6 151.8 Q 53.1 152.4, 54.0 152.4 \" fill=\"#FF0000\"/>\n",
       "<path class=\"atom-19\" d=\"M 24.7 185.0 L 25.6 185.0 L 25.6 187.6 L 28.7 187.6 L 28.7 185.0 L 29.5 185.0 L 29.5 191.1 L 28.7 191.1 L 28.7 188.3 L 25.6 188.3 L 25.6 191.1 L 24.7 191.1 L 24.7 185.0 \" fill=\"#FF0000\"/>\n",
       "<path class=\"atom-19\" d=\"M 30.8 188.0 Q 30.8 186.6, 31.5 185.8 Q 32.2 184.9, 33.6 184.9 Q 34.9 184.9, 35.7 185.8 Q 36.4 186.6, 36.4 188.0 Q 36.4 189.5, 35.7 190.4 Q 34.9 191.2, 33.6 191.2 Q 32.2 191.2, 31.5 190.4 Q 30.8 189.5, 30.8 188.0 M 33.6 190.5 Q 34.5 190.5, 35.0 189.9 Q 35.5 189.3, 35.5 188.0 Q 35.5 186.8, 35.0 186.2 Q 34.5 185.6, 33.6 185.6 Q 32.7 185.6, 32.1 186.2 Q 31.6 186.8, 31.6 188.0 Q 31.6 189.3, 32.1 189.9 Q 32.7 190.5, 33.6 190.5 \" fill=\"#FF0000\"/>\n",
       "<path class=\"atom-20\" d=\"M 15.9 155.7 L 16.7 155.7 L 16.7 158.3 L 19.9 158.3 L 19.9 155.7 L 20.7 155.7 L 20.7 161.9 L 19.9 161.9 L 19.9 159.0 L 16.7 159.0 L 16.7 161.9 L 15.9 161.9 L 15.9 155.7 \" fill=\"#FF0000\"/>\n",
       "<path class=\"atom-20\" d=\"M 22.0 158.8 Q 22.0 157.3, 22.7 156.5 Q 23.4 155.7, 24.8 155.7 Q 26.1 155.7, 26.8 156.5 Q 27.6 157.3, 27.6 158.8 Q 27.6 160.3, 26.8 161.1 Q 26.1 162.0, 24.8 162.0 Q 23.4 162.0, 22.7 161.1 Q 22.0 160.3, 22.0 158.8 M 24.8 161.3 Q 25.7 161.3, 26.2 160.6 Q 26.7 160.0, 26.7 158.8 Q 26.7 157.6, 26.2 157.0 Q 25.7 156.4, 24.8 156.4 Q 23.8 156.4, 23.3 157.0 Q 22.8 157.6, 22.8 158.8 Q 22.8 160.0, 23.3 160.6 Q 23.8 161.3, 24.8 161.3 \" fill=\"#FF0000\"/>\n",
       "<path class=\"atom-23\" d=\"M 159.1 210.8 L 161.1 214.1 Q 161.3 214.4, 161.6 215.0 Q 161.9 215.5, 161.9 215.6 L 161.9 210.8 L 162.8 210.8 L 162.8 216.9 L 161.9 216.9 L 159.8 213.4 Q 159.5 213.0, 159.2 212.5 Q 159.0 212.0, 158.9 211.9 L 158.9 216.9 L 158.1 216.9 L 158.1 210.8 L 159.1 210.8 \" fill=\"#0000FF\"/>\n",
       "<path class=\"atom-26\" d=\"M 208.1 181.5 L 210.1 184.7 Q 210.3 185.0, 210.7 185.6 Q 211.0 186.2, 211.0 186.2 L 211.0 181.5 L 211.8 181.5 L 211.8 187.6 L 211.0 187.6 L 208.8 184.0 Q 208.6 183.6, 208.3 183.1 Q 208.0 182.7, 208.0 182.5 L 208.0 187.6 L 207.2 187.6 L 207.2 181.5 L 208.1 181.5 \" fill=\"#0000FF\"/>\n",
       "<path class=\"atom-29\" d=\"M 214.3 221.2 Q 214.3 219.7, 215.1 218.9 Q 215.8 218.1, 217.1 218.1 Q 218.5 218.1, 219.2 218.9 Q 220.0 219.7, 220.0 221.2 Q 220.0 222.7, 219.2 223.5 Q 218.5 224.3, 217.1 224.3 Q 215.8 224.3, 215.1 223.5 Q 214.3 222.7, 214.3 221.2 M 217.1 223.6 Q 218.1 223.6, 218.6 223.0 Q 219.1 222.4, 219.1 221.2 Q 219.1 220.0, 218.6 219.4 Q 218.1 218.7, 217.1 218.7 Q 216.2 218.7, 215.7 219.4 Q 215.2 220.0, 215.2 221.2 Q 215.2 222.4, 215.7 223.0 Q 216.2 223.6, 217.1 223.6 \" fill=\"#FF0000\"/>\n",
       "<path class=\"atom-37\" d=\"M 305.8 122.7 L 309.4 122.7 L 309.4 123.4 L 306.6 123.4 L 306.6 125.3 L 309.1 125.3 L 309.1 126.0 L 306.6 126.0 L 306.6 128.8 L 305.8 128.8 L 305.8 122.7 \" fill=\"#33CCCC\"/>\n",
       "<path class=\"atom-38\" d=\"M 278.5 136.5 L 282.2 136.5 L 282.2 137.2 L 279.3 137.2 L 279.3 139.1 L 281.8 139.1 L 281.8 139.8 L 279.3 139.8 L 279.3 142.6 L 278.5 142.6 L 278.5 136.5 \" fill=\"#33CCCC\"/>\n",
       "<path class=\"atom-39\" d=\"M 319.6 150.0 L 323.2 150.0 L 323.2 150.7 L 320.4 150.7 L 320.4 152.6 L 322.9 152.6 L 322.9 153.3 L 320.4 153.3 L 320.4 156.1 L 319.6 156.1 L 319.6 150.0 \" fill=\"#33CCCC\"/>\n",
       "<path class=\"atom-43\" d=\"M 328.7 232.6 L 332.4 232.6 L 332.4 233.3 L 329.6 233.3 L 329.6 235.2 L 332.1 235.2 L 332.1 235.9 L 329.6 235.9 L 329.6 238.8 L 328.7 238.8 L 328.7 232.6 \" fill=\"#33CCCC\"/>\n",
       "<path class=\"atom-44\" d=\"M 330.5 202.1 L 334.1 202.1 L 334.1 202.8 L 331.3 202.8 L 331.3 204.7 L 333.8 204.7 L 333.8 205.4 L 331.3 205.4 L 331.3 208.3 L 330.5 208.3 L 330.5 202.1 \" fill=\"#33CCCC\"/>\n",
       "<path class=\"atom-45\" d=\"M 298.2 230.9 L 301.9 230.9 L 301.9 231.6 L 299.1 231.6 L 299.1 233.5 L 301.6 233.5 L 301.6 234.2 L 299.1 234.2 L 299.1 237.1 L 298.2 237.1 L 298.2 230.9 \" fill=\"#33CCCC\"/>\n",
       "<path class=\"bond-0 atom-0 atom-1\" d=\"M 495.1,140.6 L 516.3,136.2\" style=\"fill:none;fill-rule:evenodd;stroke:#000000;stroke-width:2.0px;stroke-linecap:butt;stroke-linejoin:miter;stroke-opacity:1\"/>\n",
       "<path class=\"bond-1 atom-1 atom-2\" d=\"M 516.3,136.2 L 523.0,115.6\" style=\"fill:none;fill-rule:evenodd;stroke:#000000;stroke-width:2.0px;stroke-linecap:butt;stroke-linejoin:miter;stroke-opacity:1\"/>\n",
       "<path class=\"bond-1 atom-1 atom-2\" d=\"M 520.0,135.4 L 525.5,118.4\" style=\"fill:none;fill-rule:evenodd;stroke:#000000;stroke-width:2.0px;stroke-linecap:butt;stroke-linejoin:miter;stroke-opacity:1\"/>\n",
       "<path class=\"bond-2 atom-2 atom-3\" d=\"M 523.0,115.6 L 544.2,111.2\" style=\"fill:none;fill-rule:evenodd;stroke:#000000;stroke-width:2.0px;stroke-linecap:butt;stroke-linejoin:miter;stroke-opacity:1\"/>\n",
       "<path class=\"bond-3 atom-3 atom-4\" d=\"M 544.2,111.2 L 558.6,127.3\" style=\"fill:none;fill-rule:evenodd;stroke:#000000;stroke-width:2.0px;stroke-linecap:butt;stroke-linejoin:miter;stroke-opacity:1\"/>\n",
       "<path class=\"bond-3 atom-3 atom-4\" d=\"M 543.0,114.8 L 554.9,128.1\" style=\"fill:none;fill-rule:evenodd;stroke:#000000;stroke-width:2.0px;stroke-linecap:butt;stroke-linejoin:miter;stroke-opacity:1\"/>\n",
       "<path class=\"bond-4 atom-4 atom-5\" d=\"M 558.6,127.3 L 551.8,147.9\" style=\"fill:none;fill-rule:evenodd;stroke:#000000;stroke-width:2.0px;stroke-linecap:butt;stroke-linejoin:miter;stroke-opacity:1\"/>\n",
       "<path class=\"bond-5 atom-5 atom-6\" d=\"M 551.8,147.9 L 530.7,152.3\" style=\"fill:none;fill-rule:evenodd;stroke:#000000;stroke-width:2.0px;stroke-linecap:butt;stroke-linejoin:miter;stroke-opacity:1\"/>\n",
       "<path class=\"bond-5 atom-5 atom-6\" d=\"M 549.3,145.1 L 531.9,148.7\" style=\"fill:none;fill-rule:evenodd;stroke:#000000;stroke-width:2.0px;stroke-linecap:butt;stroke-linejoin:miter;stroke-opacity:1\"/>\n",
       "<path class=\"bond-6 atom-6 atom-7\" d=\"M 530.7,152.3 L 523.9,172.8\" style=\"fill:none;fill-rule:evenodd;stroke:#000000;stroke-width:2.0px;stroke-linecap:butt;stroke-linejoin:miter;stroke-opacity:1\"/>\n",
       "<path class=\"bond-7 atom-7 atom-8\" d=\"M 523.9,172.8 L 502.8,177.2\" style=\"fill:none;fill-rule:evenodd;stroke:#000000;stroke-width:2.0px;stroke-linecap:butt;stroke-linejoin:miter;stroke-opacity:1\"/>\n",
       "<path class=\"bond-7 atom-7 atom-8\" d=\"M 522.8,176.4 L 505.3,180.0\" style=\"fill:none;fill-rule:evenodd;stroke:#000000;stroke-width:2.0px;stroke-linecap:butt;stroke-linejoin:miter;stroke-opacity:1\"/>\n",
       "<path class=\"bond-8 atom-8 atom-9\" d=\"M 502.8,177.2 L 496.0,197.8\" style=\"fill:none;fill-rule:evenodd;stroke:#000000;stroke-width:2.0px;stroke-linecap:butt;stroke-linejoin:miter;stroke-opacity:1\"/>\n",
       "<path class=\"bond-9 atom-9 atom-10\" d=\"M 496.0,197.8 L 487.0,199.7\" style=\"fill:none;fill-rule:evenodd;stroke:#000000;stroke-width:2.0px;stroke-linecap:butt;stroke-linejoin:miter;stroke-opacity:1\"/>\n",
       "<path class=\"bond-9 atom-9 atom-10\" d=\"M 487.0,199.7 L 477.9,201.5\" style=\"fill:none;fill-rule:evenodd;stroke:#0000FF;stroke-width:2.0px;stroke-linecap:butt;stroke-linejoin:miter;stroke-opacity:1\"/>\n",
       "<path class=\"bond-10 atom-10 atom-11\" d=\"M 471.8,198.8 L 466.2,192.4\" style=\"fill:none;fill-rule:evenodd;stroke:#0000FF;stroke-width:2.0px;stroke-linecap:butt;stroke-linejoin:miter;stroke-opacity:1\"/>\n",
       "<path class=\"bond-10 atom-10 atom-11\" d=\"M 466.2,192.4 L 460.5,186.1\" style=\"fill:none;fill-rule:evenodd;stroke:#000000;stroke-width:2.0px;stroke-linecap:butt;stroke-linejoin:miter;stroke-opacity:1\"/>\n",
       "<path class=\"bond-11 atom-11 atom-12\" d=\"M 460.5,186.1 L 439.3,190.5\" style=\"fill:none;fill-rule:evenodd;stroke:#000000;stroke-width:2.0px;stroke-linecap:butt;stroke-linejoin:miter;stroke-opacity:1\"/>\n",
       "<path class=\"bond-12 atom-12 atom-13\" d=\"M 439.3,190.5 L 436.6,198.9\" style=\"fill:none;fill-rule:evenodd;stroke:#000000;stroke-width:2.0px;stroke-linecap:butt;stroke-linejoin:miter;stroke-opacity:1\"/>\n",
       "<path class=\"bond-12 atom-12 atom-13\" d=\"M 436.6,198.9 L 433.8,207.2\" style=\"fill:none;fill-rule:evenodd;stroke:#0000FF;stroke-width:2.0px;stroke-linecap:butt;stroke-linejoin:miter;stroke-opacity:1\"/>\n",
       "<path class=\"bond-13 atom-13 atom-14\" d=\"M 429.6,214.8 L 424.4,221.4\" style=\"fill:none;fill-rule:evenodd;stroke:#0000FF;stroke-width:2.0px;stroke-linecap:butt;stroke-linejoin:miter;stroke-opacity:1\"/>\n",
       "<path class=\"bond-13 atom-13 atom-14\" d=\"M 424.4,221.4 L 419.2,228.0\" style=\"fill:none;fill-rule:evenodd;stroke:#000000;stroke-width:2.0px;stroke-linecap:butt;stroke-linejoin:miter;stroke-opacity:1\"/>\n",
       "<path class=\"bond-14 atom-13 atom-15\" d=\"M 429.5,209.4 L 421.5,205.1\" style=\"fill:none;fill-rule:evenodd;stroke:#0000FF;stroke-width:2.0px;stroke-linecap:butt;stroke-linejoin:miter;stroke-opacity:1\"/>\n",
       "<path class=\"bond-14 atom-13 atom-15\" d=\"M 421.5,205.1 L 413.5,200.8\" style=\"fill:none;fill-rule:evenodd;stroke:#000000;stroke-width:2.0px;stroke-linecap:butt;stroke-linejoin:miter;stroke-opacity:1\"/>\n",
       "<path class=\"bond-15 atom-15 atom-16\" d=\"M 413.5,200.8 L 413.2,191.9\" style=\"fill:none;fill-rule:evenodd;stroke:#000000;stroke-width:2.0px;stroke-linecap:butt;stroke-linejoin:miter;stroke-opacity:1\"/>\n",
       "<path class=\"bond-15 atom-15 atom-16\" d=\"M 413.2,191.9 L 413.0,183.1\" style=\"fill:none;fill-rule:evenodd;stroke:#FF0000;stroke-width:2.0px;stroke-linecap:butt;stroke-linejoin:miter;stroke-opacity:1\"/>\n",
       "<path class=\"bond-16 atom-16 atom-17\" d=\"M 409.3,177.3 L 402.9,173.9\" style=\"fill:none;fill-rule:evenodd;stroke:#FF0000;stroke-width:2.0px;stroke-linecap:butt;stroke-linejoin:miter;stroke-opacity:1\"/>\n",
       "<path class=\"bond-16 atom-16 atom-17\" d=\"M 402.9,173.9 L 396.5,170.4\" style=\"fill:none;fill-rule:evenodd;stroke:#FF7F00;stroke-width:2.0px;stroke-linecap:butt;stroke-linejoin:miter;stroke-opacity:1\"/>\n",
       "<path class=\"bond-17 atom-17 atom-18\" d=\"M 397.3,166.0 L 400.3,160.3\" style=\"fill:none;fill-rule:evenodd;stroke:#FF7F00;stroke-width:2.0px;stroke-linecap:butt;stroke-linejoin:miter;stroke-opacity:1\"/>\n",
       "<path class=\"bond-17 atom-17 atom-18\" d=\"M 400.3,160.3 L 403.4,154.6\" style=\"fill:none;fill-rule:evenodd;stroke:#FF0000;stroke-width:2.0px;stroke-linecap:butt;stroke-linejoin:miter;stroke-opacity:1\"/>\n",
       "<path class=\"bond-17 atom-17 atom-18\" d=\"M 394.4,164.4 L 397.5,158.8\" style=\"fill:none;fill-rule:evenodd;stroke:#FF7F00;stroke-width:2.0px;stroke-linecap:butt;stroke-linejoin:miter;stroke-opacity:1\"/>\n",
       "<path class=\"bond-17 atom-17 atom-18\" d=\"M 397.5,158.8 L 400.5,153.1\" style=\"fill:none;fill-rule:evenodd;stroke:#FF0000;stroke-width:2.0px;stroke-linecap:butt;stroke-linejoin:miter;stroke-opacity:1\"/>\n",
       "<path class=\"bond-18 atom-17 atom-19\" d=\"M 391.8,172.8 L 388.7,178.5\" style=\"fill:none;fill-rule:evenodd;stroke:#FF7F00;stroke-width:2.0px;stroke-linecap:butt;stroke-linejoin:miter;stroke-opacity:1\"/>\n",
       "<path class=\"bond-18 atom-17 atom-19\" d=\"M 388.7,178.5 L 385.6,184.2\" style=\"fill:none;fill-rule:evenodd;stroke:#FF0000;stroke-width:2.0px;stroke-linecap:butt;stroke-linejoin:miter;stroke-opacity:1\"/>\n",
       "<path class=\"bond-19 atom-17 atom-20\" d=\"M 391.1,167.6 L 384.7,164.1\" style=\"fill:none;fill-rule:evenodd;stroke:#FF7F00;stroke-width:2.0px;stroke-linecap:butt;stroke-linejoin:miter;stroke-opacity:1\"/>\n",
       "<path class=\"bond-19 atom-17 atom-20\" d=\"M 384.7,164.1 L 378.3,160.7\" style=\"fill:none;fill-rule:evenodd;stroke:#FF0000;stroke-width:2.0px;stroke-linecap:butt;stroke-linejoin:miter;stroke-opacity:1\"/>\n",
       "<path class=\"bond-20 atom-13 atom-21\" d=\"M 435.6,214.4 L 441.3,220.8\" style=\"fill:none;fill-rule:evenodd;stroke:#0000FF;stroke-width:2.0px;stroke-linecap:butt;stroke-linejoin:miter;stroke-opacity:1\"/>\n",
       "<path class=\"bond-20 atom-13 atom-21\" d=\"M 441.3,220.8 L 447.0,227.1\" style=\"fill:none;fill-rule:evenodd;stroke:#000000;stroke-width:2.0px;stroke-linecap:butt;stroke-linejoin:miter;stroke-opacity:1\"/>\n",
       "<path class=\"bond-21 atom-21 atom-22\" d=\"M 447.0,227.1 L 468.1,222.7\" style=\"fill:none;fill-rule:evenodd;stroke:#000000;stroke-width:2.0px;stroke-linecap:butt;stroke-linejoin:miter;stroke-opacity:1\"/>\n",
       "<path class=\"bond-22 atom-9 atom-23\" d=\"M 496.0,197.8 L 501.7,204.1\" style=\"fill:none;fill-rule:evenodd;stroke:#000000;stroke-width:2.0px;stroke-linecap:butt;stroke-linejoin:miter;stroke-opacity:1\"/>\n",
       "<path class=\"bond-22 atom-9 atom-23\" d=\"M 501.7,204.1 L 507.4,210.5\" style=\"fill:none;fill-rule:evenodd;stroke:#0000FF;stroke-width:2.0px;stroke-linecap:butt;stroke-linejoin:miter;stroke-opacity:1\"/>\n",
       "<path class=\"bond-22 atom-9 atom-23\" d=\"M 499.7,197.0 L 504.8,202.7\" style=\"fill:none;fill-rule:evenodd;stroke:#000000;stroke-width:2.0px;stroke-linecap:butt;stroke-linejoin:miter;stroke-opacity:1\"/>\n",
       "<path class=\"bond-22 atom-9 atom-23\" d=\"M 504.8,202.7 L 509.8,208.3\" style=\"fill:none;fill-rule:evenodd;stroke:#0000FF;stroke-width:2.0px;stroke-linecap:butt;stroke-linejoin:miter;stroke-opacity:1\"/>\n",
       "<path class=\"bond-23 atom-23 atom-24\" d=\"M 513.5,213.2 L 522.5,211.3\" style=\"fill:none;fill-rule:evenodd;stroke:#0000FF;stroke-width:2.0px;stroke-linecap:butt;stroke-linejoin:miter;stroke-opacity:1\"/>\n",
       "<path class=\"bond-23 atom-23 atom-24\" d=\"M 522.5,211.3 L 531.6,209.5\" style=\"fill:none;fill-rule:evenodd;stroke:#000000;stroke-width:2.0px;stroke-linecap:butt;stroke-linejoin:miter;stroke-opacity:1\"/>\n",
       "<path class=\"bond-24 atom-24 atom-25\" d=\"M 531.6,209.5 L 538.3,188.9\" style=\"fill:none;fill-rule:evenodd;stroke:#000000;stroke-width:2.0px;stroke-linecap:butt;stroke-linejoin:miter;stroke-opacity:1\"/>\n",
       "<path class=\"bond-24 atom-24 atom-25\" d=\"M 529.1,206.7 L 534.7,189.7\" style=\"fill:none;fill-rule:evenodd;stroke:#000000;stroke-width:2.0px;stroke-linecap:butt;stroke-linejoin:miter;stroke-opacity:1\"/>\n",
       "<path class=\"bond-25 atom-25 atom-26\" d=\"M 538.3,188.9 L 547.4,187.0\" style=\"fill:none;fill-rule:evenodd;stroke:#000000;stroke-width:2.0px;stroke-linecap:butt;stroke-linejoin:miter;stroke-opacity:1\"/>\n",
       "<path class=\"bond-25 atom-25 atom-26\" d=\"M 547.4,187.0 L 556.5,185.1\" style=\"fill:none;fill-rule:evenodd;stroke:#0000FF;stroke-width:2.0px;stroke-linecap:butt;stroke-linejoin:miter;stroke-opacity:1\"/>\n",
       "<path class=\"bond-26 atom-26 atom-27\" d=\"M 560.7,180.7 L 563.5,172.4\" style=\"fill:none;fill-rule:evenodd;stroke:#0000FF;stroke-width:2.0px;stroke-linecap:butt;stroke-linejoin:miter;stroke-opacity:1\"/>\n",
       "<path class=\"bond-26 atom-26 atom-27\" d=\"M 563.5,172.4 L 566.2,164.0\" style=\"fill:none;fill-rule:evenodd;stroke:#000000;stroke-width:2.0px;stroke-linecap:butt;stroke-linejoin:miter;stroke-opacity:1\"/>\n",
       "<path class=\"bond-27 atom-26 atom-28\" d=\"M 562.5,187.9 L 568.2,194.3\" style=\"fill:none;fill-rule:evenodd;stroke:#0000FF;stroke-width:2.0px;stroke-linecap:butt;stroke-linejoin:miter;stroke-opacity:1\"/>\n",
       "<path class=\"bond-27 atom-26 atom-28\" d=\"M 568.2,194.3 L 573.9,200.6\" style=\"fill:none;fill-rule:evenodd;stroke:#000000;stroke-width:2.0px;stroke-linecap:butt;stroke-linejoin:miter;stroke-opacity:1\"/>\n",
       "<path class=\"bond-28 atom-28 atom-29\" d=\"M 572.6,199.2 L 569.8,208.0\" style=\"fill:none;fill-rule:evenodd;stroke:#000000;stroke-width:2.0px;stroke-linecap:butt;stroke-linejoin:miter;stroke-opacity:1\"/>\n",
       "<path class=\"bond-28 atom-28 atom-29\" d=\"M 569.8,208.0 L 566.9,216.8\" style=\"fill:none;fill-rule:evenodd;stroke:#FF0000;stroke-width:2.0px;stroke-linecap:butt;stroke-linejoin:miter;stroke-opacity:1\"/>\n",
       "<path class=\"bond-28 atom-28 atom-29\" d=\"M 575.7,200.2 L 572.8,209.0\" style=\"fill:none;fill-rule:evenodd;stroke:#000000;stroke-width:2.0px;stroke-linecap:butt;stroke-linejoin:miter;stroke-opacity:1\"/>\n",
       "<path class=\"bond-28 atom-28 atom-29\" d=\"M 572.8,209.0 L 569.9,217.8\" style=\"fill:none;fill-rule:evenodd;stroke:#FF0000;stroke-width:2.0px;stroke-linecap:butt;stroke-linejoin:miter;stroke-opacity:1\"/>\n",
       "<path class=\"bond-29 atom-28 atom-30\" d=\"M 573.9,200.6 L 595.0,196.2\" style=\"fill:none;fill-rule:evenodd;stroke:#000000;stroke-width:2.0px;stroke-linecap:butt;stroke-linejoin:miter;stroke-opacity:1\"/>\n",
       "<path class=\"bond-30 atom-30 atom-31\" d=\"M 595.0,196.2 L 599.5,217.4\" style=\"fill:none;fill-rule:evenodd;stroke:#000000;stroke-width:2.0px;stroke-linecap:butt;stroke-linejoin:miter;stroke-opacity:1\"/>\n",
       "<path class=\"bond-31 atom-30 atom-32\" d=\"M 595.0,196.2 L 590.6,175.1\" style=\"fill:none;fill-rule:evenodd;stroke:#000000;stroke-width:2.0px;stroke-linecap:butt;stroke-linejoin:miter;stroke-opacity:1\"/>\n",
       "<path class=\"bond-32 atom-30 atom-33\" d=\"M 595.0,196.2 L 616.2,191.8\" style=\"fill:none;fill-rule:evenodd;stroke:#000000;stroke-width:2.0px;stroke-linecap:butt;stroke-linejoin:miter;stroke-opacity:1\"/>\n",
       "<path class=\"bond-33 atom-33 atom-34\" d=\"M 616.2,191.8 L 623.0,171.3\" style=\"fill:none;fill-rule:evenodd;stroke:#000000;stroke-width:2.0px;stroke-linecap:butt;stroke-linejoin:miter;stroke-opacity:1\"/>\n",
       "<path class=\"bond-33 atom-33 atom-34\" d=\"M 619.9,191.0 L 625.4,174.1\" style=\"fill:none;fill-rule:evenodd;stroke:#000000;stroke-width:2.0px;stroke-linecap:butt;stroke-linejoin:miter;stroke-opacity:1\"/>\n",
       "<path class=\"bond-34 atom-34 atom-35\" d=\"M 623.0,171.3 L 644.1,166.8\" style=\"fill:none;fill-rule:evenodd;stroke:#000000;stroke-width:2.0px;stroke-linecap:butt;stroke-linejoin:miter;stroke-opacity:1\"/>\n",
       "<path class=\"bond-35 atom-35 atom-36\" d=\"M 644.1,166.8 L 650.9,146.3\" style=\"fill:none;fill-rule:evenodd;stroke:#000000;stroke-width:2.0px;stroke-linecap:butt;stroke-linejoin:miter;stroke-opacity:1\"/>\n",
       "<path class=\"bond-36 atom-36 atom-37\" d=\"M 650.9,146.3 L 653.6,137.9\" style=\"fill:none;fill-rule:evenodd;stroke:#000000;stroke-width:2.0px;stroke-linecap:butt;stroke-linejoin:miter;stroke-opacity:1\"/>\n",
       "<path class=\"bond-36 atom-36 atom-37\" d=\"M 653.6,137.9 L 656.4,129.6\" style=\"fill:none;fill-rule:evenodd;stroke:#33CCCC;stroke-width:2.0px;stroke-linecap:butt;stroke-linejoin:miter;stroke-opacity:1\"/>\n",
       "<path class=\"bond-37 atom-36 atom-38\" d=\"M 650.9,146.3 L 641.9,143.4\" style=\"fill:none;fill-rule:evenodd;stroke:#000000;stroke-width:2.0px;stroke-linecap:butt;stroke-linejoin:miter;stroke-opacity:1\"/>\n",
       "<path class=\"bond-37 atom-36 atom-38\" d=\"M 641.9,143.4 L 632.9,140.4\" style=\"fill:none;fill-rule:evenodd;stroke:#33CCCC;stroke-width:2.0px;stroke-linecap:butt;stroke-linejoin:miter;stroke-opacity:1\"/>\n",
       "<path class=\"bond-38 atom-36 atom-39\" d=\"M 650.9,146.3 L 659.9,149.3\" style=\"fill:none;fill-rule:evenodd;stroke:#000000;stroke-width:2.0px;stroke-linecap:butt;stroke-linejoin:miter;stroke-opacity:1\"/>\n",
       "<path class=\"bond-38 atom-36 atom-39\" d=\"M 659.9,149.3 L 668.9,152.2\" style=\"fill:none;fill-rule:evenodd;stroke:#33CCCC;stroke-width:2.0px;stroke-linecap:butt;stroke-linejoin:miter;stroke-opacity:1\"/>\n",
       "<path class=\"bond-39 atom-35 atom-40\" d=\"M 644.1,166.8 L 658.5,183.0\" style=\"fill:none;fill-rule:evenodd;stroke:#000000;stroke-width:2.0px;stroke-linecap:butt;stroke-linejoin:miter;stroke-opacity:1\"/>\n",
       "<path class=\"bond-39 atom-35 atom-40\" d=\"M 642.9,170.4 L 654.8,183.7\" style=\"fill:none;fill-rule:evenodd;stroke:#000000;stroke-width:2.0px;stroke-linecap:butt;stroke-linejoin:miter;stroke-opacity:1\"/>\n",
       "<path class=\"bond-40 atom-40 atom-41\" d=\"M 658.5,183.0 L 651.8,203.5\" style=\"fill:none;fill-rule:evenodd;stroke:#000000;stroke-width:2.0px;stroke-linecap:butt;stroke-linejoin:miter;stroke-opacity:1\"/>\n",
       "<path class=\"bond-41 atom-41 atom-42\" d=\"M 651.8,203.5 L 666.2,219.6\" style=\"fill:none;fill-rule:evenodd;stroke:#000000;stroke-width:2.0px;stroke-linecap:butt;stroke-linejoin:miter;stroke-opacity:1\"/>\n",
       "<path class=\"bond-42 atom-42 atom-43\" d=\"M 666.2,219.6 L 672.1,226.2\" style=\"fill:none;fill-rule:evenodd;stroke:#000000;stroke-width:2.0px;stroke-linecap:butt;stroke-linejoin:miter;stroke-opacity:1\"/>\n",
       "<path class=\"bond-42 atom-42 atom-43\" d=\"M 672.1,226.2 L 678.0,232.9\" style=\"fill:none;fill-rule:evenodd;stroke:#33CCCC;stroke-width:2.0px;stroke-linecap:butt;stroke-linejoin:miter;stroke-opacity:1\"/>\n",
       "<path class=\"bond-43 atom-42 atom-44\" d=\"M 666.2,219.6 L 672.9,213.5\" style=\"fill:none;fill-rule:evenodd;stroke:#000000;stroke-width:2.0px;stroke-linecap:butt;stroke-linejoin:miter;stroke-opacity:1\"/>\n",
       "<path class=\"bond-43 atom-42 atom-44\" d=\"M 672.9,213.5 L 679.7,207.5\" style=\"fill:none;fill-rule:evenodd;stroke:#33CCCC;stroke-width:2.0px;stroke-linecap:butt;stroke-linejoin:miter;stroke-opacity:1\"/>\n",
       "<path class=\"bond-44 atom-42 atom-45\" d=\"M 666.2,219.6 L 659.4,225.7\" style=\"fill:none;fill-rule:evenodd;stroke:#000000;stroke-width:2.0px;stroke-linecap:butt;stroke-linejoin:miter;stroke-opacity:1\"/>\n",
       "<path class=\"bond-44 atom-42 atom-45\" d=\"M 659.4,225.7 L 652.6,231.7\" style=\"fill:none;fill-rule:evenodd;stroke:#33CCCC;stroke-width:2.0px;stroke-linecap:butt;stroke-linejoin:miter;stroke-opacity:1\"/>\n",
       "<path class=\"bond-45 atom-41 atom-46\" d=\"M 651.8,203.5 L 630.6,207.9\" style=\"fill:none;fill-rule:evenodd;stroke:#000000;stroke-width:2.0px;stroke-linecap:butt;stroke-linejoin:miter;stroke-opacity:1\"/>\n",
       "<path class=\"bond-45 atom-41 atom-46\" d=\"M 649.3,200.7 L 631.8,204.3\" style=\"fill:none;fill-rule:evenodd;stroke:#000000;stroke-width:2.0px;stroke-linecap:butt;stroke-linejoin:miter;stroke-opacity:1\"/>\n",
       "<path class=\"bond-46 atom-6 atom-1\" d=\"M 530.7,152.3 L 516.3,136.2\" style=\"fill:none;fill-rule:evenodd;stroke:#000000;stroke-width:2.0px;stroke-linecap:butt;stroke-linejoin:miter;stroke-opacity:1\"/>\n",
       "<path class=\"bond-47 atom-25 atom-7\" d=\"M 538.3,188.9 L 523.9,172.8\" style=\"fill:none;fill-rule:evenodd;stroke:#000000;stroke-width:2.0px;stroke-linecap:butt;stroke-linejoin:miter;stroke-opacity:1\"/>\n",
       "<path class=\"bond-48 atom-46 atom-33\" d=\"M 630.6,207.9 L 616.2,191.8\" style=\"fill:none;fill-rule:evenodd;stroke:#000000;stroke-width:2.0px;stroke-linecap:butt;stroke-linejoin:miter;stroke-opacity:1\"/>\n",
       "<path class=\"bond-49 atom-22 atom-10\" d=\"M 468.1,222.7 L 470.9,214.3\" style=\"fill:none;fill-rule:evenodd;stroke:#000000;stroke-width:2.0px;stroke-linecap:butt;stroke-linejoin:miter;stroke-opacity:1\"/>\n",
       "<path class=\"bond-49 atom-22 atom-10\" d=\"M 470.9,214.3 L 473.6,206.0\" style=\"fill:none;fill-rule:evenodd;stroke:#0000FF;stroke-width:2.0px;stroke-linecap:butt;stroke-linejoin:miter;stroke-opacity:1\"/>\n",
       "<path d=\"M 522.7,116.7 L 523.0,115.6 L 524.1,115.4\" style=\"fill:none;stroke:#000000;stroke-width:2.0px;stroke-linecap:butt;stroke-linejoin:miter;stroke-opacity:1;\"/>\n",
       "<path d=\"M 543.1,111.5 L 544.2,111.2 L 544.9,112.0\" style=\"fill:none;stroke:#000000;stroke-width:2.0px;stroke-linecap:butt;stroke-linejoin:miter;stroke-opacity:1;\"/>\n",
       "<path d=\"M 557.9,126.5 L 558.6,127.3 L 558.3,128.4\" style=\"fill:none;stroke:#000000;stroke-width:2.0px;stroke-linecap:butt;stroke-linejoin:miter;stroke-opacity:1;\"/>\n",
       "<path d=\"M 552.2,146.8 L 551.8,147.9 L 550.8,148.1\" style=\"fill:none;stroke:#000000;stroke-width:2.0px;stroke-linecap:butt;stroke-linejoin:miter;stroke-opacity:1;\"/>\n",
       "<path d=\"M 503.8,177.0 L 502.8,177.2 L 502.4,178.3\" style=\"fill:none;stroke:#000000;stroke-width:2.0px;stroke-linecap:butt;stroke-linejoin:miter;stroke-opacity:1;\"/>\n",
       "<path d=\"M 460.8,186.4 L 460.5,186.1 L 459.4,186.3\" style=\"fill:none;stroke:#000000;stroke-width:2.0px;stroke-linecap:butt;stroke-linejoin:miter;stroke-opacity:1;\"/>\n",
       "<path d=\"M 440.4,190.3 L 439.3,190.5 L 439.2,190.9\" style=\"fill:none;stroke:#000000;stroke-width:2.0px;stroke-linecap:butt;stroke-linejoin:miter;stroke-opacity:1;\"/>\n",
       "<path d=\"M 413.9,201.0 L 413.5,200.8 L 413.5,200.4\" style=\"fill:none;stroke:#000000;stroke-width:2.0px;stroke-linecap:butt;stroke-linejoin:miter;stroke-opacity:1;\"/>\n",
       "<path d=\"M 446.7,226.8 L 447.0,227.1 L 448.0,226.9\" style=\"fill:none;stroke:#000000;stroke-width:2.0px;stroke-linecap:butt;stroke-linejoin:miter;stroke-opacity:1;\"/>\n",
       "<path d=\"M 467.1,222.9 L 468.1,222.7 L 468.3,222.3\" style=\"fill:none;stroke:#000000;stroke-width:2.0px;stroke-linecap:butt;stroke-linejoin:miter;stroke-opacity:1;\"/>\n",
       "<path d=\"M 531.1,209.6 L 531.6,209.5 L 531.9,208.4\" style=\"fill:none;stroke:#000000;stroke-width:2.0px;stroke-linecap:butt;stroke-linejoin:miter;stroke-opacity:1;\"/>\n",
       "<path d=\"M 573.6,200.3 L 573.9,200.6 L 575.0,200.4\" style=\"fill:none;stroke:#000000;stroke-width:2.0px;stroke-linecap:butt;stroke-linejoin:miter;stroke-opacity:1;\"/>\n",
       "<path d=\"M 622.6,172.3 L 623.0,171.3 L 624.0,171.0\" style=\"fill:none;stroke:#000000;stroke-width:2.0px;stroke-linecap:butt;stroke-linejoin:miter;stroke-opacity:1;\"/>\n",
       "<path d=\"M 657.8,182.2 L 658.5,183.0 L 658.2,184.0\" style=\"fill:none;stroke:#000000;stroke-width:2.0px;stroke-linecap:butt;stroke-linejoin:miter;stroke-opacity:1;\"/>\n",
       "<path d=\"M 631.7,207.7 L 630.6,207.9 L 629.9,207.1\" style=\"fill:none;stroke:#000000;stroke-width:2.0px;stroke-linecap:butt;stroke-linejoin:miter;stroke-opacity:1;\"/>\n",
       "<path class=\"atom-10\" d=\"M 473.5 199.1 L 475.5 202.4 Q 475.7 202.7, 476.0 203.3 Q 476.4 203.8, 476.4 203.9 L 476.4 199.1 L 477.2 199.1 L 477.2 205.2 L 476.4 205.2 L 474.2 201.7 Q 474.0 201.3, 473.7 200.8 Q 473.4 200.3, 473.4 200.2 L 473.4 205.2 L 472.6 205.2 L 472.6 199.1 L 473.5 199.1 \" fill=\"#0000FF\"/>\n",
       "<path class=\"atom-13\" d=\"M 431.2 208.0 L 433.2 211.2 Q 433.4 211.5, 433.7 212.1 Q 434.1 212.7, 434.1 212.7 L 434.1 208.0 L 434.9 208.0 L 434.9 214.1 L 434.1 214.1 L 431.9 210.5 Q 431.6 210.1, 431.4 209.6 Q 431.1 209.2, 431.0 209.0 L 431.0 214.1 L 430.2 214.1 L 430.2 208.0 L 431.2 208.0 \" fill=\"#0000FF\"/>\n",
       "<path class=\"atom-13\" d=\"M 436.0 209.1 L 437.1 209.1 L 437.1 207.9 L 437.6 207.9 L 437.6 209.1 L 438.7 209.1 L 438.7 209.5 L 437.6 209.5 L 437.6 210.6 L 437.1 210.6 L 437.1 209.5 L 436.0 209.5 L 436.0 209.1 \" fill=\"#0000FF\"/>\n",
       "<path class=\"atom-16\" d=\"M 410.0 179.2 Q 410.0 177.7, 410.8 176.9 Q 411.5 176.1, 412.8 176.1 Q 414.2 176.1, 414.9 176.9 Q 415.7 177.7, 415.7 179.2 Q 415.7 180.7, 414.9 181.5 Q 414.2 182.4, 412.8 182.4 Q 411.5 182.4, 410.8 181.5 Q 410.0 180.7, 410.0 179.2 M 412.8 181.7 Q 413.8 181.7, 414.3 181.1 Q 414.8 180.4, 414.8 179.2 Q 414.8 178.0, 414.3 177.4 Q 413.8 176.8, 412.8 176.8 Q 411.9 176.8, 411.4 177.4 Q 410.9 178.0, 410.9 179.2 Q 410.9 180.5, 411.4 181.1 Q 411.9 181.7, 412.8 181.7 \" fill=\"#FF0000\"/>\n",
       "<path class=\"atom-17\" d=\"M 393.7 165.9 Q 394.7 165.9, 395.2 166.4 Q 395.8 166.9, 395.8 167.7 Q 395.8 168.6, 395.2 169.1 Q 394.7 169.5, 393.7 169.5 L 392.7 169.5 L 392.7 172.0 L 391.9 172.0 L 391.9 165.9 L 393.7 165.9 M 393.7 168.8 Q 394.3 168.8, 394.6 168.6 Q 394.9 168.3, 394.9 167.7 Q 394.9 167.2, 394.6 166.9 Q 394.3 166.6, 393.7 166.6 L 392.7 166.6 L 392.7 168.8 L 393.7 168.8 \" fill=\"#FF7F00\"/>\n",
       "<path class=\"atom-18\" d=\"M 401.2 150.0 Q 401.2 148.5, 401.9 147.7 Q 402.7 146.8, 404.0 146.8 Q 405.4 146.8, 406.1 147.7 Q 406.8 148.5, 406.8 150.0 Q 406.8 151.4, 406.1 152.3 Q 405.4 153.1, 404.0 153.1 Q 402.7 153.1, 401.9 152.3 Q 401.2 151.5, 401.2 150.0 M 404.0 152.4 Q 405.0 152.4, 405.5 151.8 Q 406.0 151.2, 406.0 150.0 Q 406.0 148.8, 405.5 148.2 Q 405.0 147.5, 404.0 147.5 Q 403.1 147.5, 402.6 148.1 Q 402.1 148.7, 402.1 150.0 Q 402.1 151.2, 402.6 151.8 Q 403.1 152.4, 404.0 152.4 \" fill=\"#FF0000\"/>\n",
       "<path class=\"atom-19\" d=\"M 380.8 188.0 Q 380.8 186.6, 381.5 185.8 Q 382.2 184.9, 383.6 184.9 Q 384.9 184.9, 385.7 185.8 Q 386.4 186.6, 386.4 188.0 Q 386.4 189.5, 385.7 190.4 Q 384.9 191.2, 383.6 191.2 Q 382.2 191.2, 381.5 190.4 Q 380.8 189.5, 380.8 188.0 M 383.6 190.5 Q 384.5 190.5, 385.0 189.9 Q 385.5 189.3, 385.5 188.0 Q 385.5 186.8, 385.0 186.2 Q 384.5 185.6, 383.6 185.6 Q 382.7 185.6, 382.1 186.2 Q 381.6 186.8, 381.6 188.0 Q 381.6 189.3, 382.1 189.9 Q 382.7 190.5, 383.6 190.5 \" fill=\"#FF0000\"/>\n",
       "<path class=\"atom-19\" d=\"M 387.3 185.9 L 389.4 185.9 L 389.4 186.4 L 387.3 186.4 L 387.3 185.9 \" fill=\"#FF0000\"/>\n",
       "<path class=\"atom-20\" d=\"M 365.9 155.7 L 366.7 155.7 L 366.7 158.3 L 369.9 158.3 L 369.9 155.7 L 370.7 155.7 L 370.7 161.9 L 369.9 161.9 L 369.9 159.0 L 366.7 159.0 L 366.7 161.9 L 365.9 161.9 L 365.9 155.7 \" fill=\"#FF0000\"/>\n",
       "<path class=\"atom-20\" d=\"M 372.0 158.8 Q 372.0 157.3, 372.7 156.5 Q 373.4 155.7, 374.8 155.7 Q 376.1 155.7, 376.8 156.5 Q 377.6 157.3, 377.6 158.8 Q 377.6 160.3, 376.8 161.1 Q 376.1 162.0, 374.8 162.0 Q 373.4 162.0, 372.7 161.1 Q 372.0 160.3, 372.0 158.8 M 374.8 161.3 Q 375.7 161.3, 376.2 160.6 Q 376.7 160.0, 376.7 158.8 Q 376.7 157.6, 376.2 157.0 Q 375.7 156.4, 374.8 156.4 Q 373.8 156.4, 373.3 157.0 Q 372.8 157.6, 372.8 158.8 Q 372.8 160.0, 373.3 160.6 Q 373.8 161.3, 374.8 161.3 \" fill=\"#FF0000\"/>\n",
       "<path class=\"atom-23\" d=\"M 509.1 210.8 L 511.1 214.1 Q 511.3 214.4, 511.6 215.0 Q 511.9 215.5, 511.9 215.6 L 511.9 210.8 L 512.8 210.8 L 512.8 216.9 L 511.9 216.9 L 509.8 213.4 Q 509.5 213.0, 509.2 212.5 Q 509.0 212.0, 508.9 211.9 L 508.9 216.9 L 508.1 216.9 L 508.1 210.8 L 509.1 210.8 \" fill=\"#0000FF\"/>\n",
       "<path class=\"atom-26\" d=\"M 558.1 181.5 L 560.1 184.7 Q 560.3 185.0, 560.7 185.6 Q 561.0 186.2, 561.0 186.2 L 561.0 181.5 L 561.8 181.5 L 561.8 187.6 L 561.0 187.6 L 558.8 184.0 Q 558.6 183.6, 558.3 183.1 Q 558.0 182.7, 558.0 182.5 L 558.0 187.6 L 557.2 187.6 L 557.2 181.5 L 558.1 181.5 \" fill=\"#0000FF\"/>\n",
       "<path class=\"atom-29\" d=\"M 564.3 221.2 Q 564.3 219.7, 565.1 218.9 Q 565.8 218.1, 567.1 218.1 Q 568.5 218.1, 569.2 218.9 Q 570.0 219.7, 570.0 221.2 Q 570.0 222.7, 569.2 223.5 Q 568.5 224.3, 567.1 224.3 Q 565.8 224.3, 565.1 223.5 Q 564.3 222.7, 564.3 221.2 M 567.1 223.6 Q 568.1 223.6, 568.6 223.0 Q 569.1 222.4, 569.1 221.2 Q 569.1 220.0, 568.6 219.4 Q 568.1 218.7, 567.1 218.7 Q 566.2 218.7, 565.7 219.4 Q 565.2 220.0, 565.2 221.2 Q 565.2 222.4, 565.7 223.0 Q 566.2 223.6, 567.1 223.6 \" fill=\"#FF0000\"/>\n",
       "<path class=\"atom-37\" d=\"M 655.8 122.7 L 659.4 122.7 L 659.4 123.4 L 656.6 123.4 L 656.6 125.3 L 659.1 125.3 L 659.1 126.0 L 656.6 126.0 L 656.6 128.8 L 655.8 128.8 L 655.8 122.7 \" fill=\"#33CCCC\"/>\n",
       "<path class=\"atom-38\" d=\"M 628.5 136.5 L 632.2 136.5 L 632.2 137.2 L 629.3 137.2 L 629.3 139.1 L 631.8 139.1 L 631.8 139.8 L 629.3 139.8 L 629.3 142.6 L 628.5 142.6 L 628.5 136.5 \" fill=\"#33CCCC\"/>\n",
       "<path class=\"atom-39\" d=\"M 669.6 150.0 L 673.2 150.0 L 673.2 150.7 L 670.4 150.7 L 670.4 152.6 L 672.9 152.6 L 672.9 153.3 L 670.4 153.3 L 670.4 156.1 L 669.6 156.1 L 669.6 150.0 \" fill=\"#33CCCC\"/>\n",
       "<path class=\"atom-43\" d=\"M 678.7 232.6 L 682.4 232.6 L 682.4 233.3 L 679.6 233.3 L 679.6 235.2 L 682.1 235.2 L 682.1 235.9 L 679.6 235.9 L 679.6 238.8 L 678.7 238.8 L 678.7 232.6 \" fill=\"#33CCCC\"/>\n",
       "<path class=\"atom-44\" d=\"M 680.5 202.1 L 684.1 202.1 L 684.1 202.8 L 681.3 202.8 L 681.3 204.7 L 683.8 204.7 L 683.8 205.4 L 681.3 205.4 L 681.3 208.3 L 680.5 208.3 L 680.5 202.1 \" fill=\"#33CCCC\"/>\n",
       "<path class=\"atom-45\" d=\"M 648.2 230.9 L 651.9 230.9 L 651.9 231.6 L 649.1 231.6 L 649.1 233.5 L 651.6 233.5 L 651.6 234.2 L 649.1 234.2 L 649.1 237.1 L 648.2 237.1 L 648.2 230.9 \" fill=\"#33CCCC\"/>\n",
       "</svg>"
      ],
      "text/plain": [
       "<IPython.core.display.SVG object>"
      ]
     },
     "execution_count": 23,
     "metadata": {},
     "output_type": "execute_result"
    }
   ],
   "source": [
    "dupe_mol_list = [Chem.MolFromSmiles(x) for x in dupe_inchi_df.std_smiles]\n",
    "MolsToGridImage(dupe_mol_list, useSVG=True, subImgSize=(350, 350))"
   ]
  },
  {
   "cell_type": "markdown",
   "id": "6ff5c9e9",
   "metadata": {
    "pycharm": {
     "name": "#%% md\n"
    }
   },
   "source": [
    "In order to clean things up a bit, we can drop the duplicate record. "
   ]
  },
  {
   "cell_type": "code",
   "execution_count": 24,
   "id": "d2b90bb8",
   "metadata": {
    "pycharm": {
     "name": "#%%\n"
    }
   },
   "outputs": [
    {
     "data": {
      "text/plain": [
       "1031"
      ]
     },
     "execution_count": 24,
     "metadata": {},
     "output_type": "execute_result"
    }
   ],
   "source": [
    "df_final_drug = df_oral_ok_nodupe.sort_values(\"first_approval\").drop_duplicates(\"inchi\").copy()\n",
    "len(df_final_drug)"
   ]
  },
  {
   "cell_type": "markdown",
   "id": "d59f9d8d",
   "metadata": {
    "pycharm": {
     "name": "#%% md\n"
    }
   },
   "source": [
    "### 4. Divide the ChEMBL data into three groups, before 1997, 1997-2017, after 2017\n",
    "\n",
    "Now that we have a clean datset, we can do some analysis.  We'll start dividing the data into three sets based on the first approval year.  To do this we'll use the criteria defined in a 2023 paper by [Hartung, Webb, and Crespo](https://www.nature.com/articles/s41570-022-00451-0). Note how the Pandas cut function makes it easy to bin the data. "
   ]
  },
  {
   "cell_type": "code",
   "execution_count": 25,
   "id": "31edb73d",
   "metadata": {
    "pycharm": {
     "name": "#%%\n"
    }
   },
   "outputs": [],
   "source": [
    "df_final_drug['era'] = pd.cut(df_final_drug.first_approval, [0, 1996, 2017, 5000],\n",
    "                              labels=[\"before 1997\", \"1997-2017\", \"after 2017\"])"
   ]
  },
  {
   "cell_type": "code",
   "execution_count": 26,
   "id": "7ccfb80e",
   "metadata": {
    "pycharm": {
     "name": "#%%\n"
    }
   },
   "outputs": [
    {
     "data": {
      "text/html": [
       "<div>\n",
       "<style scoped>\n",
       "    .dataframe tbody tr th:only-of-type {\n",
       "        vertical-align: middle;\n",
       "    }\n",
       "\n",
       "    .dataframe tbody tr th {\n",
       "        vertical-align: top;\n",
       "    }\n",
       "\n",
       "    .dataframe thead th {\n",
       "        text-align: right;\n",
       "    }\n",
       "</style>\n",
       "<table border=\"1\" class=\"dataframe\">\n",
       "  <thead>\n",
       "    <tr style=\"text-align: right;\">\n",
       "      <th></th>\n",
       "      <th>canonical_smiles</th>\n",
       "      <th>molregno</th>\n",
       "      <th>pref_name</th>\n",
       "      <th>first_approval</th>\n",
       "      <th>dosed_ingredient</th>\n",
       "      <th>oral</th>\n",
       "      <th>parenteral</th>\n",
       "      <th>topical</th>\n",
       "      <th>black_box_warning</th>\n",
       "      <th>first_in_class</th>\n",
       "      <th>std_smiles</th>\n",
       "      <th>inchi</th>\n",
       "      <th>era</th>\n",
       "    </tr>\n",
       "  </thead>\n",
       "  <tbody>\n",
       "    <tr>\n",
       "      <th>2547</th>\n",
       "      <td>Nc1ccc(S(=O)(=O)Nc2ccccn2)cc1</td>\n",
       "      <td>32842</td>\n",
       "      <td>SULFAPYRIDINE</td>\n",
       "      <td>1939</td>\n",
       "      <td>1</td>\n",
       "      <td>1</td>\n",
       "      <td>0</td>\n",
       "      <td>0</td>\n",
       "      <td>0</td>\n",
       "      <td>0</td>\n",
       "      <td>Nc1ccc(S(=O)(=O)Nc2ccccn2)cc1</td>\n",
       "      <td>InChI=1S/C11H11N3O2S/c12-9-4-6-10(7-5-9)17(15,...</td>\n",
       "      <td>before 1997</td>\n",
       "    </tr>\n",
       "    <tr>\n",
       "      <th>667</th>\n",
       "      <td>CCC(C)C1(CC)C(=O)NC(=O)NC1=O</td>\n",
       "      <td>2393</td>\n",
       "      <td>BUTABARBITAL</td>\n",
       "      <td>1939</td>\n",
       "      <td>0</td>\n",
       "      <td>1</td>\n",
       "      <td>0</td>\n",
       "      <td>0</td>\n",
       "      <td>0</td>\n",
       "      <td>0</td>\n",
       "      <td>CCC(C)C1(CC)C(=O)NC(=O)NC1=O</td>\n",
       "      <td>InChI=1S/C10H16N2O3/c1-4-6(3)10(5-2)7(13)11-9(...</td>\n",
       "      <td>before 1997</td>\n",
       "    </tr>\n",
       "    <tr>\n",
       "      <th>2368</th>\n",
       "      <td>Cn1c(=O)c2[nH]cnc2n(C)c1=O.Cn1c(=O)c2[nH]cnc2n...</td>\n",
       "      <td>794445</td>\n",
       "      <td>AMINOPHYLLINE</td>\n",
       "      <td>1940</td>\n",
       "      <td>1</td>\n",
       "      <td>1</td>\n",
       "      <td>1</td>\n",
       "      <td>1</td>\n",
       "      <td>0</td>\n",
       "      <td>0</td>\n",
       "      <td>Cn1c(=O)c2[nH]cnc2n(C)c1=O</td>\n",
       "      <td>InChI=1S/C7H8N4O2/c1-10-5-4(8-3-9-5)6(12)11(2)...</td>\n",
       "      <td>before 1997</td>\n",
       "    </tr>\n",
       "    <tr>\n",
       "      <th>2549</th>\n",
       "      <td>Nc1ccc(S(=O)(=O)Nc2ncccn2)cc1</td>\n",
       "      <td>2131</td>\n",
       "      <td>SULFADIAZINE</td>\n",
       "      <td>1941</td>\n",
       "      <td>1</td>\n",
       "      <td>1</td>\n",
       "      <td>1</td>\n",
       "      <td>1</td>\n",
       "      <td>0</td>\n",
       "      <td>0</td>\n",
       "      <td>Nc1ccc(S(=O)(=O)Nc2ncccn2)cc1</td>\n",
       "      <td>InChI=1S/C10H10N4O2S/c11-8-2-4-9(5-3-8)17(15,1...</td>\n",
       "      <td>before 1997</td>\n",
       "    </tr>\n",
       "    <tr>\n",
       "      <th>73</th>\n",
       "      <td>C=C1CC[C@H](O)C/C1=C/C=C1\\CCC[C@]2(C)[C@@H]([C...</td>\n",
       "      <td>430124</td>\n",
       "      <td>ERGOCALCIFEROL</td>\n",
       "      <td>1941</td>\n",
       "      <td>1</td>\n",
       "      <td>1</td>\n",
       "      <td>1</td>\n",
       "      <td>0</td>\n",
       "      <td>0</td>\n",
       "      <td>0</td>\n",
       "      <td>C=C1CC[C@H](O)C/C1=C/C=C1\\CCC[C@]2(C)[C@@H]([C...</td>\n",
       "      <td>InChI=1S/C28H44O/c1-19(2)20(3)9-10-22(5)26-15-...</td>\n",
       "      <td>before 1997</td>\n",
       "    </tr>\n",
       "    <tr>\n",
       "      <th>...</th>\n",
       "      <td>...</td>\n",
       "      <td>...</td>\n",
       "      <td>...</td>\n",
       "      <td>...</td>\n",
       "      <td>...</td>\n",
       "      <td>...</td>\n",
       "      <td>...</td>\n",
       "      <td>...</td>\n",
       "      <td>...</td>\n",
       "      <td>...</td>\n",
       "      <td>...</td>\n",
       "      <td>...</td>\n",
       "      <td>...</td>\n",
       "    </tr>\n",
       "    <tr>\n",
       "      <th>887</th>\n",
       "      <td>CCCS(=O)(=O)N[C@H]1C[C@@H](N(C)c2ncnc3[nH]ccc2...</td>\n",
       "      <td>1987927</td>\n",
       "      <td>ABROCITINIB</td>\n",
       "      <td>2022</td>\n",
       "      <td>1</td>\n",
       "      <td>1</td>\n",
       "      <td>0</td>\n",
       "      <td>0</td>\n",
       "      <td>1</td>\n",
       "      <td>0</td>\n",
       "      <td>CCCS(=O)(=O)N[C@H]1C[C@@H](N(C)c2ncnc3[nH]ccc2...</td>\n",
       "      <td>InChI=1S/C14H21N5O2S/c1-3-6-22(20,21)18-10-7-1...</td>\n",
       "      <td>after 2017</td>\n",
       "    </tr>\n",
       "    <tr>\n",
       "      <th>2900</th>\n",
       "      <td>[2H]C([2H])([2H])NC(=O)c1nnc(NC(=O)C2CC2)cc1Nc...</td>\n",
       "      <td>2342179</td>\n",
       "      <td>DEUCRAVACITINIB</td>\n",
       "      <td>2022</td>\n",
       "      <td>1</td>\n",
       "      <td>1</td>\n",
       "      <td>0</td>\n",
       "      <td>0</td>\n",
       "      <td>0</td>\n",
       "      <td>0</td>\n",
       "      <td>[2H]C([2H])([2H])NC(=O)c1nnc(NC(=O)C2CC2)cc1Nc...</td>\n",
       "      <td>InChI=1S/C20H22N8O3/c1-21-20(30)16-14(9-15(25-...</td>\n",
       "      <td>after 2017</td>\n",
       "    </tr>\n",
       "    <tr>\n",
       "      <th>1487</th>\n",
       "      <td>CNC(=O)c1nnc(NC(=O)C2CC2)cc1Nc1cccc(-c2ncn(C)n...</td>\n",
       "      <td>2466823</td>\n",
       "      <td>DEUCRAVACITINIB</td>\n",
       "      <td>2022</td>\n",
       "      <td>0</td>\n",
       "      <td>1</td>\n",
       "      <td>0</td>\n",
       "      <td>0</td>\n",
       "      <td>0</td>\n",
       "      <td>0</td>\n",
       "      <td>CNC(=O)c1nnc(NC(=O)C2CC2)cc1Nc1cccc(-c2ncn(C)n...</td>\n",
       "      <td>InChI=1S/C20H22N8O3/c1-21-20(30)16-14(9-15(25-...</td>\n",
       "      <td>after 2017</td>\n",
       "    </tr>\n",
       "    <tr>\n",
       "      <th>1520</th>\n",
       "      <td>CNCc1cc(-c2ccccc2F)n(S(=O)(=O)c2cccnc2)c1</td>\n",
       "      <td>1363360</td>\n",
       "      <td>VONOPRAZAN</td>\n",
       "      <td>2022</td>\n",
       "      <td>0</td>\n",
       "      <td>1</td>\n",
       "      <td>0</td>\n",
       "      <td>0</td>\n",
       "      <td>0</td>\n",
       "      <td>0</td>\n",
       "      <td>CNCc1cc(-c2ccccc2F)n(S(=O)(=O)c2cccnc2)c1</td>\n",
       "      <td>InChI=1S/C17H16FN3O2S/c1-19-10-13-9-17(15-6-2-...</td>\n",
       "      <td>after 2017</td>\n",
       "    </tr>\n",
       "    <tr>\n",
       "      <th>466</th>\n",
       "      <td>CC(C)n1c(=O)cc(N[C@@H](C)c2ccccc2)[nH]c1=O</td>\n",
       "      <td>2335488</td>\n",
       "      <td>MAVACAMTEN</td>\n",
       "      <td>2022</td>\n",
       "      <td>1</td>\n",
       "      <td>1</td>\n",
       "      <td>0</td>\n",
       "      <td>0</td>\n",
       "      <td>1</td>\n",
       "      <td>0</td>\n",
       "      <td>CC(C)n1c(=O)cc(N[C@@H](C)c2ccccc2)[nH]c1=O</td>\n",
       "      <td>InChI=1S/C15H19N3O2/c1-10(2)18-14(19)9-13(17-1...</td>\n",
       "      <td>after 2017</td>\n",
       "    </tr>\n",
       "  </tbody>\n",
       "</table>\n",
       "<p>1031 rows × 13 columns</p>\n",
       "</div>"
      ],
      "text/plain": [
       "                                       canonical_smiles  molregno  \\\n",
       "2547                      Nc1ccc(S(=O)(=O)Nc2ccccn2)cc1     32842   \n",
       "667                        CCC(C)C1(CC)C(=O)NC(=O)NC1=O      2393   \n",
       "2368  Cn1c(=O)c2[nH]cnc2n(C)c1=O.Cn1c(=O)c2[nH]cnc2n...    794445   \n",
       "2549                      Nc1ccc(S(=O)(=O)Nc2ncccn2)cc1      2131   \n",
       "73    C=C1CC[C@H](O)C/C1=C/C=C1\\CCC[C@]2(C)[C@@H]([C...    430124   \n",
       "...                                                 ...       ...   \n",
       "887   CCCS(=O)(=O)N[C@H]1C[C@@H](N(C)c2ncnc3[nH]ccc2...   1987927   \n",
       "2900  [2H]C([2H])([2H])NC(=O)c1nnc(NC(=O)C2CC2)cc1Nc...   2342179   \n",
       "1487  CNC(=O)c1nnc(NC(=O)C2CC2)cc1Nc1cccc(-c2ncn(C)n...   2466823   \n",
       "1520          CNCc1cc(-c2ccccc2F)n(S(=O)(=O)c2cccnc2)c1   1363360   \n",
       "466          CC(C)n1c(=O)cc(N[C@@H](C)c2ccccc2)[nH]c1=O   2335488   \n",
       "\n",
       "            pref_name  first_approval  dosed_ingredient  oral  parenteral  \\\n",
       "2547    SULFAPYRIDINE            1939                 1     1           0   \n",
       "667      BUTABARBITAL            1939                 0     1           0   \n",
       "2368    AMINOPHYLLINE            1940                 1     1           1   \n",
       "2549     SULFADIAZINE            1941                 1     1           1   \n",
       "73     ERGOCALCIFEROL            1941                 1     1           1   \n",
       "...               ...             ...               ...   ...         ...   \n",
       "887       ABROCITINIB            2022                 1     1           0   \n",
       "2900  DEUCRAVACITINIB            2022                 1     1           0   \n",
       "1487  DEUCRAVACITINIB            2022                 0     1           0   \n",
       "1520       VONOPRAZAN            2022                 0     1           0   \n",
       "466        MAVACAMTEN            2022                 1     1           0   \n",
       "\n",
       "      topical  black_box_warning  first_in_class  \\\n",
       "2547        0                  0               0   \n",
       "667         0                  0               0   \n",
       "2368        1                  0               0   \n",
       "2549        1                  0               0   \n",
       "73          0                  0               0   \n",
       "...       ...                ...             ...   \n",
       "887         0                  1               0   \n",
       "2900        0                  0               0   \n",
       "1487        0                  0               0   \n",
       "1520        0                  0               0   \n",
       "466         0                  1               0   \n",
       "\n",
       "                                             std_smiles  \\\n",
       "2547                      Nc1ccc(S(=O)(=O)Nc2ccccn2)cc1   \n",
       "667                        CCC(C)C1(CC)C(=O)NC(=O)NC1=O   \n",
       "2368                         Cn1c(=O)c2[nH]cnc2n(C)c1=O   \n",
       "2549                      Nc1ccc(S(=O)(=O)Nc2ncccn2)cc1   \n",
       "73    C=C1CC[C@H](O)C/C1=C/C=C1\\CCC[C@]2(C)[C@@H]([C...   \n",
       "...                                                 ...   \n",
       "887   CCCS(=O)(=O)N[C@H]1C[C@@H](N(C)c2ncnc3[nH]ccc2...   \n",
       "2900  [2H]C([2H])([2H])NC(=O)c1nnc(NC(=O)C2CC2)cc1Nc...   \n",
       "1487  CNC(=O)c1nnc(NC(=O)C2CC2)cc1Nc1cccc(-c2ncn(C)n...   \n",
       "1520          CNCc1cc(-c2ccccc2F)n(S(=O)(=O)c2cccnc2)c1   \n",
       "466          CC(C)n1c(=O)cc(N[C@@H](C)c2ccccc2)[nH]c1=O   \n",
       "\n",
       "                                                  inchi          era  \n",
       "2547  InChI=1S/C11H11N3O2S/c12-9-4-6-10(7-5-9)17(15,...  before 1997  \n",
       "667   InChI=1S/C10H16N2O3/c1-4-6(3)10(5-2)7(13)11-9(...  before 1997  \n",
       "2368  InChI=1S/C7H8N4O2/c1-10-5-4(8-3-9-5)6(12)11(2)...  before 1997  \n",
       "2549  InChI=1S/C10H10N4O2S/c11-8-2-4-9(5-3-8)17(15,1...  before 1997  \n",
       "73    InChI=1S/C28H44O/c1-19(2)20(3)9-10-22(5)26-15-...  before 1997  \n",
       "...                                                 ...          ...  \n",
       "887   InChI=1S/C14H21N5O2S/c1-3-6-22(20,21)18-10-7-1...   after 2017  \n",
       "2900  InChI=1S/C20H22N8O3/c1-21-20(30)16-14(9-15(25-...   after 2017  \n",
       "1487  InChI=1S/C20H22N8O3/c1-21-20(30)16-14(9-15(25-...   after 2017  \n",
       "1520  InChI=1S/C17H16FN3O2S/c1-19-10-13-9-17(15-6-2-...   after 2017  \n",
       "466   InChI=1S/C15H19N3O2/c1-10(2)18-14(19)9-13(17-1...   after 2017  \n",
       "\n",
       "[1031 rows x 13 columns]"
      ]
     },
     "execution_count": 26,
     "metadata": {},
     "output_type": "execute_result"
    }
   ],
   "source": [
    "df_final_drug"
   ]
  },
  {
   "cell_type": "markdown",
   "id": "e8ea847e",
   "metadata": {
    "pycharm": {
     "name": "#%% md\n"
    }
   },
   "source": [
    "### 5. Compare the molecular weight and calculated logp distributions for the three groups, and determine if the differences between groups are statistically significant.\n",
    "Now let's calculate the parameters that define Lipinski's Rule of 5.  Fortunately, the [useful_rdkit_utils](https://github.com/PatWalters/useful_rdkit_utils) package has a convenience function to make this easy."
   ]
  },
  {
   "cell_type": "code",
   "execution_count": 27,
   "id": "4884beb1",
   "metadata": {
    "pycharm": {
     "name": "#%%\n"
    }
   },
   "outputs": [],
   "source": [
    "ro5_calc = uru.Ro5Calculator()\n",
    "df_final_drug[ro5_calc.names] = df_final_drug.std_smiles.apply(ro5_calc.calc_smiles).tolist()"
   ]
  },
  {
   "cell_type": "code",
   "execution_count": 28,
   "id": "bfbc449e",
   "metadata": {
    "pycharm": {
     "name": "#%%\n"
    }
   },
   "outputs": [
    {
     "data": {
      "text/html": [
       "<div>\n",
       "<style scoped>\n",
       "    .dataframe tbody tr th:only-of-type {\n",
       "        vertical-align: middle;\n",
       "    }\n",
       "\n",
       "    .dataframe tbody tr th {\n",
       "        vertical-align: top;\n",
       "    }\n",
       "\n",
       "    .dataframe thead th {\n",
       "        text-align: right;\n",
       "    }\n",
       "</style>\n",
       "<table border=\"1\" class=\"dataframe\">\n",
       "  <thead>\n",
       "    <tr style=\"text-align: right;\">\n",
       "      <th></th>\n",
       "      <th>canonical_smiles</th>\n",
       "      <th>molregno</th>\n",
       "      <th>pref_name</th>\n",
       "      <th>first_approval</th>\n",
       "      <th>dosed_ingredient</th>\n",
       "      <th>oral</th>\n",
       "      <th>parenteral</th>\n",
       "      <th>topical</th>\n",
       "      <th>black_box_warning</th>\n",
       "      <th>first_in_class</th>\n",
       "      <th>std_smiles</th>\n",
       "      <th>inchi</th>\n",
       "      <th>era</th>\n",
       "      <th>MolWt</th>\n",
       "      <th>LogP</th>\n",
       "      <th>HBD</th>\n",
       "      <th>HBA</th>\n",
       "      <th>TPSA</th>\n",
       "    </tr>\n",
       "  </thead>\n",
       "  <tbody>\n",
       "    <tr>\n",
       "      <th>2547</th>\n",
       "      <td>Nc1ccc(S(=O)(=O)Nc2ccccn2)cc1</td>\n",
       "      <td>32842</td>\n",
       "      <td>SULFAPYRIDINE</td>\n",
       "      <td>1939</td>\n",
       "      <td>1</td>\n",
       "      <td>1</td>\n",
       "      <td>0</td>\n",
       "      <td>0</td>\n",
       "      <td>0</td>\n",
       "      <td>0</td>\n",
       "      <td>Nc1ccc(S(=O)(=O)Nc2ccccn2)cc1</td>\n",
       "      <td>InChI=1S/C11H11N3O2S/c12-9-4-6-10(7-5-9)17(15,...</td>\n",
       "      <td>before 1997</td>\n",
       "      <td>249.295000</td>\n",
       "      <td>1.4646</td>\n",
       "      <td>2.0</td>\n",
       "      <td>4.0</td>\n",
       "      <td>85.08</td>\n",
       "    </tr>\n",
       "    <tr>\n",
       "      <th>667</th>\n",
       "      <td>CCC(C)C1(CC)C(=O)NC(=O)NC1=O</td>\n",
       "      <td>2393</td>\n",
       "      <td>BUTABARBITAL</td>\n",
       "      <td>1939</td>\n",
       "      <td>0</td>\n",
       "      <td>1</td>\n",
       "      <td>0</td>\n",
       "      <td>0</td>\n",
       "      <td>0</td>\n",
       "      <td>0</td>\n",
       "      <td>CCC(C)C1(CC)C(=O)NC(=O)NC1=O</td>\n",
       "      <td>InChI=1S/C10H16N2O3/c1-4-6(3)10(5-2)7(13)11-9(...</td>\n",
       "      <td>before 1997</td>\n",
       "      <td>212.249000</td>\n",
       "      <td>0.7949</td>\n",
       "      <td>2.0</td>\n",
       "      <td>3.0</td>\n",
       "      <td>75.27</td>\n",
       "    </tr>\n",
       "    <tr>\n",
       "      <th>2368</th>\n",
       "      <td>Cn1c(=O)c2[nH]cnc2n(C)c1=O.Cn1c(=O)c2[nH]cnc2n...</td>\n",
       "      <td>794445</td>\n",
       "      <td>AMINOPHYLLINE</td>\n",
       "      <td>1940</td>\n",
       "      <td>1</td>\n",
       "      <td>1</td>\n",
       "      <td>1</td>\n",
       "      <td>1</td>\n",
       "      <td>0</td>\n",
       "      <td>0</td>\n",
       "      <td>Cn1c(=O)c2[nH]cnc2n(C)c1=O</td>\n",
       "      <td>InChI=1S/C7H8N4O2/c1-10-5-4(8-3-9-5)6(12)11(2)...</td>\n",
       "      <td>before 1997</td>\n",
       "      <td>180.167000</td>\n",
       "      <td>-1.0397</td>\n",
       "      <td>1.0</td>\n",
       "      <td>5.0</td>\n",
       "      <td>72.68</td>\n",
       "    </tr>\n",
       "    <tr>\n",
       "      <th>2549</th>\n",
       "      <td>Nc1ccc(S(=O)(=O)Nc2ncccn2)cc1</td>\n",
       "      <td>2131</td>\n",
       "      <td>SULFADIAZINE</td>\n",
       "      <td>1941</td>\n",
       "      <td>1</td>\n",
       "      <td>1</td>\n",
       "      <td>1</td>\n",
       "      <td>1</td>\n",
       "      <td>0</td>\n",
       "      <td>0</td>\n",
       "      <td>Nc1ccc(S(=O)(=O)Nc2ncccn2)cc1</td>\n",
       "      <td>InChI=1S/C10H10N4O2S/c11-8-2-4-9(5-3-8)17(15,1...</td>\n",
       "      <td>before 1997</td>\n",
       "      <td>250.283000</td>\n",
       "      <td>0.8596</td>\n",
       "      <td>2.0</td>\n",
       "      <td>5.0</td>\n",
       "      <td>97.97</td>\n",
       "    </tr>\n",
       "    <tr>\n",
       "      <th>73</th>\n",
       "      <td>C=C1CC[C@H](O)C/C1=C/C=C1\\CCC[C@]2(C)[C@@H]([C...</td>\n",
       "      <td>430124</td>\n",
       "      <td>ERGOCALCIFEROL</td>\n",
       "      <td>1941</td>\n",
       "      <td>1</td>\n",
       "      <td>1</td>\n",
       "      <td>1</td>\n",
       "      <td>0</td>\n",
       "      <td>0</td>\n",
       "      <td>0</td>\n",
       "      <td>C=C1CC[C@H](O)C/C1=C/C=C1\\CCC[C@]2(C)[C@@H]([C...</td>\n",
       "      <td>InChI=1S/C28H44O/c1-19(2)20(3)9-10-22(5)26-15-...</td>\n",
       "      <td>before 1997</td>\n",
       "      <td>396.659000</td>\n",
       "      <td>7.6410</td>\n",
       "      <td>1.0</td>\n",
       "      <td>1.0</td>\n",
       "      <td>20.23</td>\n",
       "    </tr>\n",
       "    <tr>\n",
       "      <th>...</th>\n",
       "      <td>...</td>\n",
       "      <td>...</td>\n",
       "      <td>...</td>\n",
       "      <td>...</td>\n",
       "      <td>...</td>\n",
       "      <td>...</td>\n",
       "      <td>...</td>\n",
       "      <td>...</td>\n",
       "      <td>...</td>\n",
       "      <td>...</td>\n",
       "      <td>...</td>\n",
       "      <td>...</td>\n",
       "      <td>...</td>\n",
       "      <td>...</td>\n",
       "      <td>...</td>\n",
       "      <td>...</td>\n",
       "      <td>...</td>\n",
       "      <td>...</td>\n",
       "    </tr>\n",
       "    <tr>\n",
       "      <th>887</th>\n",
       "      <td>CCCS(=O)(=O)N[C@H]1C[C@@H](N(C)c2ncnc3[nH]ccc2...</td>\n",
       "      <td>1987927</td>\n",
       "      <td>ABROCITINIB</td>\n",
       "      <td>2022</td>\n",
       "      <td>1</td>\n",
       "      <td>1</td>\n",
       "      <td>0</td>\n",
       "      <td>0</td>\n",
       "      <td>1</td>\n",
       "      <td>0</td>\n",
       "      <td>CCCS(=O)(=O)N[C@H]1C[C@@H](N(C)c2ncnc3[nH]ccc2...</td>\n",
       "      <td>InChI=1S/C14H21N5O2S/c1-3-6-22(20,21)18-10-7-1...</td>\n",
       "      <td>after 2017</td>\n",
       "      <td>323.422000</td>\n",
       "      <td>1.2545</td>\n",
       "      <td>2.0</td>\n",
       "      <td>5.0</td>\n",
       "      <td>90.98</td>\n",
       "    </tr>\n",
       "    <tr>\n",
       "      <th>2900</th>\n",
       "      <td>[2H]C([2H])([2H])NC(=O)c1nnc(NC(=O)C2CC2)cc1Nc...</td>\n",
       "      <td>2342179</td>\n",
       "      <td>DEUCRAVACITINIB</td>\n",
       "      <td>2022</td>\n",
       "      <td>1</td>\n",
       "      <td>1</td>\n",
       "      <td>0</td>\n",
       "      <td>0</td>\n",
       "      <td>0</td>\n",
       "      <td>0</td>\n",
       "      <td>[2H]C([2H])([2H])NC(=O)c1nnc(NC(=O)C2CC2)cc1Nc...</td>\n",
       "      <td>InChI=1S/C20H22N8O3/c1-21-20(30)16-14(9-15(25-...</td>\n",
       "      <td>after 2017</td>\n",
       "      <td>425.467305</td>\n",
       "      <td>1.7324</td>\n",
       "      <td>3.0</td>\n",
       "      <td>9.0</td>\n",
       "      <td>135.95</td>\n",
       "    </tr>\n",
       "    <tr>\n",
       "      <th>1487</th>\n",
       "      <td>CNC(=O)c1nnc(NC(=O)C2CC2)cc1Nc1cccc(-c2ncn(C)n...</td>\n",
       "      <td>2466823</td>\n",
       "      <td>DEUCRAVACITINIB</td>\n",
       "      <td>2022</td>\n",
       "      <td>0</td>\n",
       "      <td>1</td>\n",
       "      <td>0</td>\n",
       "      <td>0</td>\n",
       "      <td>0</td>\n",
       "      <td>0</td>\n",
       "      <td>CNC(=O)c1nnc(NC(=O)C2CC2)cc1Nc1cccc(-c2ncn(C)n...</td>\n",
       "      <td>InChI=1S/C20H22N8O3/c1-21-20(30)16-14(9-15(25-...</td>\n",
       "      <td>after 2017</td>\n",
       "      <td>422.449000</td>\n",
       "      <td>1.7324</td>\n",
       "      <td>3.0</td>\n",
       "      <td>9.0</td>\n",
       "      <td>135.95</td>\n",
       "    </tr>\n",
       "    <tr>\n",
       "      <th>1520</th>\n",
       "      <td>CNCc1cc(-c2ccccc2F)n(S(=O)(=O)c2cccnc2)c1</td>\n",
       "      <td>1363360</td>\n",
       "      <td>VONOPRAZAN</td>\n",
       "      <td>2022</td>\n",
       "      <td>0</td>\n",
       "      <td>1</td>\n",
       "      <td>0</td>\n",
       "      <td>0</td>\n",
       "      <td>0</td>\n",
       "      <td>0</td>\n",
       "      <td>CNCc1cc(-c2ccccc2F)n(S(=O)(=O)c2cccnc2)c1</td>\n",
       "      <td>InChI=1S/C17H16FN3O2S/c1-19-10-13-9-17(15-6-2-...</td>\n",
       "      <td>after 2017</td>\n",
       "      <td>345.399000</td>\n",
       "      <td>2.6456</td>\n",
       "      <td>1.0</td>\n",
       "      <td>5.0</td>\n",
       "      <td>63.99</td>\n",
       "    </tr>\n",
       "    <tr>\n",
       "      <th>466</th>\n",
       "      <td>CC(C)n1c(=O)cc(N[C@@H](C)c2ccccc2)[nH]c1=O</td>\n",
       "      <td>2335488</td>\n",
       "      <td>MAVACAMTEN</td>\n",
       "      <td>2022</td>\n",
       "      <td>1</td>\n",
       "      <td>1</td>\n",
       "      <td>0</td>\n",
       "      <td>0</td>\n",
       "      <td>1</td>\n",
       "      <td>0</td>\n",
       "      <td>CC(C)n1c(=O)cc(N[C@@H](C)c2ccccc2)[nH]c1=O</td>\n",
       "      <td>InChI=1S/C15H19N3O2/c1-10(2)18-14(19)9-13(17-1...</td>\n",
       "      <td>after 2017</td>\n",
       "      <td>273.336000</td>\n",
       "      <td>2.2906</td>\n",
       "      <td>2.0</td>\n",
       "      <td>4.0</td>\n",
       "      <td>66.89</td>\n",
       "    </tr>\n",
       "  </tbody>\n",
       "</table>\n",
       "<p>1031 rows × 18 columns</p>\n",
       "</div>"
      ],
      "text/plain": [
       "                                       canonical_smiles  molregno  \\\n",
       "2547                      Nc1ccc(S(=O)(=O)Nc2ccccn2)cc1     32842   \n",
       "667                        CCC(C)C1(CC)C(=O)NC(=O)NC1=O      2393   \n",
       "2368  Cn1c(=O)c2[nH]cnc2n(C)c1=O.Cn1c(=O)c2[nH]cnc2n...    794445   \n",
       "2549                      Nc1ccc(S(=O)(=O)Nc2ncccn2)cc1      2131   \n",
       "73    C=C1CC[C@H](O)C/C1=C/C=C1\\CCC[C@]2(C)[C@@H]([C...    430124   \n",
       "...                                                 ...       ...   \n",
       "887   CCCS(=O)(=O)N[C@H]1C[C@@H](N(C)c2ncnc3[nH]ccc2...   1987927   \n",
       "2900  [2H]C([2H])([2H])NC(=O)c1nnc(NC(=O)C2CC2)cc1Nc...   2342179   \n",
       "1487  CNC(=O)c1nnc(NC(=O)C2CC2)cc1Nc1cccc(-c2ncn(C)n...   2466823   \n",
       "1520          CNCc1cc(-c2ccccc2F)n(S(=O)(=O)c2cccnc2)c1   1363360   \n",
       "466          CC(C)n1c(=O)cc(N[C@@H](C)c2ccccc2)[nH]c1=O   2335488   \n",
       "\n",
       "            pref_name  first_approval  dosed_ingredient  oral  parenteral  \\\n",
       "2547    SULFAPYRIDINE            1939                 1     1           0   \n",
       "667      BUTABARBITAL            1939                 0     1           0   \n",
       "2368    AMINOPHYLLINE            1940                 1     1           1   \n",
       "2549     SULFADIAZINE            1941                 1     1           1   \n",
       "73     ERGOCALCIFEROL            1941                 1     1           1   \n",
       "...               ...             ...               ...   ...         ...   \n",
       "887       ABROCITINIB            2022                 1     1           0   \n",
       "2900  DEUCRAVACITINIB            2022                 1     1           0   \n",
       "1487  DEUCRAVACITINIB            2022                 0     1           0   \n",
       "1520       VONOPRAZAN            2022                 0     1           0   \n",
       "466        MAVACAMTEN            2022                 1     1           0   \n",
       "\n",
       "      topical  black_box_warning  first_in_class  \\\n",
       "2547        0                  0               0   \n",
       "667         0                  0               0   \n",
       "2368        1                  0               0   \n",
       "2549        1                  0               0   \n",
       "73          0                  0               0   \n",
       "...       ...                ...             ...   \n",
       "887         0                  1               0   \n",
       "2900        0                  0               0   \n",
       "1487        0                  0               0   \n",
       "1520        0                  0               0   \n",
       "466         0                  1               0   \n",
       "\n",
       "                                             std_smiles  \\\n",
       "2547                      Nc1ccc(S(=O)(=O)Nc2ccccn2)cc1   \n",
       "667                        CCC(C)C1(CC)C(=O)NC(=O)NC1=O   \n",
       "2368                         Cn1c(=O)c2[nH]cnc2n(C)c1=O   \n",
       "2549                      Nc1ccc(S(=O)(=O)Nc2ncccn2)cc1   \n",
       "73    C=C1CC[C@H](O)C/C1=C/C=C1\\CCC[C@]2(C)[C@@H]([C...   \n",
       "...                                                 ...   \n",
       "887   CCCS(=O)(=O)N[C@H]1C[C@@H](N(C)c2ncnc3[nH]ccc2...   \n",
       "2900  [2H]C([2H])([2H])NC(=O)c1nnc(NC(=O)C2CC2)cc1Nc...   \n",
       "1487  CNC(=O)c1nnc(NC(=O)C2CC2)cc1Nc1cccc(-c2ncn(C)n...   \n",
       "1520          CNCc1cc(-c2ccccc2F)n(S(=O)(=O)c2cccnc2)c1   \n",
       "466          CC(C)n1c(=O)cc(N[C@@H](C)c2ccccc2)[nH]c1=O   \n",
       "\n",
       "                                                  inchi          era  \\\n",
       "2547  InChI=1S/C11H11N3O2S/c12-9-4-6-10(7-5-9)17(15,...  before 1997   \n",
       "667   InChI=1S/C10H16N2O3/c1-4-6(3)10(5-2)7(13)11-9(...  before 1997   \n",
       "2368  InChI=1S/C7H8N4O2/c1-10-5-4(8-3-9-5)6(12)11(2)...  before 1997   \n",
       "2549  InChI=1S/C10H10N4O2S/c11-8-2-4-9(5-3-8)17(15,1...  before 1997   \n",
       "73    InChI=1S/C28H44O/c1-19(2)20(3)9-10-22(5)26-15-...  before 1997   \n",
       "...                                                 ...          ...   \n",
       "887   InChI=1S/C14H21N5O2S/c1-3-6-22(20,21)18-10-7-1...   after 2017   \n",
       "2900  InChI=1S/C20H22N8O3/c1-21-20(30)16-14(9-15(25-...   after 2017   \n",
       "1487  InChI=1S/C20H22N8O3/c1-21-20(30)16-14(9-15(25-...   after 2017   \n",
       "1520  InChI=1S/C17H16FN3O2S/c1-19-10-13-9-17(15-6-2-...   after 2017   \n",
       "466   InChI=1S/C15H19N3O2/c1-10(2)18-14(19)9-13(17-1...   after 2017   \n",
       "\n",
       "           MolWt    LogP  HBD  HBA    TPSA  \n",
       "2547  249.295000  1.4646  2.0  4.0   85.08  \n",
       "667   212.249000  0.7949  2.0  3.0   75.27  \n",
       "2368  180.167000 -1.0397  1.0  5.0   72.68  \n",
       "2549  250.283000  0.8596  2.0  5.0   97.97  \n",
       "73    396.659000  7.6410  1.0  1.0   20.23  \n",
       "...          ...     ...  ...  ...     ...  \n",
       "887   323.422000  1.2545  2.0  5.0   90.98  \n",
       "2900  425.467305  1.7324  3.0  9.0  135.95  \n",
       "1487  422.449000  1.7324  3.0  9.0  135.95  \n",
       "1520  345.399000  2.6456  1.0  5.0   63.99  \n",
       "466   273.336000  2.2906  2.0  4.0   66.89  \n",
       "\n",
       "[1031 rows x 18 columns]"
      ]
     },
     "execution_count": 28,
     "metadata": {},
     "output_type": "execute_result"
    }
   ],
   "source": [
    "df_final_drug"
   ]
  },
  {
   "cell_type": "markdown",
   "id": "9c9a17db",
   "metadata": {
    "pycharm": {
     "name": "#%% md\n"
    }
   },
   "source": [
    "With that data in hand, we can make boxplots to show the molecular weight distributions over the three time periods in question.  Based on the boxplots, it appears that there is a trend toward increasing molecular weight over time.  However, we also want to look at whether there is a statistically signficant difference between the distributions. We'll look at this below. "
   ]
  },
  {
   "cell_type": "code",
   "execution_count": 29,
   "id": "3e2fc6fc",
   "metadata": {
    "pycharm": {
     "name": "#%%\n"
    }
   },
   "outputs": [
    {
     "data": {
      "image/png": "[encoded data removed]",
      "text/plain": [
       "<Figure size 640x480 with 1 Axes>"
      ]
     },
     "metadata": {},
     "output_type": "display_data"
    }
   ],
   "source": [
    "ax = sns.boxplot(x=\"era\", y=\"MolWt\", data=df_final_drug)\n",
    "ax.set_xlabel(\"Era\");"
   ]
  },
  {
   "cell_type": "markdown",
   "id": "68d476ff",
   "metadata": {
    "pycharm": {
     "name": "#%% md\n"
    }
   },
   "source": [
    "As mentioned above, we want to evaluate whether the molecular weight distributions above are different.  When working with normally distributed data, we would use something like Student's t-test to compare two distributions.  Since the distributions we're dealing with are not normally distributed we'll use the non-parametric Wilcoxon Rank Sum Test.  We're dealing with three distributions, so we need to correct the p-value to account for multiple comparisons.  Fortunately for us, there's the **scikit-posthocs** Python package to do the heavy lifting.  For more on multiple comparisons and post-hoc tests, please see this Practical Cheminformatics blog post. Looking at the plot below, we see that we can invalidate the null hypothesis that the means of the distributions are the same with at least p < 0.01."
   ]
  },
  {
   "cell_type": "code",
   "execution_count": 30,
   "id": "29d39bc3",
   "metadata": {
    "pycharm": {
     "name": "#%%\n"
    }
   },
   "outputs": [
    {
     "ename": "TypeError",
     "evalue": "set_ticks() got an unexpected keyword argument 'labels'",
     "output_type": "error",
     "traceback": [
      "\u001b[0;31m---------------------------------------------------------------------------\u001b[0m",
      "\u001b[0;31mTypeError\u001b[0m                                 Traceback (most recent call last)",
      "Cell \u001b[0;32mIn[30], line 5\u001b[0m\n\u001b[1;32m      2\u001b[0m pc \u001b[38;5;241m=\u001b[39m sp\u001b[38;5;241m.\u001b[39mposthoc_mannwhitney(df_final_drug, val_col\u001b[38;5;241m=\u001b[39m\u001b[38;5;124m\"\u001b[39m\u001b[38;5;124mMolWt\u001b[39m\u001b[38;5;124m\"\u001b[39m, group_col\u001b[38;5;241m=\u001b[39m\u001b[38;5;124m\"\u001b[39m\u001b[38;5;124mera\u001b[39m\u001b[38;5;124m\"\u001b[39m, p_adjust\u001b[38;5;241m=\u001b[39m\u001b[38;5;124m'\u001b[39m\u001b[38;5;124mholm\u001b[39m\u001b[38;5;124m'\u001b[39m)\n\u001b[1;32m      3\u001b[0m heatmap_args \u001b[38;5;241m=\u001b[39m {\u001b[38;5;124m'\u001b[39m\u001b[38;5;124mlinewidths\u001b[39m\u001b[38;5;124m'\u001b[39m: \u001b[38;5;241m0.25\u001b[39m, \u001b[38;5;124m'\u001b[39m\u001b[38;5;124mlinecolor\u001b[39m\u001b[38;5;124m'\u001b[39m: \u001b[38;5;124m'\u001b[39m\u001b[38;5;124m0.5\u001b[39m\u001b[38;5;124m'\u001b[39m, \u001b[38;5;124m'\u001b[39m\u001b[38;5;124mclip_on\u001b[39m\u001b[38;5;124m'\u001b[39m: \u001b[38;5;28;01mFalse\u001b[39;00m, \u001b[38;5;124m'\u001b[39m\u001b[38;5;124msquare\u001b[39m\u001b[38;5;124m'\u001b[39m: \u001b[38;5;28;01mTrue\u001b[39;00m,\n\u001b[1;32m      4\u001b[0m                 \u001b[38;5;124m'\u001b[39m\u001b[38;5;124mcbar_ax_bbox\u001b[39m\u001b[38;5;124m'\u001b[39m: [\u001b[38;5;241m0.80\u001b[39m, \u001b[38;5;241m0.35\u001b[39m, \u001b[38;5;241m0.04\u001b[39m, \u001b[38;5;241m0.3\u001b[39m]}\n\u001b[0;32m----> 5\u001b[0m _ \u001b[38;5;241m=\u001b[39m \u001b[43msp\u001b[49m\u001b[38;5;241;43m.\u001b[39;49m\u001b[43msign_plot\u001b[49m\u001b[43m(\u001b[49m\u001b[43mpc\u001b[49m\u001b[43m,\u001b[49m\u001b[43m \u001b[49m\u001b[38;5;241;43m*\u001b[39;49m\u001b[38;5;241;43m*\u001b[39;49m\u001b[43mheatmap_args\u001b[49m\u001b[43m)\u001b[49m\n",
      "File \u001b[0;32m~/anaconda3/envs/rdkit/lib/python3.8/site-packages/scikit_posthocs/_plotting.py:247\u001b[0m, in \u001b[0;36msign_plot\u001b[0;34m(x, g, flat, labels, cmap, cbar_ax_bbox, ax, **kwargs)\u001b[0m\n\u001b[1;32m    244\u001b[0m cbar_ax \u001b[38;5;241m=\u001b[39m hax\u001b[38;5;241m.\u001b[39mfigure\u001b[38;5;241m.\u001b[39madd_axes(cbar_ax_bbox \u001b[38;5;129;01mor\u001b[39;00m [\u001b[38;5;241m0.95\u001b[39m, \u001b[38;5;241m0.35\u001b[39m, \u001b[38;5;241m0.04\u001b[39m, \u001b[38;5;241m0.3\u001b[39m])\n\u001b[1;32m    245\u001b[0m cbar \u001b[38;5;241m=\u001b[39m ColorbarBase(cbar_ax, cmap\u001b[38;5;241m=\u001b[39m(ListedColormap(cmap[\u001b[38;5;241m2\u001b[39m:] \u001b[38;5;241m+\u001b[39m [cmap[\u001b[38;5;241m1\u001b[39m]])), norm\u001b[38;5;241m=\u001b[39mcolors\u001b[38;5;241m.\u001b[39mNoNorm(),\n\u001b[1;32m    246\u001b[0m                     boundaries\u001b[38;5;241m=\u001b[39m[\u001b[38;5;241m0\u001b[39m, \u001b[38;5;241m1\u001b[39m, \u001b[38;5;241m2\u001b[39m, \u001b[38;5;241m3\u001b[39m, \u001b[38;5;241m4\u001b[39m])\n\u001b[0;32m--> 247\u001b[0m \u001b[43mcbar\u001b[49m\u001b[38;5;241;43m.\u001b[39;49m\u001b[43mset_ticks\u001b[49m\u001b[43m(\u001b[49m\u001b[38;5;28;43mlist\u001b[39;49m\u001b[43m(\u001b[49m\u001b[43mnp\u001b[49m\u001b[38;5;241;43m.\u001b[39;49m\u001b[43mlinspace\u001b[49m\u001b[43m(\u001b[49m\u001b[38;5;241;43m0\u001b[39;49m\u001b[43m,\u001b[49m\u001b[43m \u001b[49m\u001b[38;5;241;43m3\u001b[39;49m\u001b[43m,\u001b[49m\u001b[43m \u001b[49m\u001b[38;5;241;43m4\u001b[39;49m\u001b[43m)\u001b[49m\u001b[43m)\u001b[49m\u001b[43m,\u001b[49m\u001b[43m \u001b[49m\u001b[43mlabels\u001b[49m\u001b[38;5;241;43m=\u001b[39;49m\u001b[43m[\u001b[49m\u001b[38;5;124;43m'\u001b[39;49m\u001b[38;5;124;43mp < 0.001\u001b[39;49m\u001b[38;5;124;43m'\u001b[39;49m\u001b[43m,\u001b[49m\u001b[43m \u001b[49m\u001b[38;5;124;43m'\u001b[39;49m\u001b[38;5;124;43mp < 0.01\u001b[39;49m\u001b[38;5;124;43m'\u001b[39;49m\u001b[43m,\u001b[49m\u001b[43m \u001b[49m\u001b[38;5;124;43m'\u001b[39;49m\u001b[38;5;124;43mp < 0.05\u001b[39;49m\u001b[38;5;124;43m'\u001b[39;49m\u001b[43m,\u001b[49m\u001b[43m \u001b[49m\u001b[38;5;124;43m'\u001b[39;49m\u001b[38;5;124;43mNS\u001b[39;49m\u001b[38;5;124;43m'\u001b[39;49m\u001b[43m]\u001b[49m\u001b[43m)\u001b[49m\n\u001b[1;32m    249\u001b[0m cbar\u001b[38;5;241m.\u001b[39moutline\u001b[38;5;241m.\u001b[39mset_linewidth(\u001b[38;5;241m1\u001b[39m)\n\u001b[1;32m    250\u001b[0m cbar\u001b[38;5;241m.\u001b[39moutline\u001b[38;5;241m.\u001b[39mset_edgecolor(\u001b[38;5;124m'\u001b[39m\u001b[38;5;124m0.5\u001b[39m\u001b[38;5;124m'\u001b[39m)\n",
      "\u001b[0;31mTypeError\u001b[0m: set_ticks() got an unexpected keyword argument 'labels'"
     ]
    },
    {
     "data": {
      "image/png": "[encoded data removed]",
      "text/plain": [
       "<Figure size 800x600 with 2 Axes>"
      ]
     },
     "metadata": {},
     "output_type": "display_data"
    }
   ],
   "source": [
    "sns.set(rc={'figure.figsize': (8, 6)}, font_scale=1.5)\n",
    "pc = sp.posthoc_mannwhitney(df_final_drug, val_col=\"MolWt\", group_col=\"era\", p_adjust='holm')\n",
    "heatmap_args = {'linewidths': 0.25, 'linecolor': '0.5', 'clip_on': False, 'square': True,\n",
    "                'cbar_ax_bbox': [0.80, 0.35, 0.04, 0.3]}\n",
    "_ = sp.sign_plot(pc, **heatmap_args)"
   ]
  },
  {
   "cell_type": "markdown",
   "id": "f8b76348",
   "metadata": {
    "pycharm": {
     "name": "#%% md\n"
    }
   },
   "source": [
    "Following the pattern above, we can look do the same analysis with the calculated LogP.  In this case, the two distributions on the right look similar.  Let's look at the statistics and see if they are different. "
   ]
  },
  {
   "cell_type": "code",
   "execution_count": 31,
   "id": "fa66ebc8",
   "metadata": {
    "pycharm": {
     "name": "#%%\n"
    }
   },
   "outputs": [
    {
     "data": {
      "image/png": "[encoded data removed]",
      "text/plain": [
       "<Figure size 800x600 with 1 Axes>"
      ]
     },
     "metadata": {},
     "output_type": "display_data"
    }
   ],
   "source": [
    "ax = sns.boxplot(x=\"era\", y=\"LogP\", data=df_final_drug)\n",
    "ax.set_xlabel(\"Era\");"
   ]
  },
  {
   "cell_type": "markdown",
   "id": "1aad9ff7",
   "metadata": {
    "pycharm": {
     "name": "#%% md\n"
    }
   },
   "source": [
    "Again, we'll use scikit-posthocs to create a heatmap.  In this case we can see that for \"1997-2017\" and \"after 2017\" sets, we cannot invalidate the null hypothesis that that distributions are the same. "
   ]
  },
  {
   "cell_type": "code",
   "execution_count": 32,
   "id": "a2694837",
   "metadata": {
    "pycharm": {
     "name": "#%%\n"
    }
   },
   "outputs": [
    {
     "ename": "TypeError",
     "evalue": "set_ticks() got an unexpected keyword argument 'labels'",
     "output_type": "error",
     "traceback": [
      "\u001b[0;31m---------------------------------------------------------------------------\u001b[0m",
      "\u001b[0;31mTypeError\u001b[0m                                 Traceback (most recent call last)",
      "Cell \u001b[0;32mIn[32], line 5\u001b[0m\n\u001b[1;32m      2\u001b[0m pc \u001b[38;5;241m=\u001b[39m sp\u001b[38;5;241m.\u001b[39mposthoc_mannwhitney(df_final_drug, val_col\u001b[38;5;241m=\u001b[39m\u001b[38;5;124m\"\u001b[39m\u001b[38;5;124mLogP\u001b[39m\u001b[38;5;124m\"\u001b[39m, group_col\u001b[38;5;241m=\u001b[39m\u001b[38;5;124m\"\u001b[39m\u001b[38;5;124mera\u001b[39m\u001b[38;5;124m\"\u001b[39m, p_adjust\u001b[38;5;241m=\u001b[39m\u001b[38;5;124m'\u001b[39m\u001b[38;5;124mholm\u001b[39m\u001b[38;5;124m'\u001b[39m)\n\u001b[1;32m      3\u001b[0m heatmap_args \u001b[38;5;241m=\u001b[39m {\u001b[38;5;124m'\u001b[39m\u001b[38;5;124mlinewidths\u001b[39m\u001b[38;5;124m'\u001b[39m: \u001b[38;5;241m0.25\u001b[39m, \u001b[38;5;124m'\u001b[39m\u001b[38;5;124mlinecolor\u001b[39m\u001b[38;5;124m'\u001b[39m: \u001b[38;5;124m'\u001b[39m\u001b[38;5;124m0.5\u001b[39m\u001b[38;5;124m'\u001b[39m, \u001b[38;5;124m'\u001b[39m\u001b[38;5;124mclip_on\u001b[39m\u001b[38;5;124m'\u001b[39m: \u001b[38;5;28;01mFalse\u001b[39;00m, \u001b[38;5;124m'\u001b[39m\u001b[38;5;124msquare\u001b[39m\u001b[38;5;124m'\u001b[39m: \u001b[38;5;28;01mTrue\u001b[39;00m,\n\u001b[1;32m      4\u001b[0m                 \u001b[38;5;124m'\u001b[39m\u001b[38;5;124mcbar_ax_bbox\u001b[39m\u001b[38;5;124m'\u001b[39m: [\u001b[38;5;241m0.80\u001b[39m, \u001b[38;5;241m0.35\u001b[39m, \u001b[38;5;241m0.04\u001b[39m, \u001b[38;5;241m0.3\u001b[39m]}\n\u001b[0;32m----> 5\u001b[0m _ \u001b[38;5;241m=\u001b[39m \u001b[43msp\u001b[49m\u001b[38;5;241;43m.\u001b[39;49m\u001b[43msign_plot\u001b[49m\u001b[43m(\u001b[49m\u001b[43mpc\u001b[49m\u001b[43m,\u001b[49m\u001b[43m \u001b[49m\u001b[38;5;241;43m*\u001b[39;49m\u001b[38;5;241;43m*\u001b[39;49m\u001b[43mheatmap_args\u001b[49m\u001b[43m)\u001b[49m\n",
      "File \u001b[0;32m~/anaconda3/envs/rdkit/lib/python3.8/site-packages/scikit_posthocs/_plotting.py:247\u001b[0m, in \u001b[0;36msign_plot\u001b[0;34m(x, g, flat, labels, cmap, cbar_ax_bbox, ax, **kwargs)\u001b[0m\n\u001b[1;32m    244\u001b[0m cbar_ax \u001b[38;5;241m=\u001b[39m hax\u001b[38;5;241m.\u001b[39mfigure\u001b[38;5;241m.\u001b[39madd_axes(cbar_ax_bbox \u001b[38;5;129;01mor\u001b[39;00m [\u001b[38;5;241m0.95\u001b[39m, \u001b[38;5;241m0.35\u001b[39m, \u001b[38;5;241m0.04\u001b[39m, \u001b[38;5;241m0.3\u001b[39m])\n\u001b[1;32m    245\u001b[0m cbar \u001b[38;5;241m=\u001b[39m ColorbarBase(cbar_ax, cmap\u001b[38;5;241m=\u001b[39m(ListedColormap(cmap[\u001b[38;5;241m2\u001b[39m:] \u001b[38;5;241m+\u001b[39m [cmap[\u001b[38;5;241m1\u001b[39m]])), norm\u001b[38;5;241m=\u001b[39mcolors\u001b[38;5;241m.\u001b[39mNoNorm(),\n\u001b[1;32m    246\u001b[0m                     boundaries\u001b[38;5;241m=\u001b[39m[\u001b[38;5;241m0\u001b[39m, \u001b[38;5;241m1\u001b[39m, \u001b[38;5;241m2\u001b[39m, \u001b[38;5;241m3\u001b[39m, \u001b[38;5;241m4\u001b[39m])\n\u001b[0;32m--> 247\u001b[0m \u001b[43mcbar\u001b[49m\u001b[38;5;241;43m.\u001b[39;49m\u001b[43mset_ticks\u001b[49m\u001b[43m(\u001b[49m\u001b[38;5;28;43mlist\u001b[39;49m\u001b[43m(\u001b[49m\u001b[43mnp\u001b[49m\u001b[38;5;241;43m.\u001b[39;49m\u001b[43mlinspace\u001b[49m\u001b[43m(\u001b[49m\u001b[38;5;241;43m0\u001b[39;49m\u001b[43m,\u001b[49m\u001b[43m \u001b[49m\u001b[38;5;241;43m3\u001b[39;49m\u001b[43m,\u001b[49m\u001b[43m \u001b[49m\u001b[38;5;241;43m4\u001b[39;49m\u001b[43m)\u001b[49m\u001b[43m)\u001b[49m\u001b[43m,\u001b[49m\u001b[43m \u001b[49m\u001b[43mlabels\u001b[49m\u001b[38;5;241;43m=\u001b[39;49m\u001b[43m[\u001b[49m\u001b[38;5;124;43m'\u001b[39;49m\u001b[38;5;124;43mp < 0.001\u001b[39;49m\u001b[38;5;124;43m'\u001b[39;49m\u001b[43m,\u001b[49m\u001b[43m \u001b[49m\u001b[38;5;124;43m'\u001b[39;49m\u001b[38;5;124;43mp < 0.01\u001b[39;49m\u001b[38;5;124;43m'\u001b[39;49m\u001b[43m,\u001b[49m\u001b[43m \u001b[49m\u001b[38;5;124;43m'\u001b[39;49m\u001b[38;5;124;43mp < 0.05\u001b[39;49m\u001b[38;5;124;43m'\u001b[39;49m\u001b[43m,\u001b[49m\u001b[43m \u001b[49m\u001b[38;5;124;43m'\u001b[39;49m\u001b[38;5;124;43mNS\u001b[39;49m\u001b[38;5;124;43m'\u001b[39;49m\u001b[43m]\u001b[49m\u001b[43m)\u001b[49m\n\u001b[1;32m    249\u001b[0m cbar\u001b[38;5;241m.\u001b[39moutline\u001b[38;5;241m.\u001b[39mset_linewidth(\u001b[38;5;241m1\u001b[39m)\n\u001b[1;32m    250\u001b[0m cbar\u001b[38;5;241m.\u001b[39moutline\u001b[38;5;241m.\u001b[39mset_edgecolor(\u001b[38;5;124m'\u001b[39m\u001b[38;5;124m0.5\u001b[39m\u001b[38;5;124m'\u001b[39m)\n",
      "\u001b[0;31mTypeError\u001b[0m: set_ticks() got an unexpected keyword argument 'labels'"
     ]
    },
    {
     "data": {
      "image/png": "[encoded data removed]",
      "text/plain": [
       "<Figure size 800x600 with 2 Axes>"
      ]
     },
     "metadata": {},
     "output_type": "display_data"
    }
   ],
   "source": [
    "sns.set(rc={'figure.figsize': (8, 6)}, font_scale=1.5)\n",
    "pc = sp.posthoc_mannwhitney(df_final_drug, val_col=\"LogP\", group_col=\"era\", p_adjust='holm')\n",
    "heatmap_args = {'linewidths': 0.25, 'linecolor': '0.5', 'clip_on': False, 'square': True,\n",
    "                'cbar_ax_bbox': [0.80, 0.35, 0.04, 0.3]}\n",
    "_ = sp.sign_plot(pc, **heatmap_args)"
   ]
  },
  {
   "cell_type": "markdown",
   "id": "65069bcc",
   "metadata": {
    "collapsed": false,
    "jupyter": {
     "outputs_hidden": false
    },
    "pycharm": {
     "name": "#%% md\n"
    }
   },
   "source": [
    "### Acknowledgements\n",
    "\n",
    "I'd like to thank Emanuele Perola for motivating this notebook and Brian Kelley and Joann Prescott-Roy for helpful discussions."
   ]
  },
  {
   "cell_type": "code",
   "execution_count": null,
   "id": "65d00a26",
   "metadata": {
    "collapsed": false,
    "jupyter": {
     "outputs_hidden": false
    },
    "pycharm": {
     "name": "#%%\n"
    }
   },
   "outputs": [],
   "source": []
  }
 ],
 "metadata": {
  "kernelspec": {
   "display_name": "Python 3 (ipykernel)",
   "language": "python",
   "name": "python3"
  },
  "language_info": {
   "codemirror_mode": {
    "name": "ipython",
    "version": 3
   },
   "file_extension": ".py",
   "mimetype": "text/x-python",
   "name": "python",
   "nbconvert_exporter": "python",
   "pygments_lexer": "ipython3",
   "version": "3.8.17"
  }
 },
 "nbformat": 4,
 "nbformat_minor": 5
}
